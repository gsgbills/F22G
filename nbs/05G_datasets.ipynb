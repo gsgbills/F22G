{
 "cells": [
  {
   "cell_type": "code",
   "execution_count": 1,
   "id": "da7e553f",
   "metadata": {},
   "outputs": [],
   "source": [
    "#| default_exp datasets"
   ]
  },
  {
   "cell_type": "raw",
   "id": "cd92985f-8ac0-4517-99bd-086c9e74f75c",
   "metadata": {},
   "source": [
    "%pip install -q torchvision datasets ipywidgets\n",
    "\n",
    "import torchvision, datasets, ipywidgets\n",
    "print(torchvision.__version__, datasets.__version__, ipywidgets.__version__)"
   ]
  },
  {
   "cell_type": "code",
   "execution_count": 2,
   "id": "bbbde839-d80b-43f5-8ba4-666a0d977b57",
   "metadata": {},
   "outputs": [],
   "source": [
    "#|export\n",
    "from __future__ import annotations\n",
    "import pickle,gzip,math,os,time,shutil,torch,matplotlib as mpl,numpy as np,matplotlib.pyplot as plt\n",
    "from pathlib import Path\n",
    "from operator import itemgetter\n",
    "from itertools import zip_longest\n",
    "import fastcore.all as fc\n",
    "\n",
    "from torch import tensor,nn,optim\n",
    "from torch.utils.data import DataLoader,default_collate\n",
    "import torch.nn.functional as F\n",
    "\n",
    "from miniai.training import *\n",
    "#from ../F22G.training import *\n",
    "import torchvision.transforms.functional as TF\n",
    "from fastcore.test import test_close"
   ]
  },
  {
   "cell_type": "code",
   "execution_count": 3,
   "id": "45dc4dc7",
   "metadata": {},
   "outputs": [],
   "source": [
    "torch.set_printoptions(precision=2, linewidth=140, sci_mode=False)\n",
    "torch.manual_seed(1)\n",
    "mpl.rcParams['image.cmap'] = 'gray_r'"
   ]
  },
  {
   "cell_type": "code",
   "execution_count": 4,
   "id": "84a947f2",
   "metadata": {},
   "outputs": [],
   "source": [
    "import logging\n",
    "logging.disable(logging.WARNING)"
   ]
  },
  {
   "cell_type": "markdown",
   "id": "d47ef9d3",
   "metadata": {},
   "source": [
    "## Hugging Face Datasets"
   ]
  },
  {
   "cell_type": "markdown",
   "id": "75e47d9e-d303-4b3f-b28c-1f3509c89e11",
   "metadata": {},
   "source": [
    "After `pip install datasets` we can import the following:  "
   ]
  },
  {
   "cell_type": "code",
   "execution_count": 5,
   "id": "99021b42-5e8e-4e1f-86cb-e3700165b8ab",
   "metadata": {},
   "outputs": [],
   "source": [
    "from datasets import load_dataset,load_dataset_builder"
   ]
  },
  {
   "cell_type": "markdown",
   "id": "fad9eae7-c803-4b72-8bd0-e2ba485f4a8c",
   "metadata": {},
   "source": [
    "The dataset [Fashion_mnist](https://en.wikipedia.org/wiki/Fashion_MNIST), like MNIST, has 28x28 grayscale images, 10 categories, 60,000 training and 10,000 test examples. \n",
    "It's a direct drop-in replacement for MNIST.\n",
    "We just give the name to `load_dataset_builder`, to get a `ds_builder` which (used to have metadata about this dataset, e.g., in `.info.description` but now it is empty): "
   ]
  },
  {
   "cell_type": "code",
   "execution_count": 6,
   "id": "95ce04f5",
   "metadata": {},
   "outputs": [
    {
     "name": "stdout",
     "output_type": "stream",
     "text": [
      "DatasetInfo(description='', citation='', homepage='', license='', features={'image': Image(mode=None, decode=True, id=None), 'label': ClassLabel(names=['T - shirt / top', 'Trouser', 'Pullover', 'Dress', 'Coat', 'Sandal', 'Shirt', 'Sneaker', 'Bag', 'Ankle boot'], id=None)}, post_processed=None, supervised_keys=None, builder_name='parquet', dataset_name='fashion_mnist', config_name='fashion_mnist', version=0.0.0, splits={'train': SplitInfo(name='train', num_bytes=31304707, num_examples=60000, shard_lengths=None, dataset_name='fashion_mnist'), 'test': SplitInfo(name='test', num_bytes=5235160, num_examples=10000, shard_lengths=None, dataset_name='fashion_mnist')}, download_checksums={'hf://datasets/fashion_mnist@531be5e2ccc9dba0c201ad3ae567a4f3d16ecdd2/fashion_mnist/train-00000-of-00001.parquet': {'num_bytes': 30931277, 'checksum': None}, 'hf://datasets/fashion_mnist@531be5e2ccc9dba0c201ad3ae567a4f3d16ecdd2/fashion_mnist/test-00000-of-00001.parquet': {'num_bytes': 5175617, 'checksum': None}}, download_size=36106894, post_processing_size=None, dataset_size=36539867, size_in_bytes=72646761)\n"
     ]
    }
   ],
   "source": [
    "name = \"fashion_mnist\"\n",
    "ds_builder = load_dataset_builder(name)\n",
    "print(ds_builder.info)"
   ]
  },
  {
   "cell_type": "markdown",
   "id": "211b264c-c927-4bcb-ac1b-1a64d394650f",
   "metadata": {},
   "source": [
    "\n",
    "The dataset builder will tell us what's in this dataset, via dictionaries rather  than tuples."
   ]
  },
  {
   "cell_type": "code",
   "execution_count": 7,
   "id": "7b8e6589",
   "metadata": {},
   "outputs": [
    {
     "data": {
      "text/plain": [
       "{'image': Image(mode=None, decode=True, id=None),\n",
       " 'label': ClassLabel(names=['T - shirt / top', 'Trouser', 'Pullover', 'Dress', 'Coat', 'Sandal', 'Shirt', 'Sneaker', 'Bag', 'Ankle boot'], id=None)}"
      ]
     },
     "execution_count": 7,
     "metadata": {},
     "output_type": "execute_result"
    }
   ],
   "source": [
    "ds_builder.info.features"
   ]
  },
  {
   "cell_type": "markdown",
   "id": "714f5b01-bcdc-4457-9c89-9bf0b9e59803",
   "metadata": {},
   "source": [
    "So there's `image` of type `Image`, and `label` of type `ClassLabel`, 10 classes with listed names. "
   ]
  },
  {
   "cell_type": "markdown",
   "id": "52b3e4fc-3505-4c53-911b-9f53aedd7c52",
   "metadata": {},
   "source": [
    "`info.splits` is the size  of the training/test split and the number of examples."
   ]
  },
  {
   "cell_type": "code",
   "execution_count": 8,
   "id": "1671912b",
   "metadata": {},
   "outputs": [
    {
     "data": {
      "text/plain": [
       "{'train': SplitInfo(name='train', num_bytes=31304707, num_examples=60000, shard_lengths=None, dataset_name='fashion_mnist'),\n",
       " 'test': SplitInfo(name='test', num_bytes=5235160, num_examples=10000, shard_lengths=None, dataset_name='fashion_mnist')}"
      ]
     },
     "execution_count": 8,
     "metadata": {},
     "output_type": "execute_result"
    }
   ],
   "source": [
    "ds_builder.info.splits"
   ]
  },
  {
   "cell_type": "markdown",
   "id": "e20f3334-154d-473c-b1b2-dbf41f3a9665",
   "metadata": {},
   "source": [
    "`load_dataset()` downloads the dataset, caches it and returns a dataset  dictionary. \n",
    "A dataset dictionary is like what Fastai calls the datasets class. \n",
    "HF calls it the `DatasetDict` class, and it contains a `train` and a `test` datasets,\n",
    "which are like the datasets that we created in the previous notebook.  "
   ]
  },
  {
   "cell_type": "code",
   "execution_count": 9,
   "id": "eacdc83c",
   "metadata": {},
   "outputs": [
    {
     "data": {
      "text/plain": [
       "DatasetDict({\n",
       "    train: Dataset({\n",
       "        features: ['image', 'label'],\n",
       "        num_rows: 60000\n",
       "    })\n",
       "    test: Dataset({\n",
       "        features: ['image', 'label'],\n",
       "        num_rows: 10000\n",
       "    })\n",
       "})"
      ]
     },
     "execution_count": 9,
     "metadata": {},
     "output_type": "execute_result"
    }
   ],
   "source": [
    "dsd = load_dataset(name)\n",
    "dsd"
   ]
  },
  {
   "cell_type": "markdown",
   "id": "87669469-3f4e-4c28-a25f-cd5b44ad0220",
   "metadata": {},
   "source": [
    "Let's examine the `train` and `test` datasets by extracting items from the `dsd` dictionary and assigning them to variables. \n",
    "Upon inspection, we see that each entry is a dictionary with `image` and `label` keys, representing the image and label, respectively."
   ]
  },
  {
   "cell_type": "code",
   "execution_count": 10,
   "id": "6ef15b80",
   "metadata": {},
   "outputs": [
    {
     "data": {
      "text/plain": [
       "({'image': <PIL.PngImagePlugin.PngImageFile image mode=L size=28x28>,\n",
       "  'label': 9},\n",
       " {'image': <PIL.PngImagePlugin.PngImageFile image mode=L size=28x28>,\n",
       "  'label': 9})"
      ]
     },
     "execution_count": 10,
     "metadata": {},
     "output_type": "execute_result"
    }
   ],
   "source": [
    "train,test = dsd['train'],dsd['test']\n",
    "train[0], test[0]"
   ]
  },
  {
   "cell_type": "markdown",
   "id": "9e6fad94-fece-41d5-b53f-a605180ce01a",
   "metadata": {},
   "source": [
    "To avoid writing image and  label in strings, we store them as `x` and `y`."
   ]
  },
  {
   "cell_type": "code",
   "execution_count": 11,
   "id": "ba989e62-a161-46f3-b17e-c7afb96157d9",
   "metadata": {},
   "outputs": [
    {
     "data": {
      "text/plain": [
       "('image', 'label')"
      ]
     },
     "execution_count": 11,
     "metadata": {},
     "output_type": "execute_result"
    }
   ],
   "source": [
    "x,y = ds_builder.info.features\n",
    "x,y"
   ]
  },
  {
   "cell_type": "markdown",
   "id": "563c6c01-47d4-4e4f-a350-7700d400dff8",
   "metadata": {},
   "source": [
    "We grab the first image `[0][x]`. "
   ]
  },
  {
   "cell_type": "code",
   "execution_count": 12,
   "id": "4c7b6fcc",
   "metadata": {},
   "outputs": [
    {
     "data": {
      "image/jpeg": "[encoded data removed]",
      "image/png": "[encoded data removed]",
      "text/plain": [
       "<PIL.PngImagePlugin.PngImageFile image mode=L size=28x28>"
      ]
     },
     "execution_count": 12,
     "metadata": {},
     "output_type": "execute_result"
    }
   ],
   "source": [
    "img = train[0][x]\n",
    "img "
   ]
  },
  {
   "cell_type": "markdown",
   "id": "ea465a07-6d59-4a41-8144-d934a87fac58",
   "metadata": {},
   "source": [
    "Lets grab the first 5 images and the first 5 labels."
   ]
  },
  {
   "cell_type": "code",
   "execution_count": 13,
   "id": "3db1778b",
   "metadata": {},
   "outputs": [
    {
     "data": {
      "text/plain": [
       "[9, 0, 0, 3, 0]"
      ]
     },
     "execution_count": 13,
     "metadata": {},
     "output_type": "execute_result"
    }
   ],
   "source": [
    "xb = train[:5][x]\n",
    "yb = train[:5][y]\n",
    "yb"
   ]
  },
  {
   "cell_type": "markdown",
   "id": "313dd529-df96-4e4b-badc-a82cca103b9f",
   "metadata": {},
   "source": [
    "We know what the names of the labels are."
   ]
  },
  {
   "cell_type": "code",
   "execution_count": 14,
   "id": "e54b5bcc",
   "metadata": {},
   "outputs": [
    {
     "data": {
      "text/plain": [
       "ClassLabel(names=['T - shirt / top', 'Trouser', 'Pullover', 'Dress', 'Coat', 'Sandal', 'Shirt', 'Sneaker', 'Bag', 'Ankle boot'], id=None)"
      ]
     },
     "execution_count": 14,
     "metadata": {},
     "output_type": "execute_result"
    }
   ],
   "source": [
    "featy = train.features[y]\n",
    "featy"
   ]
  },
  {
   "cell_type": "markdown",
   "id": "15f39f2c-b94d-4872-a39b-61c29c7a3074",
   "metadata": {},
   "source": [
    "We can see what the `yb` map to by grabbing those features. "
   ]
  },
  {
   "cell_type": "code",
   "execution_count": 15,
   "id": "fcef590a",
   "metadata": {},
   "outputs": [
    {
     "data": {
      "text/plain": [
       "['Ankle boot',\n",
       " 'T - shirt / top',\n",
       " 'T - shirt / top',\n",
       " 'Dress',\n",
       " 'T - shirt / top']"
      ]
     },
     "execution_count": 15,
     "metadata": {},
     "output_type": "execute_result"
    }
   ],
   "source": [
    "featy.int2str(yb)"
   ]
  },
  {
   "cell_type": "markdown",
   "id": "671a6f9d-ad49-4bbf-a9bf-d062342248eb",
   "metadata": {},
   "source": [
    "The collate function `collate_fn` returns a dictionary (a common practice for Hugging Face).\n",
    "It processes a batch `b` by converting each image to a tensor and stacking them. \n",
    "It then retrieves the labels `o[y]` and stacks these integers (no explicit stacking needed as it's already a tensor). \n",
    "Finally, it returns the processed images and labels within a dictionary."
   ]
  },
  {
   "cell_type": "code",
   "execution_count": 16,
   "id": "6b8790b8",
   "metadata": {},
   "outputs": [],
   "source": [
    "def collate_fn(b):\n",
    "    return {x:torch.stack([TF.to_tensor(o[x]) for o in b]),\n",
    "            y:tensor([o[y] for o in b])}"
   ]
  },
  {
   "cell_type": "markdown",
   "id": "41408422-f556-4ab3-adc5-bb1ca8f11a1a",
   "metadata": {},
   "source": [
    "The `collate_fn` receives the batch `b` directly. \n",
    "It iterates through each item `o in b`, extracts the value associated with the key `o[x]`, and converts it into a tensor. These tensors are then stacked together. \n",
    "This \"manual\" approach offers a straightforward way to handle collation, especially useful for custom operations where framework abstractions might be less desirable."
   ]
  },
  {
   "cell_type": "markdown",
   "id": "8b8f5a0c-8bc5-4d02-9c46-c0ae43b2aa95",
   "metadata": {},
   "source": [
    "HF expects transforms to return the new version of the data (below `b`)"
   ]
  },
  {
   "cell_type": "markdown",
   "id": "0c346d3b-60d0-4840-9346-7f4ebf759a8e",
   "metadata": {},
   "source": [
    "We create a DataLoader `dl` using `collate_fn`, with `batch_size=16`.\n",
    "We grab one batch `b`. \n",
    "`b[x].shape` is a `[16,1,28,28]` (16 images, 1 channel, 28x28).\n",
    "The 16 `y` labels of the batch `b[y]` are there."
   ]
  },
  {
   "cell_type": "code",
   "execution_count": 17,
   "id": "36b7be22",
   "metadata": {},
   "outputs": [
    {
     "data": {
      "text/plain": [
       "(torch.Size([16, 1, 28, 28]),\n",
       " tensor([9, 0, 0, 3, 0, 2, 7, 2, 5, 5, 0, 9, 5, 5, 7, 9]))"
      ]
     },
     "execution_count": 17,
     "metadata": {},
     "output_type": "execute_result"
    }
   ],
   "source": [
    "dl = DataLoader(train, collate_fn=collate_fn, batch_size=16)\n",
    "b = next(iter(dl))\n",
    "b[x].shape,b[y]"
   ]
  },
  {
   "cell_type": "markdown",
   "id": "4bb64192-c74c-4cb6-93ee-11e3c0dd629a",
   "metadata": {},
   "source": [
    "Notice the absence of any explicit data transformations. All the data processing is intentionally placed within the `collate_fn` function. This strategy provides a way to exert direct control over the data preparation pipeline, effectively \"skipping\" the inherent abstractions of the framework and encapsulating all the necessary operations within the collate function."
   ]
  },
  {
   "cell_type": "code",
   "execution_count": 18,
   "id": "45a6c6b4",
   "metadata": {},
   "outputs": [],
   "source": [
    "def transforms(b):\n",
    "    b[x] = [TF.to_tensor(o) for o in b[x]]\n",
    "    return b"
   ]
  },
  {
   "cell_type": "markdown",
   "id": "c713c856-cc27-434d-829d-c7efdf093045",
   "metadata": {},
   "source": [
    "#### [with_transform](https://huggingface.co/docs/datasets/package_reference/main_classes#datasets.Dataset.with_transform)\n",
    "Hugging Face datasets offer a `.with_transform(t)` method, which applies a specified transformation `t` to batches in real-time when accessing dataset items via `__getitem__`. \n",
    "This enables dynamic data augmentation, as the transformation is applied on-the-fly for each individual element. \n",
    "The resulting dataset, `tds`, is compatible with PyTorch's DataLoader.\n",
    "<br>\n",
    "   **NB:** \n",
    "* PyTorch's default collation mechanism handles dictionaries of tensors, thus obviating the need for a custom collation function. \n",
    "* Hugging Face datasets expect the `with_transform()` function to return the updated dataset object."
   ]
  },
  {
   "cell_type": "code",
   "execution_count": 19,
   "id": "7ce1985b",
   "metadata": {},
   "outputs": [
    {
     "data": {
      "text/plain": [
       "(torch.Size([16, 1, 28, 28]),\n",
       " tensor([9, 0, 0, 3, 0, 2, 7, 2, 5, 5, 0, 9, 5, 5, 7, 9]))"
      ]
     },
     "execution_count": 19,
     "metadata": {},
     "output_type": "execute_result"
    }
   ],
   "source": [
    "tds = train.with_transform(transforms)\n",
    "dl = DataLoader(tds, batch_size=16)\n",
    "b = next(iter(dl))\n",
    "b[x].shape,b[y]"
   ]
  },
  {
   "cell_type": "markdown",
   "id": "6c2f121a-947a-4959-b1a5-fc0ea6f94f15",
   "metadata": {},
   "source": [
    "We aim to define `_transformi` to operate in-place, modifying the data directly without an explicit return. \n",
    "We define `_transformi` similarly to prior transforms, but crucially, **it lacks a return statement**, performing its operations in-place as before, but without returning the modified data."
   ]
  },
  {
   "cell_type": "code",
   "execution_count": 20,
   "id": "1ad7ecde",
   "metadata": {},
   "outputs": [],
   "source": [
    "def _transformi(b): b[x] = [torch.flatten(TF.to_tensor(o)) for o in b[x]]"
   ]
  },
  {
   "cell_type": "markdown",
   "id": "25b2f079-7d08-407c-872f-61d27646f8d9",
   "metadata": {},
   "source": [
    "Note: \n",
    "A useful programming trick is to create a higher-order function `inplace(f)` that wraps an in-place function `f`.\n",
    "This wrapper function calls `f` and then returns the modified value.\n",
    "The inplace function works as follows:\n",
    "\n",
    "*    Takes a function f as input.\n",
    "*    Creates a new function `_f` that:\n",
    "-        Calls f on the input, allowing in-place modification.\n",
    "-        Returns the modified input.\n",
    "\n",
    "This approach can be used to adapt in-place transformations for pipelines, such as in Hugging Face."
   ]
  },
  {
   "cell_type": "code",
   "execution_count": 21,
   "id": "54cfb4a8",
   "metadata": {},
   "outputs": [],
   "source": [
    "#|export\n",
    "def inplace(f):\n",
    "    def _f(b):\n",
    "        f(b)\n",
    "        return b\n",
    "    return _f"
   ]
  },
  {
   "cell_type": "markdown",
   "id": "0cbef0e9-5fe3-45d4-97bc-930b776621cc",
   "metadata": {},
   "source": [
    "We pass the in-place transformation function `_transformi` to the inplace function, which generates a new function `transformi`. \n",
    "This new function executes the original in-place operation and returns the modified result.\n",
    "The inplace function acts as a wrapper, taking a function A and returning a new function B that:\n",
    "\n",
    "*    Executes A\n",
    "*    Returns the modified result\n",
    "\n",
    "By wrapping `_transformi` with `inplace`, we create `transformi`, which is now compatible with Hugging Face's `with_transform()` method, allowing for in-place modification and returning the result as expected."
   ]
  },
  {
   "cell_type": "code",
   "execution_count": 22,
   "id": "8ffe8f17",
   "metadata": {},
   "outputs": [],
   "source": [
    "transformi = inplace(_transformi)"
   ]
  },
  {
   "cell_type": "code",
   "execution_count": 23,
   "id": "f8b1248f",
   "metadata": {},
   "outputs": [
    {
     "data": {
      "text/plain": [
       "(torch.Size([784]), 9)"
      ]
     },
     "execution_count": 23,
     "metadata": {},
     "output_type": "execute_result"
    }
   ],
   "source": [
    "r = train.with_transform(transformi)[0]\n",
    "r[x].shape,r[y]"
   ]
  },
  {
   "cell_type": "markdown",
   "id": "5207d534-354a-47fb-b1ae-e1ea47a9a2b9",
   "metadata": {},
   "source": [
    "This is a common Python pattern, so there is a decorator (synctactic sugar), `@inplace`, which will replace the call with the inplace."
   ]
  },
  {
   "cell_type": "code",
   "execution_count": 24,
   "id": "d6e8c480",
   "metadata": {},
   "outputs": [],
   "source": [
    "@inplace\n",
    "def transformi(b): b[x] = [torch.flatten(TF.to_tensor(o)) for o in b[x]]"
   ]
  },
  {
   "cell_type": "markdown",
   "id": "6e4f441c-fd7c-49a0-a4fc-d477b0bf58e1",
   "metadata": {},
   "source": [
    "Now we can create `tdsf` a transformed dataset using `transformi`."
   ]
  },
  {
   "cell_type": "code",
   "execution_count": 25,
   "id": "07367168",
   "metadata": {},
   "outputs": [
    {
     "data": {
      "text/plain": [
       "(torch.Size([784]), 9)"
      ]
     },
     "execution_count": 25,
     "metadata": {},
     "output_type": "execute_result"
    }
   ],
   "source": [
    "tdsf = train.with_transform(transformi)\n",
    "r = tdsf[0]\n",
    "r[x].shape,r[y]"
   ]
  },
  {
   "cell_type": "markdown",
   "id": "ed5a691f-5186-453e-a868-d895cdc59fa9",
   "metadata": {},
   "source": [
    "### [itemgetter](https://docs.python.org/3/library/operator.html?highlight=itemgetter#operator.itemgetter)\n",
    "`itemgetter(item, ...) --> itemgetter object`\n",
    "<br>\n",
    "Return a callable object that fetches the given item(s) from its operand.\n",
    "After `f = itemgetter(2)`, the call `f(r)` returns `r[2]`.\n",
    "After `g = itemgetter(2, 5, 3)`, the call `g(r)` returns (`r[2], r[5], r[3]`)\n",
    "\n",
    "We can automate with `itemgetter()`, a function that returns a function.\n",
    "Below example, `itemgetter` creates a function `ig(d)` that gets the `a` and `c` items from a dictionary \n",
    "(or something that looks like a dictionary). \n",
    "`d` is a dictionary, `ig(d)` will return the `'a'` and `'c'` values in `d`.  "
   ]
  },
  {
   "cell_type": "code",
   "execution_count": 26,
   "id": "42cd1354",
   "metadata": {},
   "outputs": [
    {
     "data": {
      "text/plain": [
       "(1, 3)"
      ]
     },
     "execution_count": 26,
     "metadata": {},
     "output_type": "execute_result"
    }
   ],
   "source": [
    "d = dict(a=1,b=2,c=3)\n",
    "ig = itemgetter('a','c')\n",
    "ig(d)"
   ]
  },
  {
   "cell_type": "markdown",
   "id": "2213ad06-f602-4fe1-b255-65baba6d9cd1",
   "metadata": {},
   "source": [
    "#### What \"looks like\" a dictionary?\n",
    "In Python, the focus is on an object's behavior rather than its type. \n",
    "When we use square brackets to index into an object, Python internally calls the object's `__getitem__` method.\n",
    "Below is a custom class `D` with a `__getitem__` method that returns specific values based on the key `k`. For example:\n",
    "`D` returns 1 if `k=a` or 2 if `k=b` or 3 otherwise.\n",
    "This allows us to define how our object behaves when indexed, regardless of its underlying type."
   ]
  },
  {
   "cell_type": "code",
   "execution_count": 27,
   "id": "71fb4583-dc9e-49a9-bcd7-a1bd89cc4a30",
   "metadata": {},
   "outputs": [
    {
     "data": {
      "text/plain": [
       "(1, 3)"
      ]
     },
     "execution_count": 27,
     "metadata": {},
     "output_type": "execute_result"
    }
   ],
   "source": [
    "class D:\n",
    "    def __getitem__(self, k): return 1 if k=='a' else 2 if k=='b' else 3\n",
    "\n",
    "d2 = D()   # d2 is not a dict, but ittemgetter still works \n",
    "ig(d2)"
   ]
  },
  {
   "attachments": {},
   "cell_type": "markdown",
   "id": "1647530f-a85a-4ac8-8d71-c733e60dde4e",
   "metadata": {},
   "source": [
    "The class `D` also works fine with an `itemgetter` because `D` implements `__getitem__`.\n",
    "Above illustrates dynamicity of Python (vs compiled languages)"
   ]
  },
  {
   "cell_type": "code",
   "execution_count": 28,
   "id": "9dd178af",
   "metadata": {},
   "outputs": [
    {
     "data": {
      "text/plain": [
       "['image', 'label']"
      ]
     },
     "execution_count": 28,
     "metadata": {},
     "output_type": "execute_result"
    }
   ],
   "source": [
    "list(tdsf.features)"
   ]
  },
  {
   "cell_type": "markdown",
   "id": "20dbf9c9-2a01-47f9-ab70-e82389130a17",
   "metadata": {},
   "source": [
    "#### default_collate()\n",
    "PyTorch has a default collation function, `default_collate()`, \n",
    "which takes the matching keys, grabs their values and stacks them together.\n",
    "Below example illustrates."
   ]
  },
  {
   "cell_type": "code",
   "execution_count": 29,
   "id": "0f336d70-86c5-4430-90f3-5b0484d6b441",
   "metadata": {},
   "outputs": [
    {
     "data": {
      "text/plain": [
       "({'a': [1], 'b': [2]}, {'a': [3], 'b': [4]})"
      ]
     },
     "execution_count": 29,
     "metadata": {},
     "output_type": "execute_result"
    }
   ],
   "source": [
    "batch = dict(a=[1],b=[2]), dict(a=[3],b=[4])\n",
    "batch"
   ]
  },
  {
   "cell_type": "code",
   "execution_count": 30,
   "id": "f83235d5-a60d-45c0-a247-f627d72922c6",
   "metadata": {},
   "outputs": [
    {
     "data": {
      "text/plain": [
       "{'a': [tensor([1, 3])], 'b': [tensor([2, 4])]}"
      ]
     },
     "execution_count": 30,
     "metadata": {},
     "output_type": "execute_result"
    }
   ],
   "source": [
    "default_collate(batch)  # Default Pytorch collate function"
   ]
  },
  {
   "cell_type": "markdown",
   "id": "01761f02-4628-44f1-9693-60e60f43eaa9",
   "metadata": {},
   "source": [
    "`collate_dict(ds)` takes a Dataset `ds` and creates a `itemgetter` function for the features in `ds`, here  `image` and `label`. \n",
    "We're going to return a function `_f` that is going to call our `itemgetter(default_collate(b))`. \n",
    "It's going to take a dictionary and collate it into a tuple."
   ]
  },
  {
   "cell_type": "code",
   "execution_count": 31,
   "id": "eb08b36d-75ba-4498-bb2c-2a561f746152",
   "metadata": {},
   "outputs": [],
   "source": [
    "#|export\n",
    "def collate_dict(ds): \n",
    "    '''take a dict and collate it into a tuple.'''\n",
    "    get = itemgetter(*ds.features)\n",
    "    def _f(b): \n",
    "        #import pdb; pdb.set_trace()\n",
    "        return get(default_collate(b))\n",
    "    return _f"
   ]
  },
  {
   "cell_type": "markdown",
   "id": "8ba05939-b463-446c-a805-58937232b470",
   "metadata": {},
   "source": [
    "TODO: inside `collate_dict(ds)` `import pdb, pdb.set_trace()`, put breakpoints, step through, see exactly  what's happening.\n",
    "Also more importantly, `set_trace` inside the innermost `_f` function. "
   ]
  },
  {
   "attachments": {},
   "cell_type": "markdown",
   "id": "f0e10fe6-9e1e-44e9-9102-d6988843fbff",
   "metadata": {},
   "source": [
    "Below we call `DataLoader` on the transform dataset `tdsf`, passing in a function `collate_dict()` that returns a (collation) function.  \n",
    "Now this looks like what we had in the *minibatch* notebook. \n",
    "Notice that `dlf` is returning a tuple (`xb,yb`) , not a dictionary. "
   ]
  },
  {
   "cell_type": "code",
   "execution_count": 32,
   "id": "383173e9",
   "metadata": {},
   "outputs": [
    {
     "data": {
      "text/plain": [
       "(torch.Size([4, 784]), tensor([9, 0, 0, 3]))"
      ]
     },
     "execution_count": 32,
     "metadata": {},
     "output_type": "execute_result"
    }
   ],
   "source": [
    "dlf = DataLoader(tdsf, batch_size=4, collate_fn=collate_dict(tdsf))\n",
    "xb,yb = next(iter(dlf))\n",
    "xb.shape,yb"
   ]
  },
  {
   "cell_type": "markdown",
   "id": "6e15d374-e5c4-4ed3-8243-e69ab126ae00",
   "metadata": {},
   "source": [
    "This pattern is crucial when working with Hugging Face datasets, which typically use dictionaries, whereas many PyTorch components expect tuples.\n",
    "To bridge this gap, we can use `collate_dict` as a collation function in the DataLoader. It converts dictionary outputs to tuples, making them compatible with PyTorch's expectations."
   ]
  },
  {
   "cell_type": "markdown",
   "id": "8f0277c6",
   "metadata": {},
   "source": [
    "## Plotting images with [plt.imshow](https://matplotlib.org/stable/api/_as_gen/matplotlib.pyplot.imshow.html)\n",
    "We want to visualize what a dataset looks like, without using fastai's plotting library.\n",
    "We've got to learn how to do everything, e.g., the basic way to plot an image using matplotlib. (`plt` is `matplotlib.pyplot`).\n",
    "We can create a batch `b`, grab the x part in `xb`, grab the first item `xb[0]`, and [`plt.imshow()`](https://matplotlib.org/stable/api/_as_gen/matplotlib.pyplot.imshow.html) displays the image."
   ]
  },
  {
   "cell_type": "code",
   "execution_count": 33,
   "id": "e9710424",
   "metadata": {},
   "outputs": [
    {
     "data": {
      "image/png": "[encoded data removed]",
      "text/plain": [
       "<Figure size 640x480 with 1 Axes>"
      ]
     },
     "metadata": {},
     "output_type": "display_data"
    }
   ],
   "source": [
    "b = next(iter(dl)) # b is a dict\n",
    "xb = b['image']  # xb is a minibatch\n",
    "img = xb[0] # img is a single image\n",
    "plt.imshow(img[0]);"
   ]
  },
  {
   "cell_type": "code",
   "execution_count": 34,
   "id": "36c68a9c-991d-4697-921b-ffc501914395",
   "metadata": {},
   "outputs": [
    {
     "data": {
      "text/plain": [
       "(dict, torch.Size([16, 1, 28, 28]), torch.Size([1, 28, 28]))"
      ]
     },
     "execution_count": 34,
     "metadata": {},
     "output_type": "execute_result"
    }
   ],
   "source": [
    "type(b), xb.shape, img.shape"
   ]
  },
  {
   "cell_type": "markdown",
   "id": "dc9950cf-6f04-429c-aa2f-c6f658364e84",
   "metadata": {},
   "source": [
    "Let's define `show_image()`, which calls `imshow()`, and does a few extra things to ensure that: \n",
    "(1) it's in the correct axes order, (2) that's on the CPU,\n",
    "(3) If it's not a NumPy array, convert it to a NumPy array, (4) set the size.\n",
    "We'll be able to pass in an existing axis, set a title if we want to.\n",
    "And remove the ugly axis because we're showing an image."
   ]
  },
  {
   "cell_type": "code",
   "execution_count": 35,
   "id": "ef84d1b0",
   "metadata": {},
   "outputs": [],
   "source": [
    "#|export\n",
    "@fc.delegates(plt.Axes.imshow)\n",
    "def show_image(im, ax=None, figsize=None, title=None, noframe=True, **kwargs):\n",
    "    \"Show a PIL or PyTorch image on `ax`.\"\n",
    "    if fc.hasattrs(im, ('cpu','permute','detach')):\n",
    "        im = im.detach().cpu()\n",
    "        if len(im.shape)==3 and im.shape[0]<5: \n",
    "            im=im.permute(1,2,0) #correct axis order\n",
    "    elif not isinstance(im,np.ndarray): \n",
    "        im=np.array(im) # convert to np\n",
    "    if im.shape[-1]==1: im=im[...,0]\n",
    "    if ax is None: _,ax = plt.subplots(figsize=figsize)\n",
    "    ax.imshow(im, **kwargs)\n",
    "    if title is not None: ax.set_title(title)\n",
    "    ax.set_xticks([]) \n",
    "    ax.set_yticks([]) \n",
    "    if noframe: ax.axis('off') # remove the ugly axis because we're showing an image.\n",
    "    return ax"
   ]
  },
  {
   "cell_type": "code",
   "execution_count": 36,
   "id": "77221d36",
   "metadata": {},
   "outputs": [
    {
     "name": "stdout",
     "output_type": "stream",
     "text": [
      "Help on function show_image in module __main__:\n",
      "\n",
      "show_image(im, ax=None, figsize=None, title=None, noframe=True, *, cmap=None, norm=None, aspect=None, interpolation=None, alpha=None, vmin=None, vmax=None, colorizer=None, origin=None, extent=None, interpolation_stage=None, filternorm=True, filterrad=4.0, resample=None, url=None, data=None)\n",
      "    Show a PIL or PyTorch image on `ax`.\n",
      "\n"
     ]
    }
   ],
   "source": [
    "help(show_image)"
   ]
  },
  {
   "cell_type": "markdown",
   "id": "286b7b70-c87e-4a8d-9a99-c3d6c5f9dba2",
   "metadata": {},
   "source": [
    "**kwargs** \n",
    "The `help()` on a function often shows features beyond its direct implementation. \n",
    "This is enabled by `**kwargs` and the `@delegates` decorator from fastcore.\n",
    "<br>\n",
    "`**kwargs` in a function's definition allows it to accept any number of extra, unnamed arguments, which are collected into a dictionary called `kwargs`. \n",
    "When the function is called and `**kwargs` is passed along (e.g., `imshow(im, **kwargs)`, \n",
    "these extra arguments are unpacked and treated as individual arguments for that target function.\n",
    "<br>\n",
    "The `@delegates` decorator automatically incorporates documentation from the target function (e.g., `imshow()`) into the original function's help output. This allows the original function to leverage the capabilities and documentation of the delegated function via `**kwargs`, effectively extending its functionality and documentation."
   ]
  },
  {
   "cell_type": "code",
   "execution_count": 37,
   "id": "2209898e",
   "metadata": {},
   "outputs": [
    {
     "data": {
      "image/png": "[encoded data removed]",
      "text/plain": [
       "<Figure size 200x200 with 1 Axes>"
      ]
     },
     "metadata": {},
     "output_type": "display_data"
    }
   ],
   "source": [
    "show_image(img, figsize=(2,2));"
   ]
  },
  {
   "cell_type": "markdown",
   "id": "f4d532bb-aadf-4711-906a-3bc9efe9e51c",
   "metadata": {},
   "source": [
    "#### [Matplotlib subplots](https://matplotlib.org/stable/api/_as_gen/matplotlib.pyplot.subplot.html) \n",
    "are useful, e.g., **to plot two images next to each other**.\n",
    "`Matplotlib.subplots` creates multiple plots, where we pass the number of rows and columns, and it returns \"axes\", \n",
    "which are the individual plots.\n",
    "Below we call `show_image()` on the first image `xb[0]`, passing in `axs[0]`, and a second image `xb[1]` on the second axis, etc."
   ]
  },
  {
   "cell_type": "code",
   "execution_count": 38,
   "id": "e0330575-e6d4-4c8b-b703-40dbb9ae0e23",
   "metadata": {},
   "outputs": [
    {
     "data": {
      "image/png": "[encoded data removed]",
      "text/plain": [
       "<Figure size 640x480 with 3 Axes>"
      ]
     },
     "metadata": {},
     "output_type": "display_data"
    }
   ],
   "source": [
    "fig,axs = plt.subplots(1,3)\n",
    "show_image(xb[0], axs[0])\n",
    "show_image(xb[1], axs[1]);\n",
    "show_image(xb[2], axs[2]);"
   ]
  },
  {
   "cell_type": "markdown",
   "id": "42a142ca-9629-4b36-b081-82d96ae06a4a",
   "metadata": {},
   "source": [
    "Lets add additional functionality to `subplots`, using `@delegates`. \n",
    "We take `kwargs` and pass it through to  `subplots()`.\n",
    "The goal is to automatically create an appropriate figure size,\n",
    "and be able to add a title for the whole set of subplots.  "
   ]
  },
  {
   "cell_type": "code",
   "execution_count": 39,
   "id": "366112a5",
   "metadata": {},
   "outputs": [],
   "source": [
    "#|export\n",
    "@fc.delegates(plt.subplots, keep=True)\n",
    "def subplots(\n",
    "    nrows:int=1, # Number of rows in returned axes grid\n",
    "    ncols:int=1, # Number of columns in returned axes grid\n",
    "    figsize:tuple=None, # Width, height in inches of the returned figure\n",
    "    imsize:int=3, # Size (in inches) of images that will be displayed in the returned figure\n",
    "    suptitle:str=None, # Title to be set to returned figure\n",
    "    **kwargs\n",
    "): # fig and axs\n",
    "    \"A figure and set of subplots to display images of `imsize` inches.\"\n",
    "    if figsize is None: figsize=(ncols*imsize, nrows*imsize)\n",
    "    fig,ax = plt.subplots(nrows, ncols, figsize=figsize, **kwargs)\n",
    "    if suptitle is not None: fig.suptitle(suptitle)\n",
    "    if nrows*ncols==1: ax = array([ax])\n",
    "    return fig,ax"
   ]
  },
  {
   "cell_type": "code",
   "execution_count": 40,
   "id": "8018591c",
   "metadata": {},
   "outputs": [],
   "source": [
    "from nbdev.showdoc import show_doc"
   ]
  },
  {
   "cell_type": "markdown",
   "id": "ee44b6f4-df43-443f-afb3-ebc589c66e7a",
   "metadata": {},
   "source": [
    "#### `nvdev.showdoc` \n",
    "will automatically create documentation for the library. \n",
    "For the stuff we added, it's telling what each of these parameters is, \n",
    "their type, defaults, and information about each one.  \n",
    "That information is automatically coming from the comments inside the function definition. \n",
    "We call these documents.\n",
    "This is all automatic stuff done by fastcore and  nbdev. "
   ]
  },
  {
   "cell_type": "code",
   "execution_count": 41,
   "id": "f53aae66",
   "metadata": {},
   "outputs": [
    {
     "data": {
      "text/markdown": [
       "---\n",
       "\n",
       "### subplots\n",
       "\n",
       ">      subplots (nrows:int=1, ncols:int=1, figsize:tuple=None, imsize:int=3,\n",
       ">                suptitle:str=None,\n",
       ">                sharex:\"bool|Literal['none','all','row','col']\"=False,\n",
       ">                sharey:\"bool|Literal['none','all','row','col']\"=False,\n",
       ">                squeeze:bool=True, width_ratios:Sequence[float]|None=None,\n",
       ">                height_ratios:Sequence[float]|None=None,\n",
       ">                subplot_kw:dict[str,Any]|None=None,\n",
       ">                gridspec_kw:dict[str,Any]|None=None, **kwargs)\n",
       "\n",
       "*A figure and set of subplots to display images of `imsize` inches.*\n",
       "\n",
       "|    | **Type** | **Default** | **Details** |\n",
       "| -- | -------- | ----------- | ----------- |\n",
       "| nrows | int | 1 | Number of rows in returned axes grid |\n",
       "| ncols | int | 1 | Number of columns in returned axes grid |\n",
       "| figsize | tuple | None | Width, height in inches of the returned figure |\n",
       "| imsize | int | 3 | Size (in inches) of images that will be displayed in the returned figure |\n",
       "| suptitle | str | None | Title to be set to returned figure |\n",
       "| sharex | bool \\| Literal['none', 'all', 'row', 'col'] | False |  |\n",
       "| sharey | bool \\| Literal['none', 'all', 'row', 'col'] | False |  |\n",
       "| squeeze | bool | True |  |\n",
       "| width_ratios | Sequence[float] \\| None | None |  |\n",
       "| height_ratios | Sequence[float] \\| None | None |  |\n",
       "| subplot_kw | dict[str, Any] \\| None | None |  |\n",
       "| gridspec_kw | dict[str, Any] \\| None | None |  |\n",
       "| kwargs | VAR_KEYWORD |  |  |"
      ],
      "text/plain": [
       "---\n",
       "\n",
       "### subplots\n",
       "\n",
       ">      subplots (nrows:int=1, ncols:int=1, figsize:tuple=None, imsize:int=3,\n",
       ">                suptitle:str=None,\n",
       ">                sharex:\"bool|Literal['none','all','row','col']\"=False,\n",
       ">                sharey:\"bool|Literal['none','all','row','col']\"=False,\n",
       ">                squeeze:bool=True, width_ratios:Sequence[float]|None=None,\n",
       ">                height_ratios:Sequence[float]|None=None,\n",
       ">                subplot_kw:dict[str,Any]|None=None,\n",
       ">                gridspec_kw:dict[str,Any]|None=None, **kwargs)\n",
       "\n",
       "*A figure and set of subplots to display images of `imsize` inches.*\n",
       "\n",
       "|    | **Type** | **Default** | **Details** |\n",
       "| -- | -------- | ----------- | ----------- |\n",
       "| nrows | int | 1 | Number of rows in returned axes grid |\n",
       "| ncols | int | 1 | Number of columns in returned axes grid |\n",
       "| figsize | tuple | None | Width, height in inches of the returned figure |\n",
       "| imsize | int | 3 | Size (in inches) of images that will be displayed in the returned figure |\n",
       "| suptitle | str | None | Title to be set to returned figure |\n",
       "| sharex | bool \\| Literal['none', 'all', 'row', 'col'] | False |  |\n",
       "| sharey | bool \\| Literal['none', 'all', 'row', 'col'] | False |  |\n",
       "| squeeze | bool | True |  |\n",
       "| width_ratios | Sequence[float] \\| None | None |  |\n",
       "| height_ratios | Sequence[float] \\| None | None |  |\n",
       "| subplot_kw | dict[str, Any] \\| None | None |  |\n",
       "| gridspec_kw | dict[str, Any] \\| None | None |  |\n",
       "| kwargs | VAR_KEYWORD |  |  |"
      ]
     },
     "execution_count": 41,
     "metadata": {},
     "output_type": "execute_result"
    }
   ],
   "source": [
    "show_doc(subplots)"
   ]
  },
  {
   "cell_type": "code",
   "execution_count": 42,
   "id": "20546a79",
   "metadata": {},
   "outputs": [
    {
     "data": {
      "image/png": "[encoded data removed]",
      "text/plain": [
       "<Figure size 600x600 with 9 Axes>"
      ]
     },
     "metadata": {},
     "output_type": "display_data"
    }
   ],
   "source": [
    "fig,axs = subplots(3,3, imsize=2)\n",
    "imgs = xb[:8]\n",
    "for ax,img in zip(axs.flat,imgs): show_image(img, ax)"
   ]
  },
  {
   "cell_type": "markdown",
   "id": "cff836ab-a683-45bf-9d14-8fdf8756e2b3",
   "metadata": {},
   "source": [
    "Lets fix the above 9th box ugliness."
   ]
  },
  {
   "cell_type": "code",
   "execution_count": 43,
   "id": "aeaf024b",
   "metadata": {},
   "outputs": [],
   "source": [
    "#|export\n",
    "@fc.delegates(subplots)\n",
    "def get_grid(\n",
    "    n:int, # Number of axes\n",
    "    nrows:int=None, # Number of rows, defaulting to `int(math.sqrt(n))`\n",
    "    ncols:int=None, # Number of columns, defaulting to `ceil(n/rows)`\n",
    "    title:str=None, # If passed, title set to the figure\n",
    "    weight:str='bold', # Title font weight\n",
    "    size:int=14, # Title font size\n",
    "    **kwargs,\n",
    "): # fig and axs\n",
    "    \"Return a grid of `n` axes, `rows` by `cols`\"\n",
    "    if nrows: ncols = ncols or int(np.ceil(n/nrows))\n",
    "    elif ncols: nrows = nrows or int(np.ceil(n/ncols))\n",
    "    else:\n",
    "        nrows = int(math.sqrt(n))\n",
    "        ncols = int(np.ceil(n/nrows))\n",
    "    fig,axs = subplots(nrows, ncols, **kwargs)\n",
    "    for i in range(n, nrows*ncols): axs.flat[i].set_axis_off()\n",
    "    if title is not None: fig.suptitle(title, weight=weight, size=size)\n",
    "    return fig,axs"
   ]
  },
  {
   "cell_type": "code",
   "execution_count": 44,
   "id": "c422a7de",
   "metadata": {},
   "outputs": [
    {
     "data": {
      "image/png": "[encoded data removed]",
      "text/plain": [
       "<Figure size 300x300 with 9 Axes>"
      ]
     },
     "metadata": {},
     "output_type": "display_data"
    }
   ],
   "source": [
    "fig,axs = get_grid(8, nrows=3, imsize=1)\n",
    "for ax,img in zip(axs.flat,imgs): show_image(img, ax)"
   ]
  },
  {
   "cell_type": "code",
   "execution_count": 45,
   "id": "02f44439",
   "metadata": {},
   "outputs": [],
   "source": [
    "#|export\n",
    "@fc.delegates(subplots)\n",
    "def show_images(ims:list, # Images to show\n",
    "                nrows:int=1, # Number of rows in grid\n",
    "                ncols:int|None=None, # Number of columns in grid (auto-calculated if None)\n",
    "                titles:list|None=None, # Optional list of titles for each image\n",
    "                **kwargs):\n",
    "    \"Show all images `ims` as subplots with `rows` using `titles`\"\n",
    "    axs = get_grid(len(ims), **kwargs)[1].flat\n",
    "    for im,t,ax in zip_longest(ims, titles or [], axs): show_image(im, ax=ax, title=t)"
   ]
  },
  {
   "cell_type": "code",
   "execution_count": 46,
   "id": "91e0e2ac",
   "metadata": {},
   "outputs": [],
   "source": [
    "yb = b['label']\n",
    "lbls = yb[:8]"
   ]
  },
  {
   "cell_type": "code",
   "execution_count": 47,
   "id": "87b04249-91e0-422c-84f9-f2b5bda25f77",
   "metadata": {},
   "outputs": [
    {
     "data": {
      "text/plain": [
       "['Top',\n",
       " 'Trouser',\n",
       " 'Pullover',\n",
       " 'Dress',\n",
       " 'Coat',\n",
       " 'Sandal',\n",
       " 'Shirt',\n",
       " 'Sneaker',\n",
       " 'Bag',\n",
       " 'Ankleboot']"
      ]
     },
     "execution_count": 47,
     "metadata": {},
     "output_type": "execute_result"
    }
   ],
   "source": [
    "#names = \"Top Trouser Pullover Dress Coat Sandal Shirt Sneaker Bag Boot\".split()\n",
    "names = ds_builder.info.features['label'].names \n",
    "names[0] = \"Top\"\n",
    "names[9] = \"Ankleboot\"\n",
    "names"
   ]
  },
  {
   "cell_type": "code",
   "execution_count": 48,
   "id": "a7aacc2a",
   "metadata": {},
   "outputs": [
    {
     "data": {
      "text/plain": [
       "'Ankleboot Top Top Dress Top Pullover Sneaker Pullover'"
      ]
     },
     "execution_count": 48,
     "metadata": {},
     "output_type": "execute_result"
    }
   ],
   "source": [
    "titles = itemgetter(*lbls)(names)\n",
    "' '.join(titles)"
   ]
  },
  {
   "cell_type": "code",
   "execution_count": 49,
   "id": "33b9ac1b",
   "metadata": {},
   "outputs": [
    {
     "data": {
      "image/png": "[encoded data removed]",
      "text/plain": [
       "<Figure size 680x340 with 8 Axes>"
      ]
     },
     "metadata": {},
     "output_type": "display_data"
    }
   ],
   "source": [
    "show_images(imgs, imsize=1.7, titles=titles)"
   ]
  },
  {
   "cell_type": "markdown",
   "id": "8bfffe7b-8506-42fc-8f4b-1d89bef7868e",
   "metadata": {},
   "source": [
    "`class DataLoaders:` defined similar to before.\n",
    "We pass 2 dataloaders `dls[:2]` and store them in `.train`, `.valid`.\n",
    "<br>\n",
    "We define a `@classmethod` `from_dd()`, that calls `DataLoader` on each of the `ds` \n",
    "(dataset dictionary items), with the `batch_size` and instantiate the class.\n",
    "NB: `cls` is the corresponding `self`.\n",
    "<br>\n",
    "Python's [@classmethod](https://docs.python.org/3/library/functions.html#classmethod)\n",
    "allows us to later write `DataLoaders.`something, e.g., `DataLoaders.from_dd`.\n",
    "NB: \n",
    "We could have put this in `__init__()`.\n",
    "Nothing on the device because that didn't work (previous notebook)."
   ]
  },
  {
   "cell_type": "code",
   "execution_count": 50,
   "id": "4e6d50c0-87bd-4c08-bfe1-95029e0949c6",
   "metadata": {},
   "outputs": [],
   "source": [
    "#|export\n",
    "class DataLoaders:\n",
    "    def __init__(self, *dls): self.train,self.valid = dls[:2]\n",
    "\n",
    "    @classmethod\n",
    "    def from_dd(cls, dd, batch_size, as_tuple=True, **kwargs):\n",
    "        f = collate_dict(dd['train'])\n",
    "        return cls(*get_dls(*dd.values(), bs=batch_size, collate_fn=f, **kwargs))\n",
    "     "
   ]
  },
  {
   "cell_type": "markdown",
   "id": "ff61b773",
   "metadata": {},
   "source": [
    "## Export -"
   ]
  },
  {
   "cell_type": "code",
   "execution_count": 51,
   "id": "9bc1cc9f-afb9-4c06-959c-11926d4dc785",
   "metadata": {},
   "outputs": [],
   "source": [
    "import nbdev; nbdev.nbdev_export()"
   ]
  },
  {
   "cell_type": "raw",
   "id": "c204d4f6-1ca7-4115-824e-6242d026bcc9",
   "metadata": {},
   "source": [
    "import nbdev \n",
    "print(nbdev.__version__) \n",
    "import pdb; pdb.set_trace()\n",
    "nbdev.nbdev_export()"
   ]
  }
 ],
 "metadata": {
  "kernelspec": {
   "display_name": "Python 3 (ipykernel)",
   "language": "python",
   "name": "python3"
  },
  "language_info": {
   "codemirror_mode": {
    "name": "ipython",
    "version": 3
   },
   "file_extension": ".py",
   "mimetype": "text/x-python",
   "name": "python",
   "nbconvert_exporter": "python",
   "pygments_lexer": "ipython3",
   "version": "3.12.8"
  }
 },
 "nbformat": 4,
 "nbformat_minor": 5
}
