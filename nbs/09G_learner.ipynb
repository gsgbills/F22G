{
 "cells": [
  {
   "cell_type": "markdown",
   "id": "d62ab591-c127-4991-8533-0cd16e42d063",
   "metadata": {},
   "source": [
    "# Learner\n",
    "The learner framework will enable rapid experimentation and provide tools for introspection, multi-process CUDA acceleration, data augmentation, and flexible architecture testing."
   ]
  },
  {
   "cell_type": "code",
   "execution_count": 1,
   "id": "da7e553f",
   "metadata": {},
   "outputs": [],
   "source": [
    "#| default_exp learnerFULL"
   ]
  },
  {
   "cell_type": "markdown",
   "id": "cab19179-75d4-4c6b-87f0-264e8c6a6a16",
   "metadata": {},
   "source": [
    "<span style='color:Blue'> \n",
    "NB: JH made changes to the code AFTER the lesson where this was presented.\n",
    "To find those changes go to the course repo, add /compare in GitHub, and compare across different things.\n",
    "One of the examples is to compare across different times, e.g., the master Branch now versus one day ago.\n",
    "To change that to vs. 7 days ago, change in the URL to 7, i.e., to see the commits changes from last week. \n",
    "</span>"
   ]
  },
  {
   "cell_type": "code",
   "execution_count": 2,
   "id": "846e1328-dbf4-42cb-a955-d8543ff81758",
   "metadata": {},
   "outputs": [],
   "source": [
    "import logging\n",
    "logging.disable(logging.WARNING)\n",
    "\n",
    "import warnings\n",
    "warnings.filterwarnings('ignore')"
   ]
  },
  {
   "cell_type": "code",
   "execution_count": 3,
   "id": "7e8f8491",
   "metadata": {},
   "outputs": [],
   "source": [
    "#|export\n",
    "import pickle,gzip,math,os,time,shutil,torch,matplotlib as mpl,numpy as np,matplotlib.pyplot as plt\n",
    "import fastcore.all as fc\n",
    "from collections.abc import Mapping\n",
    "from pathlib import Path\n",
    "from operator import attrgetter,itemgetter\n",
    "from functools import partial\n",
    "from copy import copy\n",
    "from contextlib import contextmanager\n",
    "from warnings import warn\n",
    "\n",
    "from torch import tensor,nn,optim\n",
    "from torch.utils.data import DataLoader, default_collate\n",
    "import torch.nn.functional as F\n",
    "import torchvision.transforms.functional as TF\n",
    "from datasets import load_dataset,load_dataset_builder\n",
    "\n",
    "from miniai.datasets import *\n",
    "from miniai.conv import *\n",
    "\n",
    "from fastprogress import progress_bar,master_bar\n",
    "from fastcore.test import test_close"
   ]
  },
  {
   "cell_type": "code",
   "execution_count": 4,
   "id": "84a947f2",
   "metadata": {},
   "outputs": [],
   "source": [
    "torch.set_printoptions(precision=2, linewidth=140, sci_mode=False)\n",
    "torch.manual_seed(1)\n",
    "mpl.rcParams['image.cmap'] = 'gray'"
   ]
  },
  {
   "cell_type": "markdown",
   "id": "0fa525fe-d797-4431-bf4a-f93383d1e304",
   "metadata": {},
   "source": [
    "### Preliminaries: \n",
    "From previous notebooks, using HuggingFace [Dataset](https://huggingface.co/docs/datasets/index).\n",
    "The `load_dataset_builder()` function loads a dataset builder to inspect a dataset’s attributes without committing to downloading it."
   ]
  },
  {
   "cell_type": "code",
   "execution_count": 5,
   "id": "c7aca6e0-fc91-403c-b28e-5bd3086ab804",
   "metadata": {},
   "outputs": [
    {
     "data": {
      "text/plain": [
       "('image', 'label')"
      ]
     },
     "execution_count": 5,
     "metadata": {},
     "output_type": "execute_result"
    }
   ],
   "source": [
    "name = \"fashion_mnist\"\n",
    "ds_builder = load_dataset_builder(name)\n",
    "x,y = ds_builder.info.features\n",
    "x, y"
   ]
  },
  {
   "cell_type": "code",
   "execution_count": 6,
   "id": "b22868a9",
   "metadata": {},
   "outputs": [],
   "source": [
    "dsd = load_dataset(name)"
   ]
  },
  {
   "cell_type": "markdown",
   "id": "2e2fd0e2-d55b-4605-ba67-e909fe873f42",
   "metadata": {},
   "source": [
    "We define an `@inplace` transform `transformi(b)` which given a batch `b` \n",
    "converts each image `b[x]` (PIL Image or numpy.ndarray) into a tensor with Torchvision's [to_tensor](https://pytorch.org/vision/stable/generated/torchvision.transforms.functional.to_tensor.html).\n",
    "<br>\n",
    "`tds` is the transformed dataset dictionary, via Huggingface [Datasets](https://huggingface.co/docs/datasets/index) [with_transform()](https://huggingface.co/docs/datasets/v2.12.0/en/package_reference/main_classes#datasets.Dataset.with_transform)."
   ]
  },
  {
   "cell_type": "code",
   "execution_count": 7,
   "id": "88ec27b0-67dd-4284-adc2-06bd131d05c0",
   "metadata": {},
   "outputs": [],
   "source": [
    "@inplace\n",
    "def transformi(b): b[x] = [torch.flatten(TF.to_tensor(o)) for o in b[x]]\n",
    "\n",
    "tds = dsd.with_transform(transformi)"
   ]
  },
  {
   "cell_type": "markdown",
   "id": "16ed12d4-4be6-4b95-8dfe-e3e58efb06af",
   "metadata": {},
   "source": [
    "We create `dls`, an instance of the *miniai* `Dataloaders` with parallel processing. `dt` is the training dataloader."
   ]
  },
  {
   "cell_type": "code",
   "execution_count": 8,
   "id": "9cb11029",
   "metadata": {},
   "outputs": [
    {
     "data": {
      "text/plain": [
       "(torch.Size([1024, 784]), tensor([5, 4, 9, 4, 3, 0, 6, 5, 7, 6]))"
      ]
     },
     "execution_count": 8,
     "metadata": {},
     "output_type": "execute_result"
    }
   ],
   "source": [
    "bs = 1024\n",
    "dls = DataLoaders.from_dd(dd=tds, batch_size=bs, num_workers=4)\n",
    "dt = dls.train\n",
    "xb,yb = next(iter(dt))\n",
    "xb.shape,yb[:10]   # xb has bs images, yb has bs labels"
   ]
  },
  {
   "cell_type": "markdown",
   "id": "18454f2f-190d-4220-8db7-d4911f69147a",
   "metadata": {
    "tags": []
   },
   "source": [
    "### Basic Learner"
   ]
  },
  {
   "cell_type": "markdown",
   "id": "2949810d-8525-4cfc-b37f-3c5ee1f782e1",
   "metadata": {
    "jp-MarkdownHeadingCollapsed": true,
    "tags": []
   },
   "source": [
    "<mark> A learner is something that is going to train or learn a particular `model`,\n",
    "using a particular set of:  data loaders `dls`, loss function `loss_func`, learning rate `lr`, optimization function `opt_func`. </mark> <br>\n",
    "`BasicLearner` is a simple learner that fits on one screen and replaces our `fit` function.\n",
    "Lets look at some of its methods:\n",
    "```Python\n",
    " def __init__(self, model, dls, loss_func, lr, opt_func=optim.SGD): fc.store_attr()\n",
    "```\n",
    "The `__init__` calls `fc.store_attr()` to avoid (the boilerplate of) storing each of the input items separately.\n",
    "```Python\n",
    "   def fit(self, n_epochs):\n",
    "        self.accs,self.losses,self.ns = [],[],[]\n",
    "        self.model.to(def_device)\n",
    "        self.opt = self.opt_func(self.model.parameters(), self.lr)\n",
    "        #self.n_epochs = n_epochs  #What for?\n",
    "        for self.epoch in range(n_epochs):\n",
    "            self.one_epoch(True)\n",
    "            with torch.no_grad(): self.one_epoch(False)\n",
    "```            \n",
    "The `fit()` method has `.accs` for tracking accuracy (for classification where we can use accuracy), `.losses`, and `.ns`. \n",
    "We put the `model` on the `def_device`, create the optimizer `opt`, (WHY? store how many `n_epochs` we're going through).\n",
    "For each `epoch` we call `one_epoch()`, first to train (`True`) and then for validation evaluation (`False`).\n",
    "```Python\n",
    "def one_epoch(self, train):\n",
    "        self.model.training = train\n",
    "        dl = self.dls.train if train else self.dls.valid\n",
    "        for self.num,self.batch in enumerate(dl): self.one_batch()\n",
    "        n = sum(self.ns)\n",
    "        print(self.epoch, self.model.training, sum(self.losses).item()/n, sum(self.accs).item()/n)\n",
    "```\n",
    "In `one_epoch` we set `model.training` to training/validation mode, \n",
    "and set `dl` to the `train` or `valid` dataset accordingly.  \n",
    "Using `enumerate(dl)` we go through each `batch` in the `dl` dataloader and call `one_batch()`.\n",
    "```python\n",
    "def one_batch(self):\n",
    "        self.xb,self.yb = to_device(self.batch)\n",
    "        self.preds = self.model(self.xb)\n",
    "        self.loss = self.loss_func(self.preds, self.yb)\n",
    "        if self.model.training:\n",
    "            self.loss.backward()\n",
    "            self.opt.step()\n",
    "            self.opt.zero_grad()\n",
    "        with torch.no_grad(): self.calc_stats()\n",
    "```\n",
    "`one_batch()` saves the `xb` and `yb` parts of the batch, \n",
    "calls the `.model` saving the results in `.preds`, \n",
    "calls the loss function `loss_func` with the `.preds` and targets `yb`.\n",
    "If it is training it does the backward pass (`loss.backward(); opt.step(); opt.zero_grad()`).\n",
    "Then it `calc_stats()` to calculate the statistics (`accs, losses`) which are printed at the end of `one_epoch`."
   ]
  },
  {
   "cell_type": "code",
   "execution_count": 9,
   "id": "d733c9b0",
   "metadata": {},
   "outputs": [],
   "source": [
    "class BasicLearner:\n",
    "    def __init__(self, model, dls, loss_func, lr, opt_func=optim.SGD): fc.store_attr()\n",
    "\n",
    "    def one_batch(self):\n",
    "        self.xb,self.yb = to_device(self.batch)\n",
    "        self.preds = self.model(self.xb)\n",
    "        self.loss = self.loss_func(self.preds, self.yb)\n",
    "        if self.model.training:\n",
    "            self.loss.backward()\n",
    "            self.opt.step()\n",
    "            self.opt.zero_grad()\n",
    "        with torch.no_grad(): self.calc_stats()\n",
    "\n",
    "    def calc_stats(self):\n",
    "        acc = (self.preds.argmax(dim=1)==self.yb).float().sum()\n",
    "        self.accs.append(acc)\n",
    "        n = len(self.xb)\n",
    "        self.losses.append(self.loss*n)\n",
    "        self.ns.append(n)\n",
    "\n",
    "    def one_epoch(self, train):\n",
    "        self.model.training = train\n",
    "        dl = self.dls.train if train else self.dls.valid\n",
    "        for self.num,self.batch in enumerate(dl): self.one_batch()\n",
    "        n = sum(self.ns)\n",
    "        print(self.epoch, \"\\t\", self.model.training, \"\\t\", f\"{sum(self.losses).item()/n:.4f}\", f\"{sum(self.accs).item()/n:.4f}\")\n",
    "         \n",
    "    def fit(self, n_epochs):\n",
    "        self.accs,self.losses,self.ns = [],[],[]\n",
    "        self.model.to(def_device)\n",
    "        self.opt = self.opt_func(self.model.parameters(), self.lr)\n",
    "        #self.n_epochs = n_epochs   #Removed by GSG as useless\n",
    "        print(\"epoch training \\t loss\\taccuracy\")\n",
    "        for self.epoch in range(n_epochs):\n",
    "            self.one_epoch(True)\n",
    "            with torch.no_grad(): self.one_epoch(False)"
   ]
  },
  {
   "attachments": {},
   "cell_type": "markdown",
   "id": "cbecdb3e-6ced-4c4b-8d8c-d40c78471ac7",
   "metadata": {},
   "source": [
    "`BasicLearner` is a simple starting point but lacks flexibility, limiting its use to multi-class classification tasks that rely on accuracy. \n",
    "It can't handle tasks like autoencoders that require custom prediction and calculation logic.\n",
    "\n",
    "Lets define a simple `model` (Linear, ReLU, Linear) to test `BasicLearner`, and try it with the (MNIST) `dls`."
   ]
  },
  {
   "cell_type": "code",
   "execution_count": 10,
   "id": "1a0218d6-62a4-4422-8ef8-d1a449810247",
   "metadata": {},
   "outputs": [
    {
     "name": "stdout",
     "output_type": "stream",
     "text": [
      "epoch training \t loss\taccuracy\n",
      "0 \t True \t 1.1753 0.5988\n",
      "0 \t False \t 1.1203 0.6136\n",
      "1 \t True \t 0.9328 0.6742\n",
      "1 \t False \t 0.9116 0.6811\n"
     ]
    }
   ],
   "source": [
    "m,nh = 28*28,50\n",
    "model = nn.Sequential(nn.Linear(m,nh), nn.ReLU(), nn.Linear(nh,10))\n",
    "\n",
    "learn = BasicLearner(model, dls, loss_func=F.cross_entropy, lr=0.2)\n",
    "learn.fit(2)"
   ]
  },
  {
   "cell_type": "markdown",
   "id": "65d9d20f-bf90-4d80-9d5f-eb8e2b911228",
   "metadata": {},
   "source": [
    "Above is epoch number, training, loss, accuracy"
   ]
  },
  {
   "cell_type": "markdown",
   "id": "1742b87c-ec56-4cc7-9acf-448dc09f8b93",
   "metadata": {
    "tags": []
   },
   "source": [
    "## Callbacks"
   ]
  },
  {
   "cell_type": "markdown",
   "id": "3693a8ec-982d-4fd1-b1a9-17f83703d93e",
   "metadata": {},
   "source": [
    "Default exceptions to be ignored."
   ]
  },
  {
   "cell_type": "code",
   "execution_count": 11,
   "id": "534c00e6",
   "metadata": {},
   "outputs": [],
   "source": [
    "#|export\n",
    "class CancelFitException(Exception): pass\n",
    "class CancelBatchException(Exception): pass\n",
    "class CancelEpochException(Exception): pass"
   ]
  },
  {
   "cell_type": "markdown",
   "id": "f9b92dd6-04f4-4630-8abc-14c758d01d88",
   "metadata": {},
   "source": [
    "Note that in `class Callback(): order = 0`\n",
    "so all callbacks have the default order of zero unless we ask otherwise."
   ]
  },
  {
   "cell_type": "code",
   "execution_count": 12,
   "id": "3b3850ac-dce7-4443-9697-0dd907232977",
   "metadata": {},
   "outputs": [],
   "source": [
    "#|export\n",
    "class Callback(): order = 0"
   ]
  },
  {
   "cell_type": "markdown",
   "id": "bf367093-2178-417b-ba2c-a35b8f794486",
   "metadata": {},
   "source": [
    "`run_cbs` will run all the `cb` callbacks in `cbs` in order with [`sorted()`](https://docs.python.org/3/library/functions.html#sorted).\n",
    "It uses [getattr()](https://docs.python.org/3/library/functions.html#getattr) to retrieve the `method` name in the `cb`.\n",
    "(`getattr`: Get a named attribute from an object; `getattr(x, 'y')` is equivalent to `x.y`).\n",
    "If the method exists, it calls it."
   ]
  },
  {
   "cell_type": "code",
   "execution_count": 13,
   "id": "3154924e-af0e-4c9b-a60d-67336f5eab8c",
   "metadata": {},
   "outputs": [],
   "source": [
    "#|export\n",
    "def run_cbs(cbs: list, method_nm: str, learn=None):\n",
    "    for cb in sorted(cbs, key=attrgetter('order')):\n",
    "        method = getattr(cb, method_nm, None)\n",
    "        if method is not None: method(learn)\n",
    "        #else: print(f\"Ignoring callback {method_nm}.\")"
   ]
  },
  {
   "cell_type": "markdown",
   "id": "7d587cf6-76ec-4560-97e0-e90431ae58e1",
   "metadata": {},
   "source": [
    "### Understanding Callbacks - A Simple Callback CompletionCB\n",
    "Let's run a simple callback `CompletionCB` (inherits from the class `Callback`)\n",
    "Before we start fitting a new model it sets its `count=0`, and after each batch it increments `count`.\n",
    "`after_fit()` will print out `count`, i.e., how many batches we've done."
   ]
  },
  {
   "cell_type": "code",
   "execution_count": 14,
   "id": "583ce114",
   "metadata": {},
   "outputs": [],
   "source": [
    "class CompletionCB(Callback):\n",
    "    def before_fit(self, learn): self.count = 0\n",
    "    def before_batch(self, learn): pass\n",
    "    def before_epoch(self, learn): pass\n",
    "    def after_epoch(self, learn): pass\n",
    "    def after_batch(self, learn): self.count += 1\n",
    "    def after_fit(self, learn): print(f'Completed {self.count} batches')"
   ]
  },
  {
   "cell_type": "markdown",
   "id": "5cfeefbe-751f-4fd2-b500-28cca81786f1",
   "metadata": {},
   "source": [
    "(Before we even train a model) lets run (manually) `before_fit`,\n",
    "`after_batch`, and `after_fit` using `run_cbs`, to make sure they work as we want.\n",
    "We set the list of `cbs` to have a single member, `CompletionCB()`."
   ]
  },
  {
   "cell_type": "code",
   "execution_count": 15,
   "id": "c2b41ea4",
   "metadata": {},
   "outputs": [
    {
     "name": "stdout",
     "output_type": "stream",
     "text": [
      "Completed 2 batches\n"
     ]
    }
   ],
   "source": [
    "cbs = [CompletionCB()]\n",
    "run_cbs(cbs=cbs, method_nm='before_fit')\n",
    "run_cbs(cbs, 'after_batch')\n",
    "run_cbs(cbs, 'nonexistent')\n",
    "run_cbs(cbs, 'before_batch')\n",
    "run_cbs(cbs, 'after_batch')\n",
    "run_cbs(cbs, 'after_fit')"
   ]
  },
  {
   "cell_type": "markdown",
   "id": "f78948e4-99ce-4898-989e-c33a9ef49bb4",
   "metadata": {},
   "source": [
    "As expected, it printed \"Completed n batches\". \n",
    "`run_cbs` went through each `cb` (there's only one, `CompletionCB`) in the `cbs` list,\n",
    "used `getattr` to find an attribute with the corresponding name for its `method`, (e.g., `before_fit`), and if it found it then called it. \n",
    "Notice how it ignored `nonexistent`."
   ]
  },
  {
   "cell_type": "markdown",
   "id": "0b82b9e6-aec0-4030-8e03-dcfadccc5f3f",
   "metadata": {},
   "source": [
    "<mark> NB: **Don't just run code *willy-nilly* but understand it by experimenting with it. Don't just use what is already created.** </mark> <br>\n",
    "Lets do it all manually: create a callback `cb`. <br>\n",
    "Q: What happens if we call `getattr` and pass in the `cb` callback?"
   ]
  },
  {
   "cell_type": "code",
   "execution_count": 16,
   "id": "2162aecd-5987-4d24-845c-bebe6b64663a",
   "metadata": {},
   "outputs": [
    {
     "data": {
      "text/plain": [
       "<bound method CompletionCB.after_batch of <__main__.CompletionCB object at 0x14d354a10>>"
      ]
     },
     "execution_count": 16,
     "metadata": {},
     "output_type": "execute_result"
    }
   ],
   "source": [
    "cb = CompletionCB()\n",
    "\n",
    "getattr(cb, 'after_batch', None)"
   ]
  },
  {
   "cell_type": "markdown",
   "id": "04fdacbd-f774-412b-ae39-4cdaeb2b6687",
   "metadata": {},
   "source": [
    "A: `getattr()` returned a method. \n",
    "What happens to that method it gets called? let's try calling it."
   ]
  },
  {
   "cell_type": "code",
   "execution_count": 17,
   "id": "8b402a93-3016-490b-93b4-fc6635dddd55",
   "metadata": {},
   "outputs": [],
   "source": [
    "getattr(cb, 'before_fit', None)(learn)"
   ]
  },
  {
   "cell_type": "markdown",
   "id": "2821aa50-3ea0-48d6-8bd4-703c9650f9a9",
   "metadata": {},
   "source": [
    "when we call the `before_fit` it doesn't do anything interesting.\n",
    "But if we call `after_batch` and then call `after_fit` it does."
   ]
  },
  {
   "cell_type": "code",
   "execution_count": 18,
   "id": "0ba5d6d9-32e8-46c1-abbc-afef6dc5af44",
   "metadata": {},
   "outputs": [
    {
     "name": "stdout",
     "output_type": "stream",
     "text": [
      "Completed 2 batches\n"
     ]
    }
   ],
   "source": [
    "getattr(cb, 'after_batch', None)(learn)\n",
    "getattr(cb, 'after_batch', None)(learn)\n",
    "\n",
    "getattr(cb, 'after_fit', None)(learn)"
   ]
  },
  {
   "cell_type": "markdown",
   "id": "0d3832e6-8c49-4cab-9cd6-fba1cb7aed92",
   "metadata": {
    "tags": []
   },
   "source": [
    "## Basic Callbacks Learner"
   ]
  },
  {
   "cell_type": "markdown",
   "id": "2e584bfd-2dbe-4c78-93ca-7b7511df1075",
   "metadata": {
    "jp-MarkdownHeadingCollapsed": true,
    "tags": []
   },
   "source": [
    "The BasicLearner wasn't flexible, it hard coded that:\n",
    "- we can only calculate accuracy and average loss\n",
    "- we're putting things on a default device\n",
    "- a single learning rate \n",
    "\n",
    "A basic callbacks learner `BasicCBLearner` is an intermediate step. \n",
    "Similar to the `BasicLearner`: it has `fit()`, `one_epoch()`, `one_batch`, etc. <mark> And a few more things..</mark>\n",
    "For example, in `fit()`, after creating the optimizer, `self.opt = self.opt_func(self.model.parameters(), self.lr)`\n",
    "`self.opt_func` defaults to `SGD`, as `opt_func=optim.SGD`.\n",
    "We instantiate `opt`, an SGD object passing in the model's parameters, and the learning rate `lr`.\n",
    "Before (after) each `one_epoch`, `fit` calls `callback('before_fit')` (`callback('after_fit')`).\n",
    "`callback()` calls `run_cbs`, passes in `cbs` (the list of our input callbacks) and the method name `method_nm`.\n",
    "`run_cbs` sorts the callbacks in their order attribute and invokes the methods.\n",
    "Similar pattern inside `one_epoch` for every `one_batch`."
   ]
  },
  {
   "cell_type": "markdown",
   "id": "3d329412-be25-4456-8cb1-bb50b4114d63",
   "metadata": {},
   "source": [
    "Below `BasicCBLearner` was simplified...."
   ]
  },
  {
   "cell_type": "code",
   "execution_count": 19,
   "id": "9daebe85-1e42-4420-94b4-05e79fefb45e",
   "metadata": {},
   "outputs": [],
   "source": [
    "class BasicCBLearner():\n",
    "    def __init__(self, model, dls, loss_func, lr, cbs, opt_func=optim.SGD): fc.store_attr()\n",
    "     \n",
    "    def one_batch(self):\n",
    "        self.preds = self.model(self.batch[0])\n",
    "        self.loss = self.loss_func(self.preds, self.batch[1])\n",
    "        if self.model.training:\n",
    "            self.loss.backward()\n",
    "            self.opt.step()\n",
    "            self.opt.zero_grad()\n",
    "\n",
    "    def one_epoch(self, train):\n",
    "        self.model.train(train)\n",
    "        self.dl = self.dls.train if train else self.dls.valid\n",
    "        try:\n",
    "            self.callback('before_epoch')\n",
    "            for self.iter,self.batch in enumerate(self.dl):\n",
    "                try:\n",
    "                    self.callback('before_batch')\n",
    "                    self.one_batch()\n",
    "                    self.callback('after_batch')\n",
    "                except CancelBatchException: pass\n",
    "            self.callback('after_epoch')\n",
    "        except CancelEpochException: pass\n",
    "    \n",
    "    def fit(self, n_epochs):\n",
    "        #self.n_epochs = n_epochs\n",
    "        #self.epochs = range(n_epochs)\n",
    "        self.opt = self.opt_func(self.model.parameters(), self.lr)\n",
    "        try:\n",
    "            self.callback('before_fit')\n",
    "            for self.epoch in range(n_epochs):\n",
    "                self.one_epoch(True)\n",
    "                self.one_epoch(False)\n",
    "            self.callback('after_fit')\n",
    "        except CancelFitException: pass\n",
    "\n",
    "    def callback(self, method_nm): run_cbs(self.cbs, method_nm, self)"
   ]
  },
  {
   "cell_type": "markdown",
   "id": "e11c18de-c6ac-49d0-91bc-841b558547e6",
   "metadata": {},
   "source": [
    "Notice that there's a `try:` immediately before every `before_` method and a `except` immediately after every `after_` method.\n",
    "Each one has a different exception to look for: \n",
    "`CancelFitException, CancelEpochException` (?, and `CancelBatchException`).\n",
    "These exceptions get ignored, so that any of the callbacks could raise any one of these 3\n",
    "exceptions to say \"I don't want to do this batch please\"."
   ]
  },
  {
   "cell_type": "markdown",
   "id": "8ce43731-e1da-4773-a466-6e0ef81da39c",
   "metadata": {
    "tags": []
   },
   "source": [
    "### Experimenting with exceptions\n",
    "The `get_model()` function below creates a `nn.Sequential` model (Linear, ReLU, Linear).\n",
    "We instantiate the `model` and the `learn` and call `fit()`. \n",
    "Since the only callback is `completionCB`, it just reports the number of batches as expected."
   ]
  },
  {
   "cell_type": "code",
   "execution_count": 20,
   "id": "e1304c01-499c-4415-853f-931803ba1419",
   "metadata": {},
   "outputs": [
    {
     "name": "stdout",
     "output_type": "stream",
     "text": [
      "Completed 64 batches\n"
     ]
    }
   ],
   "source": [
    "m,nh = 28*28,50\n",
    "def get_model(): return nn.Sequential(nn.Linear(m,nh), nn.ReLU(), nn.Linear(nh,10))\n",
    "\n",
    "model = get_model()\n",
    "learn = BasicCBLearner(model, dls, F.cross_entropy, lr=0.2, cbs=[CompletionCB()])\n",
    "learn.fit(1)"
   ]
  },
  {
   "cell_type": "markdown",
   "id": "021d7dd5-9094-47cf-84fc-9ff4a83856d1",
   "metadata": {},
   "source": [
    "This trained `model` didn't print any metrics because it does not have any metric callbacks."
   ]
  },
  {
   "cell_type": "markdown",
   "id": "dcb787dc-67fe-4426-aabb-67cea77d7f45",
   "metadata": {},
   "source": [
    "`SingleBatchCB(Callback)` after a single batch raises a `cancelEpochException`.\n",
    "(Could be useful to just run one batch to make sure a model works)."
   ]
  },
  {
   "cell_type": "code",
   "execution_count": 21,
   "id": "e5c14d8e",
   "metadata": {},
   "outputs": [],
   "source": [
    "class SingleBatchCB(Callback):\n",
    "    def after_batch(self, learn): raise CancelEpochException()"
   ]
  },
  {
   "cell_type": "markdown",
   "id": "e4a8f0ec-45a1-4550-b014-fd0ceea53041",
   "metadata": {},
   "source": [
    "We add `SingleBatchCB` to `cbs`, instantiate a `learn` and call `learn.fit` to try it."
   ]
  },
  {
   "cell_type": "code",
   "execution_count": 22,
   "id": "a7eeb329-d054-4f8d-8ef8-c246eba95548",
   "metadata": {},
   "outputs": [
    {
     "name": "stdout",
     "output_type": "stream",
     "text": [
      "Completed 0 batches\n"
     ]
    }
   ],
   "source": [
    "learn = BasicCBLearner(get_model(), dls, loss_func=F.cross_entropy, lr=0.2, cbs=[SingleBatchCB(), CompletionCB()])\n",
    "learn.fit(1)"
   ]
  },
  {
   "cell_type": "markdown",
   "id": "d6026ed1-ba75-471b-83d7-b2010b9864e5",
   "metadata": {},
   "source": [
    "It ran, but nothing happened because `after_batch` raised `CancelEpochException()` which canceled the Epoch. \n",
    "We can make `SingleBatchCB` run second by setting its `order` higher, e.g., 1 (default order is 0), and `cbs_run` sorts by `order` attribute."
   ]
  },
  {
   "cell_type": "code",
   "execution_count": 23,
   "id": "e944d855-86d7-4e88-a381-8291bd2d7faa",
   "metadata": {},
   "outputs": [],
   "source": [
    "#| export\n",
    "class SingleBatchCB(Callback):\n",
    "    order = 1\n",
    "    def after_batch(self, learn): raise CancelEpochException()"
   ]
  },
  {
   "cell_type": "code",
   "execution_count": 24,
   "id": "29310ca2",
   "metadata": {},
   "outputs": [
    {
     "name": "stdout",
     "output_type": "stream",
     "text": [
      "Completed 2 batches\n"
     ]
    }
   ],
   "source": [
    "learn = BasicCBLearner(get_model(), dls, F.cross_entropy, lr=0.2, cbs=[SingleBatchCB(), CompletionCB()])\n",
    "learn.fit(1)"
   ]
  },
  {
   "cell_type": "markdown",
   "id": "39e810c3-6e98-42a1-aa02-311429131422",
   "metadata": {},
   "source": [
    "**Callbacks** are simply callables that get passed into a function or class, which then invokes them at specific times. \n",
    "They can have multiple methods, allowing for flexible and customized behavior."
   ]
  },
  {
   "cell_type": "markdown",
   "id": "f2cf89b9-4fe2-425a-a740-9e11cf460421",
   "metadata": {
    "tags": []
   },
   "source": [
    "## Metrics"
   ]
  },
  {
   "cell_type": "markdown",
   "id": "92e6d7bc-6e9f-42da-9474-7658eeb2df65",
   "metadata": {
    "tags": []
   },
   "source": [
    "A `Metric` class for tracking and calculating metrics,  e.g., accuracy and loss. \n",
    "This class provides a basic structure for implementing custom metrics, allowing for tracking, accumulation, and calculation of weighted averages.\n",
    "-  `__init__` calls the `reset()` method, which sets up two empty lists: `vals` to store metric values and `ns` to store sample sizes.\n",
    "-  `add()` method calculates a metric value using the `calc()` method, appends it in `vals`, and appends the sample size `n` to `ns`.\n",
    "-  `value @property` calculates a *weighted average* of the metric values, where the weights are the sample sizes.\n",
    "-  `calc()` method is a placeholder that simply returns the input `inps`. `calc()` would be overridden in subclasses to calculate specific metrics."
   ]
  },
  {
   "cell_type": "code",
   "execution_count": 25,
   "id": "f810c642",
   "metadata": {},
   "outputs": [],
   "source": [
    "class Metric:\n",
    "    def __init__(self): self.reset()\n",
    "    def reset(self): self.vals,self.ns = [],[]\n",
    "    def add(self, inp, targ=None, n=1):\n",
    "        self.last = self.calc(inp, targ)\n",
    "        self.vals.append(self.last)\n",
    "        self.ns.append(n)\n",
    "    @property\n",
    "    def value(self):\n",
    "        ns = tensor(self.ns)\n",
    "        return (tensor(self.vals)*ns).sum()/ns.sum()\n",
    "    def calc(self, inps, targs): return inps"
   ]
  },
  {
   "cell_type": "markdown",
   "id": "3aa9f4ad-34ac-4db0-a4c1-8ee0fe5018ce",
   "metadata": {
    "tags": []
   },
   "source": [
    "### Example: Accuracy metric\n",
    "Lets define an `Accuracy(Metric)` by defining (overidding) `calc()` as\n",
    "the `mean()` of how often the input `inps` equals the targets `targs`."
   ]
  },
  {
   "cell_type": "code",
   "execution_count": 26,
   "id": "092dd298",
   "metadata": {},
   "outputs": [],
   "source": [
    "class Accuracy(Metric):\n",
    "    def calc(self, inps, targs): return (inps==targs).float().mean()"
   ]
  },
  {
   "cell_type": "markdown",
   "id": "7e825a72-c207-4d6b-a7a4-c42003a62c1c",
   "metadata": {},
   "source": [
    "Below `acc` is an `Accuracy` metric object. We `add` a few batches of inputs and targets,\n",
    "and get the `acc.value`, i.e., the accuracy."
   ]
  },
  {
   "cell_type": "code",
   "execution_count": 27,
   "id": "87752b24",
   "metadata": {},
   "outputs": [
    {
     "data": {
      "text/plain": [
       "0.6333333253860474"
      ]
     },
     "execution_count": 27,
     "metadata": {},
     "output_type": "execute_result"
    }
   ],
   "source": [
    "acc = Accuracy()\n",
    "acc.add(tensor([0, 1, 2, 0, 1, 2]), tensor([0, 1, 1, 2, 1, 0]))\n",
    "acc.add(tensor([1, 1, 2, 0, 1]), tensor([0, 1, 1, 2, 1]))\n",
    "acc.add(tensor([1, 1, 2, 0, 1]), tensor([1, 1, 2, 0, 1]))\n",
    "acc.value.item()"
   ]
  },
  {
   "cell_type": "markdown",
   "id": "f283004d-97a1-459b-a0ee-eeeecc730462",
   "metadata": {},
   "source": [
    "NB: `acc.value` is a `@property`, thus we didn't have to put `()` after it to get the calculation to happen."
   ]
  },
  {
   "cell_type": "markdown",
   "id": "1a27e805-8867-47c7-9d29-cb3c01c7f4da",
   "metadata": {},
   "source": [
    "Another way: `wa` is a `Metric` which simply gets the weighted average.\n",
    "`add` 0.6 (loss with batch size of 32); `add` 0.9 (loss w/batch size of 2);\n",
    "That gives us a weighted average loss of 0.62 which is equal to the (manual) weighted average calculation."
   ]
  },
  {
   "cell_type": "code",
   "execution_count": 28,
   "id": "4cdf18e8",
   "metadata": {},
   "outputs": [
    {
     "data": {
      "text/plain": [
       "(tensor(0.62), 0.62)"
      ]
     },
     "execution_count": 28,
     "metadata": {},
     "output_type": "execute_result"
    }
   ],
   "source": [
    "wa = Metric()\n",
    "wa.add(0.6, n=32)\n",
    "wa.add(0.9, n=2)\n",
    "wa.value, round((0.6*32+0.9*2)/(32+2), 2)"
   ]
  },
  {
   "cell_type": "markdown",
   "id": "f45ee2d6-273b-4e5d-b4c2-bc2a887a2a87",
   "metadata": {},
   "source": [
    "We can define a `Metric` class to create any metric by overwriting `calc`.\n",
    "Or we could create things from scratch, as long as they have an `add()` and a `value`."
   ]
  },
  {
   "cell_type": "markdown",
   "id": "1ca935dc",
   "metadata": {
    "tags": []
   },
   "source": [
    "## Some callbacks to print out, etc"
   ]
  },
  {
   "cell_type": "markdown",
   "id": "4e9066f4-b76b-4524-a2e4-ac24fb0607b1",
   "metadata": {
    "tags": []
   },
   "source": [
    "Lets define a `deviceCB(Callback)`, to use a device (eg GPU, MPS) without the earlier complications,\n",
    "i.e., to allow multiple processes in the dataloader and also use the device. \n",
    "<br>\n",
    "`before_fit()` puts the model onto the default device, and `before_batch()` put the batch onto the `device`.\n",
    "<br>\n",
    "NB: In the learner everything is put inside self which means it's all modifiable."
   ]
  },
  {
   "cell_type": "code",
   "execution_count": 29,
   "id": "35723f31-5e11-4d76-bda9-793a88acd69f",
   "metadata": {},
   "outputs": [],
   "source": [
    "#|export\n",
    "class DeviceCB(Callback):\n",
    "    def __init__(self, device=def_device): fc.store_attr()\n",
    "    def before_fit(self, learn): learn.model.to(self.device)\n",
    "    def before_batch(self, learn): learn.batch = to_device(learn.batch, device=self.device)"
   ]
  },
  {
   "cell_type": "markdown",
   "id": "30b7cc36-bb73-465f-bd6b-bb914a072c63",
   "metadata": {
    "tags": []
   },
   "source": [
    "We check that the `deviceCB` callback works by using the earlier learner, `BasicCBLearner` replacing `SingleBatchCB()` by  `deviceCB()`."
   ]
  },
  {
   "cell_type": "code",
   "execution_count": 30,
   "id": "d922c34e-8cdc-4f1a-85d0-bd0781e361f3",
   "metadata": {},
   "outputs": [
    {
     "name": "stdout",
     "output_type": "stream",
     "text": [
      "Completed 64 batches\n"
     ]
    }
   ],
   "source": [
    "learn = BasicCBLearner(get_model(), dls, F.cross_entropy, lr=0.2, cbs=[DeviceCB(), CompletionCB()])\n",
    "learn.fit(1)"
   ]
  },
  {
   "attachments": {},
   "cell_type": "markdown",
   "id": "6d3e4734-3058-44e5-8d04-d3916bed2445",
   "metadata": {
    "jp-MarkdownHeadingCollapsed": true
   },
   "source": [
    "#### Torcheval - DEPRECATED - had problems. Avoid it.\n",
    "We could use [Torcheval](https://pytorch.org/torcheval/stable/), \n",
    "a PyTorch project that offers a range of pre-built metrics with `.update` and `.compute` methods. \n",
    "It's currently in alpha and doesn't have a stable release, which might impact its compatibility and functionality.\n",
    "It had issues and it seems no longer being maintained. "
   ]
  },
  {
   "cell_type": "markdown",
   "id": "a95b760f-b121-4544-bf12-c3ec64009960",
   "metadata": {},
   "source": [
    "#### Torchmetrics\n",
    "Instead of implementing every metric from scratch, we can use [Torchmetrics](https://lightning.ai/docs/torchmetrics/stable/), \n",
    "a PyTorch project that offers a range of pre-built metrics. \n",
    "Let's use [MulticlassAccuracy](https://lightning.ai/docs/torchmetrics/stable/classification/accuracy.html#torchmetrics.classification.MulticlassAccuracy) \n",
    "to calculate the frequency of inputs matching targets."
   ]
  },
  {
   "cell_type": "code",
   "execution_count": 31,
   "id": "f02b6cd6-4ab9-4833-b538-d996fa00eab7",
   "metadata": {},
   "outputs": [],
   "source": [
    "!pip install -q torchmetrics"
   ]
  },
  {
   "cell_type": "code",
   "execution_count": 32,
   "id": "e3ca6d0e-cc9c-4637-92c5-19e58d6eb798",
   "metadata": {},
   "outputs": [],
   "source": [
    "from torchmetrics.classification import MulticlassAccuracy\n",
    "from torchmetrics.aggregation import MeanMetric as Mean"
   ]
  },
  {
   "cell_type": "markdown",
   "id": "6a2d76d5-5180-42e0-9f36-4c7a7409fd2c",
   "metadata": {},
   "source": [
    "We create a `MulticlassAccuracy` `metric` and we pass in a minibatch of inputs and targets.\n",
    "Half of them match so the accuracy is .5"
   ]
  },
  {
   "cell_type": "code",
   "execution_count": 33,
   "id": "ee473e22",
   "metadata": {},
   "outputs": [
    {
     "data": {
      "text/plain": [
       "tensor(0.50)"
      ]
     },
     "execution_count": 33,
     "metadata": {},
     "output_type": "execute_result"
    }
   ],
   "source": [
    "metric = MulticlassAccuracy(num_classes=4)\n",
    "metric(tensor([0, 1, 2, 3, 0, 1]), tensor([0, 1, 2, 0, 3, 2]))"
   ]
  },
  {
   "cell_type": "markdown",
   "id": "21c16902-a1ca-450b-ae86-134e5ea53d9f",
   "metadata": {},
   "source": [
    "The metrics API provides `update()`, `compute()`, `reset()` functions.\n",
    "We call `reset` at the start of each epoch.\n",
    "Recommendations for memory management:\n",
    "-  When done with a metric, call reset() method. The python garbage collector can struggle to totally clean the metric states if this is not done. This can lead to a memory leak if multiple instances of the same metric for different purposes are created in the same script.\n",
    "-    Always try to reuse the same instance of a metric instead of initializing a new one. Calling the reset method returns the metric to its initial state, and can therefore be used to reuse the same instance. However, we still highly recommend to use different instances from training, validation and testing.\n",
    "-    If only the results on a batch level are needed e.g., no aggregation or alternatively if you have a small dataset that fits into iteration of evaluation, we can recommend using the functional API instead as it does not keep an internal state and memory is therefore freed after each call."
   ]
  },
  {
   "cell_type": "code",
   "execution_count": 34,
   "id": "0c531ca0",
   "metadata": {},
   "outputs": [
    {
     "data": {
      "text/plain": [
       "tensor(0.)"
      ]
     },
     "execution_count": 34,
     "metadata": {},
     "output_type": "execute_result"
    }
   ],
   "source": [
    "metric.reset()\n",
    "metric.compute()"
   ]
  },
  {
   "cell_type": "markdown",
   "id": "0e47f99a-fa86-4cdb-9c2a-3dde8172b654",
   "metadata": {},
   "source": [
    "Below `to_cpu(x)` function calls `detach()` to remove \n",
    "all the computation history used to calculate a gradient, and also puts the tensor on the CPU.\n",
    "It'll do the same for dictionaries, lists and tuples of tensors.\n",
    "`to_cpu(x)` recursively moves PyTorch tensors and nested data structures (dictionaries, lists, and tuples) from their current device (likely a GPU) to the CPU. Here's a breakdown:\n",
    "\n",
    "    Handling nested data structures:\n",
    "        If x is a dictionary (Mapping), it recursively applies to_cpu to each value in the dictionary.\n",
    "        If x is a list, it applies to_cpu to each element in the list.\n",
    "        If x is a tuple, it converts the tuple to a list, applies to_cpu to each element, and then converts it back to a tuple.\n",
    "    Moving tensors to CPU:\n",
    "        If x is a PyTorch tensor, it detaches the tensor from the computation graph (using detach()) and moves it to the CPU (using cpu()).\n",
    "        If the tensor's data type is torch.float16 (half precision), it converts the tensor to float32 precision using float().\n",
    "\n",
    "The purpose of this function is likely to:\n",
    "    Free up GPU memory by moving tensors to the CPU.\n",
    "    Convert tensors to a consistent data type (float32) for certain operations or further processing.\n",
    "    Prepare tensors for use in environments where GPU access is not available or necessary.\n",
    "\n",
    "This function assumes that `x` is either a PyTorch tensor or a nested structure containing PyTorch tensors. If x is neither a tensor nor a supported nested structure, the function will raise a `TypeError`."
   ]
  },
  {
   "cell_type": "code",
   "execution_count": 35,
   "id": "6f8692bd",
   "metadata": {},
   "outputs": [],
   "source": [
    "#|export\n",
    "def to_cpu(x):\n",
    "    if isinstance(x, Mapping): return {k:to_cpu(v) for k,v in x.items()}\n",
    "    if isinstance(x, list): return [to_cpu(o) for o in x]\n",
    "    if isinstance(x, tuple): return tuple(to_cpu(list(x)))\n",
    "    if isinstance(x, torch.Tensor):\n",
    "        res = x.detach().cpu()\n",
    "        return res.float() if res.dtype == torch.float16 else res\n",
    "        \n",
    "    raise TypeError(f\"to_cpu function: Unsupported type: {type(x)}. Expected PyTorch tensor or nested structure containing PyTorch tensors.\")\n"
   ]
  },
  {
   "cell_type": "markdown",
   "id": "71567f98-2a53-4620-8e34-ea0fa479c37c",
   "metadata": {
    "tags": []
   },
   "source": [
    "### `MetricsCB(Callback)`"
   ]
  },
  {
   "cell_type": "markdown",
   "id": "dfbb898f-4544-4cb6-9b50-24e79a3b8f8b",
   "metadata": {},
   "source": [
    "<!-- This text will not be visible in the rendered Markdown\n",
    "([Mean](https://pytorch.org/torcheval/stable/generated/torcheval.metrics.Mean.html#torcheval.metrics.Mean) \n",
    " -->"
   ]
  },
  {
   "cell_type": "markdown",
   "id": "5bdf4bcb-4145-4da2-9574-1077e06ea566",
   "metadata": {
    "jp-MarkdownHeadingCollapsed": true,
    "tags": []
   },
   "source": [
    "When initializing MetricsCB(Callback), we pass in metric objects, which can be provided as positional arguments or named arguments. \n",
    "If positional arguments are used, they're automatically assigned names based on their class type (`type(o).__name__`). \n",
    "These metrics are stored in self.metrics. \n",
    "To allow for modifications without affecting the original, a copy of the metrics is created in all_metrics.\n",
    "And add the `loss` as the weighted average of the losses using [MeanMetric](https://lightning.ai/docs/torchmetrics/stable/aggregation/mean.html)\n",
    "<br>\n",
    "In `before_fit`, we register the metrics callback with the Learner `learn`. \n",
    "In `before_epoch`, we reset all metrics. \n",
    "After each epoch, we create a dictionary of metrics to log and call `_log` to print them. \n",
    "After each batch, we move inputs and targets to the CPU, update each metric with the batch data, and also update the loss metric with the actual loss and minibatch size."
   ]
  },
  {
   "cell_type": "code",
   "execution_count": 36,
   "id": "c9423a05-c196-4997-ac03-2734a3ae0058",
   "metadata": {},
   "outputs": [],
   "source": [
    "#|export\n",
    "class MetricsCB(Callback):\n",
    "    def __init__(self, *ms, **metrics):\n",
    "#       import pdb; pdb.set_trace()\n",
    "        for o in ms: metrics[type(o).__name__] = o\n",
    "        self.metrics = metrics\n",
    "        self.all_metrics = copy(metrics)\n",
    "        self.all_metrics['loss'] = self.loss = Mean() # Mean() is alias to MeanMetric()\n",
    "\n",
    "    def _log(self, d): print(d)\n",
    "    def before_fit(self, learn): learn.metrics = self\n",
    "    def before_epoch(self, learn): [o.reset() for o in self.all_metrics.values()]\n",
    "\n",
    "    def after_epoch(self, learn):\n",
    "        log = {k:f'{v.compute():.4f}' for k,v in self.all_metrics.items()}\n",
    "        log['epoch'] = learn.epoch\n",
    "        log['train'] = 'train' if learn.model.training else 'eval'\n",
    "        self._log(log)\n",
    "\n",
    "    def after_batch(self, learn):\n",
    "        x,y,*_ = to_cpu(learn.batch)\n",
    "        for m in self.metrics.values(): m.update(to_cpu(learn.preds), y)\n",
    "        self.loss.update(to_cpu(learn.loss), weight=len(x))"
   ]
  },
  {
   "cell_type": "markdown",
   "id": "5bc25f5f-c85b-455f-aa64-3d26cd6e8b22",
   "metadata": {},
   "source": [
    "`metrics` below is a `MetricsCB` object that calculates and print out `accuracy`.\n",
    "We pass `metrics` as a `cbs` to the `BasicCBLearner`.\n",
    "During `learn.fit()` it's going to print the `accuracy`, `loss`, `epoch` number, and whether it's training or evaluating."
   ]
  },
  {
   "cell_type": "code",
   "execution_count": 37,
   "id": "f5ce9364",
   "metadata": {},
   "outputs": [
    {
     "name": "stdout",
     "output_type": "stream",
     "text": [
      "{'accuracy': '0.6053', 'loss': '1.1873', 'epoch': 0, 'train': 'train'}\n",
      "{'accuracy': '0.7008', 'loss': '0.8133', 'epoch': 0, 'train': 'eval'}\n"
     ]
    }
   ],
   "source": [
    "model = get_model()\n",
    "metrics = MetricsCB(accuracy=MulticlassAccuracy(num_classes=len(ds_builder.info.features[\"label\"].names)))\n",
    "learn = BasicCBLearner(model, dls, F.cross_entropy, lr=0.2, cbs=[DeviceCB(), metrics])\n",
    "learn.fit(1)"
   ]
  },
  {
   "cell_type": "markdown",
   "id": "a47fe46b-97e6-4b5f-bccd-c153e2f26209",
   "metadata": {
    "tags": []
   },
   "source": [
    "## Flexible Learner with Callbacks "
   ]
  },
  {
   "cell_type": "markdown",
   "id": "bab44b7e-9cc2-452e-aff3-a27264b1be38",
   "metadata": {
    "tags": []
   },
   "source": [
    "Class `_CbCtxInner` implements a context manager.\n",
    "It is passed the calling class `outer`, e.g., the Learner's `self`, and `nm` the name of the method.\n",
    "In `__enter__`  it calls `outer.callback(f'before_{self.nm}')`,  where e.g., `{nm}` is `'fit'`. \n",
    "In `__exit__` it needs to grab the `CancelFitException` (by using the key `f'Cancel{self.nm.title()}Exception'` in the `globals` dictionary.\n",
    "In Python, global variables are stored in a dictionary accessible via the [globals()](https://docs.python.org/3/library/functions.html#globals) function, which returns the current global symbol table.\n",
    "We look up in that dictionary the variable `Cancel{...}Exception` and store it in `chk_exc`.\n",
    "If `exc_type` is not an exception we call `self.outer.callback(f'after_{self.nm}')`, and if it is we ignore it.\n",
    "`finally:` we call the `cleanup_{self.nm}` callback. "
   ]
  },
  {
   "cell_type": "code",
   "execution_count": 38,
   "id": "37e12f47-755b-4c18-989e-34011ead68a2",
   "metadata": {},
   "outputs": [],
   "source": [
    "#|export\n",
    "class _CbCtxInner:\n",
    "    def __init__(self, outer, nm): self.outer,self.nm = outer,nm\n",
    "    def __enter__(self): self.outer.callback(f'before_{self.nm}')\n",
    "    def __exit__ (self, exc_type, exc_val, traceback):\n",
    "        chk_exc = globals()[f'Cancel{self.nm.title()}Exception']\n",
    "        try:\n",
    "            if not exc_type: self.outer.callback(f'after_{self.nm}')\n",
    "            return exc_type==chk_exc\n",
    "        except chk_exc: pass\n",
    "        finally: self.outer.callback(f'cleanup_{self.nm}')"
   ]
  },
  {
   "cell_type": "markdown",
   "id": "026cb6ee-153e-4d27-baba-eff5a5e2c108",
   "metadata": {},
   "source": [
    "### Class Learner()\n",
    "In `one_epoch()` (below) we grab the training or validation set based on the argument `train`.\n",
    "We then use the `epoch` context manager, `cb_ctx('epoch')`.\n",
    "Loop through each `batch` in the `dl` dataloader. \n",
    "Then for each batch in `dl` using the `batch` context manager `cb_ctx('batch')`:\n",
    "<br>\n",
    "**interesting**\n",
    "we call self `.predict(), .get_loss()` and, if we're training, `.backward(), .step()`, and `.zero_grad()`.\n",
    "<br>\n",
    "Previously we called `.model()`, `.loss()`, etc., but now we call instead `.predict()`, `.get_loss()`, etc.\n",
    "*But these are not defined here, so how does it work?*\n",
    "We do it for flexibility, so we can change them (e.g., `predict`, `get_loss`, etc.) for different situations.\n",
    "<br>\n",
    "What happens if we call `self.predict()` and it doesn't exist?\n",
    "It doesn't necessarily cause an error as it calls `__getattr__(self.name)`.\n",
    "The [`__getattr__`](https://python-reference.readthedocs.io/en/latest/docs/dunderattr/getattr.html) \n",
    "is a special method called when an attribute lookup has **not found** the attribute in the usual places \n",
    "(i.e. it is not an instance attribute nor is it found in the class tree for self).\n",
    "In the definition of `__getattr__()` below, if `name` is in the special list (`['predict','get_loss','backward','step','zero_grad']`) \n",
    "it `return partial(self.callback, name)`. \n",
    "Else, `name` is not on the special list, then it `raise AttributeError(name)`.\n",
    "To make this work we define below a callback **(`TrainCB`) which implements the 5 special names in the list**, and pass it along as a `cbs`."
   ]
  },
  {
   "cell_type": "code",
   "execution_count": 39,
   "id": "4a815dad-be0a-48f9-bc09-46225434424d",
   "metadata": {},
   "outputs": [],
   "source": [
    "class Learner():\n",
    "    def __init__(self, model, dls=(0,), loss_func=F.mse_loss, lr=0.1, cbs=None, opt_func=optim.SGD):\n",
    "        cbs = fc.L(cbs)\n",
    "        fc.store_attr()\n",
    "    \n",
    "    def cb_ctx(self, nm): return _CbCtxInner(self, nm)\n",
    "\n",
    "    def one_epoch(self, train):\n",
    "        self.model.train(train)\n",
    "        self.dl = self.dls.train if train else self.dls.valid\n",
    "        with self.cb_ctx('epoch'):\n",
    "            for self.iter,self.batch in enumerate(self.dl):\n",
    "                with self.cb_ctx('batch'):\n",
    "                    self.predict()\n",
    "                    self.get_loss()\n",
    "                    if self.training:\n",
    "                        self.backward()\n",
    "                        self.callback('after_backward')\n",
    "                        self.step()\n",
    "                        self.callback('after_step')\n",
    "                        self.zero_grad()\n",
    "    \n",
    "    def fit(self, n_epochs=1, train=True, valid=True, cbs=None, lr=None):\n",
    "        cbs = fc.L(cbs)\n",
    "        # `add_cb` and `rm_cb` were added in lesson 18\n",
    "        for cb in cbs: self.cbs.append(cb)\n",
    "        try:\n",
    "            #self.n_epochs = n_epochs\n",
    "            self.epochs = range(n_epochs)\n",
    "            if lr is None: lr = self.lr\n",
    "            if self.opt_func: self.opt = self.opt_func(self.model.parameters(), lr)\n",
    "            with self.cb_ctx('fit'):\n",
    "                for self.epoch in self.epochs:   # self.epochs:\n",
    "                    if train: self.one_epoch(True)\n",
    "                    if valid: torch.no_grad()(self.one_epoch)(False)\n",
    "        finally:\n",
    "            for cb in cbs: self.cbs.remove(cb)\n",
    "\n",
    "    def __getattr__(self, name):\n",
    "        if name in ('predict','get_loss','backward','step','zero_grad'): return partial(self.callback, name)\n",
    "        raise AttributeError(name)\n",
    "\n",
    "    def callback(self, method_nm): run_cbs(self.cbs, method_nm, self)\n",
    "    \n",
    "    @property\n",
    "    def training(self): return self.model.training"
   ]
  },
  {
   "cell_type": "markdown",
   "id": "487d8986-75d2-4bb0-9212-e7227dabd125",
   "metadata": {},
   "source": [
    "Notice Python's flexibility. If any of the 5 in the list don't exist it will use `__getattr__` \n",
    "to find them  in the callbacks.\n",
    "We could have multiple callbacks that define these things and then chain them together."
   ]
  },
  {
   "cell_type": "markdown",
   "id": "1581cfdf-ebab-4e6a-8d52-727397530b5a",
   "metadata": {},
   "source": [
    "<div style=\"border: 2px solid blue; background-color: lightblue; padding: 10px;\">\n",
    "**HW Q**: Why we didn't have to say `with torch.no_grad` but instead call `torch.no_grad()`\n",
    "Great if you understand why that works/what it does, will help understanding of decorators.\n",
    "<br>\n",
    "A: In PyTorch, `torch.no_grad()` is a context manager that disables the computation and storage of gradients during operation execution.\n",
    "This is beneficial for inference, as we will not call `Tensor.backward()`, to reduce memory consumption.\n",
    "<br>\n",
    "In above `torch.no_grad()(self.one_epoch)` returns a *version* of `self.one_epoch` that will run with gradient computation disabled.\n",
    "`(False)` calls the returned function, passing `False` as an argument.\n",
    "<br>\n",
    "Thus, the entire expression is equivalent to running the `one_epoch` method with `False` as an argument, but without tracking gradient computations. \n",
    "This might be used, for instance, if `one_epoch` is a method that performs a single training epoch and takes a boolean indicating whether or not to use backpropagation, and in this case, we're saying not to.\n",
    "</div>"
   ]
  },
  {
   "cell_type": "markdown",
   "id": "1f8619e5-6e6f-424c-ade6-17dfe3fe515f",
   "metadata": {},
   "source": [
    "In `TrainCB` they're almost the same as in `BasicCBLearner`, but must have `learn` in front of each (`preds`, `loss`, etc.),\n",
    "because this is a callback, it's not the learner.\n",
    "<br>\n",
    "NB: JH added `n_inp` to `TrainCB` so we can train models with more than one input or output."
   ]
  },
  {
   "cell_type": "code",
   "execution_count": 40,
   "id": "04e62c89-34bd-4e14-ba97-18cd09b84f2b",
   "metadata": {
    "tags": []
   },
   "outputs": [],
   "source": [
    "class TrainCB(Callback):\n",
    "    def __init__(self, n_inp=1): self.n_inp = n_inp\n",
    "    def predict(self, learn): learn.preds = learn.model(*learn.batch[:self.n_inp])\n",
    "    def get_loss(self, learn): learn.loss = learn.loss_func(learn.preds, *learn.batch[self.n_inp:])\n",
    "    def backward(self, learn): learn.loss.backward()\n",
    "    def step(self, learn): learn.opt.step()\n",
    "    def zero_grad(self, learn): learn.opt.zero_grad()"
   ]
  },
  {
   "cell_type": "markdown",
   "id": "df8d8b11-f2d4-4a93-ab21-91cb1f112c6f",
   "metadata": {},
   "source": [
    "Lets now test the Flexible learner..."
   ]
  },
  {
   "cell_type": "code",
   "execution_count": 41,
   "id": "f0da0730-6fe2-4455-86e4-7b4cd506a3e3",
   "metadata": {},
   "outputs": [
    {
     "name": "stdout",
     "output_type": "stream",
     "text": [
      "{'accuracy': '0.6016', 'loss': '1.1488', 'epoch': 0, 'train': 'train'}\n",
      "{'accuracy': '0.6857', 'loss': '0.9006', 'epoch': 0, 'train': 'eval'}\n"
     ]
    }
   ],
   "source": [
    "model = get_model()\n",
    "metrics = MetricsCB(accuracy=MulticlassAccuracy(num_classes=len(ds_builder.info.features[\"label\"].names)))\n",
    "cbs = [TrainCB(), DeviceCB(), metrics]\n",
    "learn = Learner(model, dls, F.cross_entropy, lr=0.2, cbs=cbs)\n",
    "learn.fit(1)"
   ]
  },
  {
   "cell_type": "markdown",
   "id": "03ead92b-5d23-474d-a338-9988b70e4786",
   "metadata": {
    "tags": []
   },
   "source": [
    "## Progress bar"
   ]
  },
  {
   "cell_type": "code",
   "execution_count": 42,
   "id": "3aaf59cb-df02-4584-b0f3-e6d56dd0fffd",
   "metadata": {},
   "outputs": [],
   "source": [
    "#|export\n",
    "class ProgressCB(Callback):\n",
    "    order = MetricsCB.order+1\n",
    "    def __init__(self, plot=False): self.plot = plot\n",
    "    def before_fit(self, learn):\n",
    "        learn.epochs = self.mbar = master_bar(learn.epochs)\n",
    "        self.first = True\n",
    "        if hasattr(learn, 'metrics'): learn.metrics._log = self._log\n",
    "        self.losses = []\n",
    "        self.val_losses = []\n",
    "\n",
    "    def _log(self, d):\n",
    "        if self.first:\n",
    "            self.mbar.write(list(d), table=True)\n",
    "            self.first = False\n",
    "        self.mbar.write(list(d.values()), table=True)\n",
    "\n",
    "    def before_epoch(self, learn): learn.dl = progress_bar(learn.dl, leave=False, parent=self.mbar)\n",
    "    def after_batch(self, learn):\n",
    "        learn.dl.comment = f'{learn.loss:.3f}'\n",
    "        if self.plot and hasattr(learn, 'metrics') and learn.training:\n",
    "            self.losses.append(learn.loss.item())\n",
    "            if self.val_losses: self.mbar.update_graph([[fc.L.range(self.losses), self.losses],[fc.L.range(learn.epoch).map(lambda x: (x+1)*len(learn.dls.train)), self.val_losses]])\n",
    "    \n",
    "    def after_epoch(self, learn): \n",
    "        if not learn.training:\n",
    "            if self.plot and hasattr(learn, 'metrics'): \n",
    "                self.val_losses.append(learn.metrics.all_metrics['loss'].compute())\n",
    "                self.mbar.update_graph([[fc.L.range(self.losses), self.losses],[fc.L.range(learn.epoch+1).map(lambda x: (x+1)*len(learn.dls.train)), self.val_losses]])\n",
    "     "
   ]
  },
  {
   "cell_type": "markdown",
   "id": "400e20c6-28bb-4130-9ee5-588a9695c873",
   "metadata": {
    "tags": []
   },
   "source": [
    "Let's create a `ProgressCB(Callback)` to show our current loss using [Fastprogress](https://github.com/fastai/fastprogress), \n",
    "a *progress bar* for Jupyter Notebook (and console).\n",
    "With FastProgress we can modify how metrics are displayed, e.g., replace the bar with an HTML table.\n",
    "<br>\n",
    "In `before_fit` we set `learn.epochs`, so instead of a normal range it is a progress bar around a range `master_bar(learn.epochs)`.\n",
    "<br>\n",
    "`MetricsCB` had a `_log` method, (instead of just `print`), so we can now replace how metrics are displayed.\n",
    "If the learner has a `metrics` attribute, `hasattr(self.learn, 'metrics')` we replace the `metrics._log` method \n",
    "to write to the progress bar.\n",
    "<br>\n",
    "`Before_epoch` we do a similar thing: the `learn.dl` iterator we change to have a `progress_bar` wrapped around it.\n",
    "And then `after_batch` we set `learn.dl.comment = f'{learn.loss:.3f}'`, so it will show `loss` on the progress bar.\n",
    "And if we've asked to plot `if self.plot` then we will append the losses to a list of losses \n",
    "and we `update_graph` with the losses and the batch numbers.\n",
    "`after_epoch` if not training, we show the validation losses in the plot."
   ]
  },
  {
   "cell_type": "code",
   "execution_count": 43,
   "id": "f7274864-d1b7-4b80-9a77-b4e92e961053",
   "metadata": {},
   "outputs": [],
   "source": [
    "#|export\n",
    "class ProgressCB(Callback):\n",
    "    order = MetricsCB.order+1\n",
    "    def __init__(self, plot=False): self.plot = plot\n",
    "    def before_fit(self, learn):\n",
    "        learn.epochs = self.mbar = master_bar(learn.epochs)\n",
    "        self.first = True\n",
    "        if hasattr(learn, 'metrics'): learn.metrics._log = self._log\n",
    "        self.losses = []\n",
    "        self.val_losses = []\n",
    "\n",
    "    def _log(self, d):\n",
    "        if self.first:\n",
    "            self.mbar.write(list(d), table=True)\n",
    "            self.first = False\n",
    "        self.mbar.write(list(d.values()), table=True)\n",
    "\n",
    "    def before_epoch(self, learn): learn.dl = progress_bar(learn.dl, leave=False, parent=self.mbar)\n",
    "    def after_batch(self, learn):\n",
    "        learn.dl.comment = f'{learn.loss:.3f}'\n",
    "        if self.plot and hasattr(learn, 'metrics') and learn.training:\n",
    "            self.losses.append(learn.loss.item())\n",
    "            if self.val_losses: self.mbar.update_graph([[fc.L.range(self.losses), self.losses],[fc.L.range(learn.epoch).map(lambda x: (x+1)*len(learn.dls.train)), self.val_losses]])\n",
    "    \n",
    "    def after_epoch(self, learn): \n",
    "        if not learn.training:\n",
    "            if self.plot and hasattr(learn, 'metrics'): \n",
    "                self.val_losses.append(learn.metrics.all_metrics['loss'].compute())\n",
    "                self.mbar.update_graph([[fc.L.range(self.losses), self.losses],[fc.L.range(learn.epoch+1).map(lambda x: (x+1)*len(learn.dls.train)), self.val_losses]])\n",
    "     "
   ]
  },
  {
   "cell_type": "markdown",
   "id": "e2e10393-2de9-4ea8-b225-b72670048332",
   "metadata": {},
   "source": [
    "NB: Added validation loss plotting after the lesson. Let's get the model and train and in real time see updates to the graph."
   ]
  },
  {
   "cell_type": "code",
   "execution_count": 44,
   "id": "c9133b0f-7f4a-43bb-bc70-56f12323f1c2",
   "metadata": {},
   "outputs": [],
   "source": [
    "model = get_model()\n",
    "\n",
    "metrics = MetricsCB(accuracy=MulticlassAccuracy(num_classes=len(ds_builder.info.features[\"label\"].names)))\n",
    "cbs = [TrainCB(), DeviceCB(), metrics, ProgressCB(plot=True)]\n",
    "learn = Learner(model, dls, F.cross_entropy, lr=0.1, cbs=cbs)"
   ]
  },
  {
   "cell_type": "code",
   "execution_count": 45,
   "id": "d0d7461c-245a-47b7-bf34-3d0f27cb1405",
   "metadata": {},
   "outputs": [
    {
     "data": {
      "text/html": [
       "\n",
       "<style>\n",
       "    /* Turns off some styling */\n",
       "    progress {\n",
       "        /* gets rid of default border in Firefox and Opera. */\n",
       "        border: none;\n",
       "        /* Needs to be in here for Safari polyfill so background images work as expected. */\n",
       "        background-size: auto;\n",
       "    }\n",
       "    progress:not([value]), progress:not([value])::-webkit-progress-bar {\n",
       "        background: repeating-linear-gradient(45deg, #7e7e7e, #7e7e7e 10px, #5c5c5c 10px, #5c5c5c 20px);\n",
       "    }\n",
       "    .progress-bar-interrupted, .progress-bar-interrupted::-webkit-progress-bar {\n",
       "        background: #F44336;\n",
       "    }\n",
       "</style>\n"
      ],
      "text/plain": [
       "<IPython.core.display.HTML object>"
      ]
     },
     "metadata": {},
     "output_type": "display_data"
    },
    {
     "data": {
      "text/html": [
       "<table border=\"1\" class=\"dataframe\">\n",
       "  <thead>\n",
       "    <tr style=\"text-align: left;\">\n",
       "      <th>accuracy</th>\n",
       "      <th>loss</th>\n",
       "      <th>epoch</th>\n",
       "      <th>train</th>\n",
       "    </tr>\n",
       "  </thead>\n",
       "  <tbody>\n",
       "    <tr>\n",
       "      <td>0.5862</td>\n",
       "      <td>1.3834</td>\n",
       "      <td>0</td>\n",
       "      <td>train</td>\n",
       "    </tr>\n",
       "    <tr>\n",
       "      <td>0.6740</td>\n",
       "      <td>0.9204</td>\n",
       "      <td>0</td>\n",
       "      <td>eval</td>\n",
       "    </tr>\n",
       "    <tr>\n",
       "      <td>0.7096</td>\n",
       "      <td>0.8121</td>\n",
       "      <td>1</td>\n",
       "      <td>train</td>\n",
       "    </tr>\n",
       "    <tr>\n",
       "      <td>0.7288</td>\n",
       "      <td>0.7511</td>\n",
       "      <td>1</td>\n",
       "      <td>eval</td>\n",
       "    </tr>\n",
       "  </tbody>\n",
       "</table>"
      ],
      "text/plain": [
       "<IPython.core.display.HTML object>"
      ]
     },
     "metadata": {},
     "output_type": "display_data"
    },
    {
     "data": {
      "image/png": "[encoded data removed]",
      "text/plain": [
       "<Figure size 600x400 with 1 Axes>"
      ]
     },
     "metadata": {},
     "output_type": "display_data"
    }
   ],
   "source": [
    "learn.fit(2)"
   ]
  },
  {
   "cell_type": "markdown",
   "id": "bcccbd7e-c064-452e-a21e-7f01c3bd8007",
   "metadata": {},
   "source": [
    "We now have a working flexible learner, which we can understand, \n",
    "and a framework which we control and can make it work how we want to.\n",
    "Ideally not by changing the learner itself, but by creating callbacks.\n",
    "We haven't added inference yet, but that shouldn't be too much to add."
   ]
  },
  {
   "cell_type": "markdown",
   "id": "e6f521b3-fe30-48c8-a55c-352031f45ea4",
   "metadata": {},
   "source": [
    "## Updated versions since the lesson - re [contextlib.context_manager](https://docs.python.org/3/library/contextlib.html)\n",
    "<div style=\"border: 2px solid red; background-color: lightred; padding: 10px;\">\n",
    "contextlib.context_manager doesn't let us raise an exception before the yield. \n",
    "<br>\n",
    "The reason contextlib.contextmanager doesn't allow raising an exception before the yield is due to its design and implementation.\n",
    "When using contextlib.contextmanager, the generator function is expected to follow a specific protocol:\n",
    "\n",
    "- Setup: The code before the yield statement is executed when entering the context.\n",
    "- Yield: The yield statement marks the point where the context is entered, and the generator's value is returned to the caller.\n",
    "- Teardown: The code after the yield statement is executed when exiting the context.\n",
    "\n",
    "If an exception is raised before the yield statement, it would prevent the context from being entered, and the teardown code would not be executed. This would break the context manager's contract, which guarantees that the teardown code will run regardless of whether an exception occurs within the context.\n",
    "By design, contextlib.contextmanager ensures that the teardown code is executed even if an exception occurs within the context. \n",
    "If an exception is raised before the yield, it would not be possible to guarantee the execution of the teardown code.\n",
    "If you need to handle exceptions before entering the context, you can use a try-except block within the context manager function, but the exception would need to be handled or propagated after the yield statement.\n",
    "</div>"
   ]
  },
  {
   "cell_type": "markdown",
   "id": "0635b77b-2df6-45db-8692-87010f98e17b",
   "metadata": {},
   "source": [
    "Therefore we've replaced the context manager with a decorator class `with_cbs` in this updated version of Learner. \n",
    "We use it later as\n",
    "`@with_cbs(name)` where `name` is a string that corresponds to the current method, e.g., `'batch'`."
   ]
  },
  {
   "cell_type": "code",
   "execution_count": 46,
   "id": "e30a6c4d-f90a-4bd4-9547-46c682003f53",
   "metadata": {},
   "outputs": [],
   "source": [
    "#|export\n",
    "class with_cbs:\n",
    "    def __init__(self, nm): self.nm = nm\n",
    "    def __call__(self, f):\n",
    "        def _f(o, *args, **kwargs):\n",
    "            try:\n",
    "                o.callback(f'before_{self.nm}')\n",
    "                f(o, *args, **kwargs)\n",
    "                o.callback(f'after_{self.nm}')\n",
    "            except globals()[f'Cancel{self.nm.title()}Exception']: pass\n",
    "            finally: o.callback(f'cleanup_{self.nm}')\n",
    "        return _f\n",
    "     "
   ]
  },
  {
   "cell_type": "markdown",
   "id": "645a29ef-227f-4760-9404-34ba064659c3",
   "metadata": {},
   "source": [
    "**NB:** We have also added a few more callbacks in one_epoch() to support notebook 17_.\n",
    "`after_predict`, `after_loss`, `after_backward` and `after_step`.\n",
    "That means that a callback can now insert code at any point of the training Loop.\n",
    "We haven't (yet) used all of those different things here."
   ]
  },
  {
   "cell_type": "code",
   "execution_count": 47,
   "id": "63cb1f4e-9ff7-4845-8dfb-35828e067aa1",
   "metadata": {},
   "outputs": [],
   "source": [
    "#|export\n",
    "class Learner():\n",
    "    def __init__(self, model, dls=(0,), loss_func=F.mse_loss, lr=0.1, cbs=None, opt_func=optim.SGD):\n",
    "        cbs = fc.L(cbs)\n",
    "        fc.store_attr()\n",
    "\n",
    "    @with_cbs('batch')\n",
    "    def _one_batch(self):\n",
    "        self.predict()\n",
    "        self.callback('after_predict')\n",
    "        self.get_loss()\n",
    "        self.callback('after_loss')\n",
    "        if self.training:\n",
    "            self.backward()\n",
    "            self.callback('after_backward')\n",
    "            self.step()\n",
    "            self.callback('after_step')\n",
    "            self.zero_grad()\n",
    "\n",
    "    @with_cbs('epoch')\n",
    "    def _one_epoch(self):\n",
    "        for self.iter,self.batch in enumerate(self.dl): self._one_batch()\n",
    "\n",
    "    def one_epoch(self, training):\n",
    "        self.model.train(training)\n",
    "        self.dl = self.dls.train if training else self.dls.valid\n",
    "        self._one_epoch()\n",
    "\n",
    "    @with_cbs('fit')\n",
    "    def _fit(self, train, valid):\n",
    "        for self.epoch in self.epochs:\n",
    "            if train: self.one_epoch(True)\n",
    "            if valid: torch.no_grad()(self.one_epoch)(False)\n",
    "\n",
    "    def fit(self, n_epochs=1, train=True, valid=True, cbs=None, lr=None):\n",
    "        cbs = fc.L(cbs)\n",
    "        # `add_cb` and `rm_cb` were added in lesson 18\n",
    "        for cb in cbs: self.cbs.append(cb)\n",
    "        try:\n",
    "            self.n_epochs = n_epochs\n",
    "            self.epochs = range(n_epochs)\n",
    "            if lr is None: lr = self.lr\n",
    "            if self.opt_func: self.opt = self.opt_func(self.model.parameters(), lr)\n",
    "            self._fit(train, valid)\n",
    "        finally:\n",
    "            for cb in cbs: self.cbs.remove(cb)\n",
    "\n",
    "    def __getattr__(self, name):\n",
    "        if name in ('predict','get_loss','backward','step','zero_grad'): return partial(self.callback, name)\n",
    "        raise AttributeError(name)\n",
    "\n",
    "    def callback(self, method_nm): run_cbs(self.cbs, method_nm, self)\n",
    "    \n",
    "    @property\n",
    "    def training(self): return self.model.training"
   ]
  },
  {
   "cell_type": "code",
   "execution_count": 48,
   "id": "077803f4-6034-4c41-8aa2-0a28dcdc5363",
   "metadata": {},
   "outputs": [
    {
     "data": {
      "text/html": [
       "\n",
       "<style>\n",
       "    /* Turns off some styling */\n",
       "    progress {\n",
       "        /* gets rid of default border in Firefox and Opera. */\n",
       "        border: none;\n",
       "        /* Needs to be in here for Safari polyfill so background images work as expected. */\n",
       "        background-size: auto;\n",
       "    }\n",
       "    progress:not([value]), progress:not([value])::-webkit-progress-bar {\n",
       "        background: repeating-linear-gradient(45deg, #7e7e7e, #7e7e7e 10px, #5c5c5c 10px, #5c5c5c 20px);\n",
       "    }\n",
       "    .progress-bar-interrupted, .progress-bar-interrupted::-webkit-progress-bar {\n",
       "        background: #F44336;\n",
       "    }\n",
       "</style>\n"
      ],
      "text/plain": [
       "<IPython.core.display.HTML object>"
      ]
     },
     "metadata": {},
     "output_type": "display_data"
    },
    {
     "data": {
      "text/html": [
       "<table border=\"1\" class=\"dataframe\">\n",
       "  <thead>\n",
       "    <tr style=\"text-align: left;\">\n",
       "      <th>accuracy</th>\n",
       "      <th>loss</th>\n",
       "      <th>epoch</th>\n",
       "      <th>train</th>\n",
       "    </tr>\n",
       "  </thead>\n",
       "  <tbody>\n",
       "    <tr>\n",
       "      <td>0.6176</td>\n",
       "      <td>1.1611</td>\n",
       "      <td>0</td>\n",
       "      <td>train</td>\n",
       "    </tr>\n",
       "    <tr>\n",
       "      <td>0.7080</td>\n",
       "      <td>0.7730</td>\n",
       "      <td>0</td>\n",
       "      <td>eval</td>\n",
       "    </tr>\n",
       "    <tr>\n",
       "      <td>0.7480</td>\n",
       "      <td>0.7014</td>\n",
       "      <td>1</td>\n",
       "      <td>train</td>\n",
       "    </tr>\n",
       "    <tr>\n",
       "      <td>0.7744</td>\n",
       "      <td>0.6351</td>\n",
       "      <td>1</td>\n",
       "      <td>eval</td>\n",
       "    </tr>\n",
       "  </tbody>\n",
       "</table>"
      ],
      "text/plain": [
       "<IPython.core.display.HTML object>"
      ]
     },
     "metadata": {},
     "output_type": "display_data"
    },
    {
     "data": {
      "image/png": "[encoded data removed]",
      "text/plain": [
       "<Figure size 600x400 with 1 Axes>"
      ]
     },
     "metadata": {},
     "output_type": "display_data"
    }
   ],
   "source": [
    "model = get_model()\n",
    "\n",
    "metrics = MetricsCB(accuracy=MulticlassAccuracy(num_classes=len(ds_builder.info.features[\"label\"].names)))\n",
    "cbs = [TrainCB(), DeviceCB(), metrics, ProgressCB(plot=True)]\n",
    "learn = Learner(model, dls, F.cross_entropy, lr=0.2, cbs=cbs)\n",
    "learn.fit(2)\n",
    "     "
   ]
  },
  {
   "cell_type": "markdown",
   "id": "cee1f3e4-9e9f-40ff-a8c7-87b9fa7243c1",
   "metadata": {
    "tags": []
   },
   "source": [
    "## TrainLearner and MomentumLearner"
   ]
  },
  {
   "cell_type": "markdown",
   "id": "39361f37-9033-4b69-aa90-810e4913a891",
   "metadata": {},
   "source": [
    "There's another way we could make the list of 5 \"exist\": we could **subclass** the Learner.\n",
    "Let's not use `trainCB` just to show how a subclass would work.\n",
    "We define a class `TrainLearner(Learner)` as a subclass of `Learner` that implements the same 5 methods as in `trainCB`.\n",
    "Now we don't need the `self.learn` anymore, because we are \"in the\" `Learner`, so `self.` suffices.\n",
    "This way it's never going to end up going to `__getattr__` (which is only called if something doesn't exist)."
   ]
  },
  {
   "cell_type": "code",
   "execution_count": 49,
   "id": "36b98a43-ae47-4cbb-ba4d-08343075061d",
   "metadata": {},
   "outputs": [],
   "source": [
    "#|export\n",
    "class TrainLearner(Learner):\n",
    "    def predict(self): self.preds = self.model(self.batch[0])\n",
    "    def get_loss(self): self.loss = self.loss_func(self.preds, self.batch[1])\n",
    "    def backward(self): self.loss.backward()\n",
    "    def step(self): self.opt.step()\n",
    "    def zero_grad(self): self.opt.zero_grad()"
   ]
  },
  {
   "cell_type": "markdown",
   "id": "bb20a71d-7685-4f1a-b806-455d32295dbc",
   "metadata": {},
   "source": [
    "To use [Huggingface Accelerate](https://huggingface.co/docs/accelerate/en/index), \n",
    "or something else that works on Huggingface data Styles, dictionary things, etc.,\n",
    "we can change how it behaves, by creating a callback for training like `TrainCB`.\n",
    "And if we want everything except one thing to be the same, we can inherit from `TrainCB`."
   ]
  },
  {
   "cell_type": "markdown",
   "id": "d12d436a-2a79-4c1b-8af6-385515acff05",
   "metadata": {},
   "source": [
    "Lets define `MomentumLearner` as a subclass of `TrainLearner` which *changes* `zero_grad` to do something *\"a bit crazy\"*, \n",
    "instead of zeroing the gradients we multiply them by a number, e.g.,  0.85.\n",
    "The previous gradients would still be there, but they would be reduced a bit.\n",
    "Pytorch always adds the gradients to the existing gradients (that's why we normally call zero_grad).\n",
    "But if instead we multiply the gradients by a number, a parameter, we keep the trail of gradients...\n",
    "(This is like gradient accumulation callback)\n",
    "<br>\n",
    "We add `mom=0.85` to the constructor arguments, and call `super().__init__`.\n",
    "<mark>NB: make sure to call the super classes passing in all the stuff. </mark>(We could use delegates for this.)"
   ]
  },
  {
   "cell_type": "code",
   "execution_count": 50,
   "id": "912fd798-7ce5-4f9c-b327-e1104433b392",
   "metadata": {},
   "outputs": [],
   "source": [
    "#|export\n",
    "class MomentumLearner(TrainLearner):\n",
    "    def __init__(self, model, dls, loss_func, lr=None, cbs=None, opt_func=optim.SGD, mom=0.85):\n",
    "        self.mom = mom\n",
    "        super().__init__(model, dls, loss_func, lr, cbs, opt_func)\n",
    "\n",
    "    def zero_grad(self):\n",
    "        with torch.no_grad():\n",
    "            for p in self.model.parameters(): p.grad *= self.mom"
   ]
  },
  {
   "cell_type": "markdown",
   "id": "8f69bb03-08bc-4b2d-a7f5-34139d225f0a",
   "metadata": {},
   "source": [
    "Below using `MomentumLearner` but there's no `trainCB` in the `cbs` list.\n",
    "It trains at the same `lr` for the same time, but `loss` improved from 0.8 to 0.55 and `accuracy` from 0.7 to 0.8.\n",
    "We implemented **momentum**, which can make us reach the destination faster.\n",
    "Normally for momentum we have to store a complete copy of all the gradients, \n",
    "to keep track of a running exponentially waited moving average.\n",
    "But with the above \"trick\" we're using the `.grad` themselves to store the\n",
    "exponentially weighted moving average, obtining an accelerated optimizer and memory savings."
   ]
  },
  {
   "cell_type": "code",
   "execution_count": 51,
   "id": "452eff1d",
   "metadata": {},
   "outputs": [
    {
     "data": {
      "text/html": [
       "\n",
       "<style>\n",
       "    /* Turns off some styling */\n",
       "    progress {\n",
       "        /* gets rid of default border in Firefox and Opera. */\n",
       "        border: none;\n",
       "        /* Needs to be in here for Safari polyfill so background images work as expected. */\n",
       "        background-size: auto;\n",
       "    }\n",
       "    progress:not([value]), progress:not([value])::-webkit-progress-bar {\n",
       "        background: repeating-linear-gradient(45deg, #7e7e7e, #7e7e7e 10px, #5c5c5c 10px, #5c5c5c 20px);\n",
       "    }\n",
       "    .progress-bar-interrupted, .progress-bar-interrupted::-webkit-progress-bar {\n",
       "        background: #F44336;\n",
       "    }\n",
       "</style>\n"
      ],
      "text/plain": [
       "<IPython.core.display.HTML object>"
      ]
     },
     "metadata": {},
     "output_type": "display_data"
    },
    {
     "data": {
      "text/html": [
       "<table border=\"1\" class=\"dataframe\">\n",
       "  <thead>\n",
       "    <tr style=\"text-align: left;\">\n",
       "      <th>accuracy</th>\n",
       "      <th>loss</th>\n",
       "      <th>epoch</th>\n",
       "      <th>train</th>\n",
       "    </tr>\n",
       "  </thead>\n",
       "  <tbody>\n",
       "    <tr>\n",
       "      <td>0.6860</td>\n",
       "      <td>0.9662</td>\n",
       "      <td>0</td>\n",
       "      <td>train</td>\n",
       "    </tr>\n",
       "    <tr>\n",
       "      <td>0.8110</td>\n",
       "      <td>0.5343</td>\n",
       "      <td>0</td>\n",
       "      <td>eval</td>\n",
       "    </tr>\n",
       "    <tr>\n",
       "      <td>0.8227</td>\n",
       "      <td>0.4955</td>\n",
       "      <td>1</td>\n",
       "      <td>train</td>\n",
       "    </tr>\n",
       "    <tr>\n",
       "      <td>0.8165</td>\n",
       "      <td>0.4932</td>\n",
       "      <td>1</td>\n",
       "      <td>eval</td>\n",
       "    </tr>\n",
       "  </tbody>\n",
       "</table>"
      ],
      "text/plain": [
       "<IPython.core.display.HTML object>"
      ]
     },
     "metadata": {},
     "output_type": "display_data"
    },
    {
     "data": {
      "image/png": "[encoded data removed]",
      "text/plain": [
       "<Figure size 600x400 with 1 Axes>"
      ]
     },
     "metadata": {},
     "output_type": "display_data"
    }
   ],
   "source": [
    "# NB: No TrainCB\n",
    "metrics = MetricsCB(accuracy=MulticlassAccuracy(num_classes=len(ds_builder.info.features[\"label\"].names)))\n",
    "cbs = [DeviceCB(), metrics, ProgressCB(plot=True)]\n",
    "learn = MomentumLearner(get_model(), dls, F.cross_entropy, lr=0.2, cbs=cbs)\n",
    "learn.fit(2)"
   ]
  },
  {
   "cell_type": "markdown",
   "id": "2c61a9bb-6f91-4ae5-ae58-3dc0b69a1412",
   "metadata": {},
   "source": [
    "## LRFinderCB"
   ]
  },
  {
   "cell_type": "markdown",
   "id": "abab867b-60f3-47c7-af9d-4716fa09eeb2",
   "metadata": {},
   "source": [
    "Another callback is the learning rate finder `LRFinderCB`, which increases `lr` gradually, \n",
    "by an `lr_mult` factor each batch, and plots `loss` against `lr`.\n",
    "We use it to find how high can `lr` be before `loss` starts getting worse.\n",
    "We want `lr` roughly where the steepest slope is.\n",
    "<br>\n",
    "In `before_fit` we keep track of the points in the plot: `lrs` and `losses`. \n",
    "We have to decide when to stop training, when `loss` gets worse and it has \"gone off\".\n",
    "JH decided that `loss > self.min*3` is the criteria to stop.\n",
    "We keep track of the minimum loss (`self.min`), initially set to Infinity (`math.inf`).\n",
    "<br>\n",
    "In `after_batch`, if it is not training (no use for `LRfinderCB` during validation), raise `CancelEpochException()`,\n",
    "which stops it from doing that epoch entirely.\n",
    "(`one_epoch` will handle this goes straight to the `except` which goes to the end of that code and it's going to skip it.)\n",
    "<br>\n",
    "We get `lr` from the dictionary `param_groups`. \n",
    "We've got to keep track of the `loss`, so append it to our list `losses`,\n",
    "and if it's less than `min` we've seen, then record it as the `min`.\n",
    "If it's greater than 3 times `min`, then raise the `cancelFitException` to stop everything.\n",
    "Finally update `lr` to `lr_mult` times the previous value.\n",
    "(In Pytorch we have to go through each `param_group`, grab the corresponding`g[lr]` and multiply it.)"
   ]
  },
  {
   "cell_type": "code",
   "execution_count": 52,
   "id": "ca5b9f65",
   "metadata": {},
   "outputs": [],
   "source": [
    "class LRFinderCB(Callback):\n",
    "    def __init__(self, lr_mult=1.3): fc.store_attr()\n",
    "    \n",
    "    def before_fit(self, learn):\n",
    "        self.lrs,self.losses = [],[]\n",
    "        self.min = math.inf\n",
    "\n",
    "    def after_batch(self, learn):\n",
    "        if not learn.training: raise CancelEpochException()\n",
    "        self.lrs.append(learn.opt.param_groups[0]['lr'])\n",
    "        loss = to_cpu(learn.loss)\n",
    "        self.losses.append(loss)\n",
    "        if loss < self.min: self.min = loss\n",
    "        if loss > self.min*3: raise CancelFitException()\n",
    "        for g in learn.opt.param_groups: g['lr'] *= self.lr_mult"
   ]
  },
  {
   "cell_type": "markdown",
   "id": "40fc3cf0-3f35-4e46-ae7c-2a164c9cde72",
   "metadata": {},
   "source": [
    "The `LRFinderCB()` callback needs to be instantiated first, to be able to grab its learning rates and its losses.\n",
    "Notice that [plt.xscale](https://matplotlib.org/stable/api/_as_gen/matplotlib.pyplot.xscale.html) is used to set the x-axis scale."
   ]
  },
  {
   "cell_type": "code",
   "execution_count": 53,
   "id": "09da2d55",
   "metadata": {},
   "outputs": [
    {
     "data": {
      "image/png": "[encoded data removed]",
      "text/plain": [
       "<Figure size 640x480 with 1 Axes>"
      ]
     },
     "metadata": {},
     "output_type": "display_data"
    }
   ],
   "source": [
    "lrfind = LRFinderCB()\n",
    "cbs = [DeviceCB(), lrfind]\n",
    "learn = MomentumLearner(get_model(), dls, F.cross_entropy, lr=1e-4, cbs=cbs)\n",
    "learn.fit(1)\n",
    "plt.plot(lrfind.lrs, lrfind.losses)\n",
    "plt.xscale(\"log\")"
   ]
  },
  {
   "cell_type": "markdown",
   "id": "679e04d9-a65b-43a1-9037-57ffa1755cd4",
   "metadata": {},
   "source": [
    "### LRFinder using Pytorch \n",
    "We can implement `LRfinderCB` with a Pytorch learning rate scheduler, `lr_scheduler`, but it will only do\n",
    "one line of code for us:\n",
    "<br>\n",
    "`for g in self.learn.opt.param_groups: g['lr'] *= self.lr_mult`. \n",
    "Lets create a new `LRfinderCB`, using Pytorch's \n",
    "[ExponentialLR scheduler](https://pytorch.org/docs/stable/generated/torch.optim.lr_scheduler.ExponentialLR.html#torch.optim.lr_scheduler.ExponentialLR).\n",
    "<br>\n",
    "NB: *JH claimed that the documentation is wrong, claims that it decays the `lr` of each parameter Group by `gamma` \n",
    "every epoch but it's not done every epoch.\n",
    "Pytorch schedulers have a `step` method and the decay happens each time it calls step.*"
   ]
  },
  {
   "cell_type": "code",
   "execution_count": 54,
   "id": "313fcb31",
   "metadata": {},
   "outputs": [],
   "source": [
    "#|export\n",
    "from torch.optim.lr_scheduler import ExponentialLR"
   ]
  },
  {
   "cell_type": "markdown",
   "id": "1dc46236-f4cf-4579-8d0a-dfc857ff3f27",
   "metadata": {},
   "source": [
    "In `before_fit` we create `.sched = ExponentialLR(self.learn.opt, self.gamma)` that will adjust the learning rates.\n",
    "It needs access to the optimizer `learn.opt` and the learning rate multiplier `gamma`.\n",
    "`after_batch` rather than having a loop (as above) over the `param_groups` we just do `.shed.step()`.\n",
    "<br>\n",
    "Not gaining much with the Pytorch ExponentialLR scheduler, just the `self.shed.step()`."
   ]
  },
  {
   "cell_type": "code",
   "execution_count": 55,
   "id": "1dd3748d",
   "metadata": {},
   "outputs": [],
   "source": [
    "#|export\n",
    "class LRFinderCB(Callback):\n",
    "    def __init__(self, gamma=1.3, max_mult=3): fc.store_attr()\n",
    "    \n",
    "    def before_fit(self, learn):\n",
    "        self.sched = ExponentialLR(learn.opt, self.gamma)\n",
    "        self.lrs,self.losses = [],[]\n",
    "        self.min = math.inf\n",
    "\n",
    "    def after_batch(self, learn):\n",
    "        if not learn.training: raise CancelEpochException()\n",
    "        self.lrs.append(learn.opt.param_groups[0]['lr'])\n",
    "        loss = to_cpu(learn.loss)\n",
    "        self.losses.append(loss)\n",
    "        if loss < self.min: self.min = loss\n",
    "        if math.isnan(loss) or (loss > self.min*self.max_mult):\n",
    "            raise CancelFitException()\n",
    "        self.sched.step()\n",
    "\n",
    "    def cleanup_fit(self, learn):\n",
    "        plt.plot(self.lrs, self.losses)\n",
    "        plt.xscale('log')"
   ]
  },
  {
   "cell_type": "code",
   "execution_count": 56,
   "id": "33dbff4d-f480-4511-b5b5-4bd3237186c3",
   "metadata": {},
   "outputs": [
    {
     "data": {
      "image/png": "[encoded data removed]",
      "text/plain": [
       "<Figure size 640x480 with 1 Axes>"
      ]
     },
     "metadata": {},
     "output_type": "display_data"
    }
   ],
   "source": [
    "cbs = [DeviceCB()]\n",
    "learn = MomentumLearner(get_model(), dls, F.cross_entropy, lr=1e-5, cbs=cbs)\n",
    "learn.fit(3, cbs=LRFinderCB())"
   ]
  },
  {
   "cell_type": "markdown",
   "id": "3189b771-a8e6-4c3a-8a5d-47415b749a1a",
   "metadata": {},
   "source": [
    "The `@fc.patch` decorator turns a function (e.g., `lr_find`) into a method of the class after `self:` (here `Learner`).\n",
    "Below defines a new method `Learner.lr_find`, which calls `self.fit` where `self` is a `Learner`,\n",
    "passing in `max_epochs`, what to start the learning rate `start_lr`, and to use as `cbs` callbacks the `LRFinderCB` callback with the appropriate arguments `gamma` and `max_mult`."
   ]
  },
  {
   "cell_type": "code",
   "execution_count": 57,
   "id": "73326d2b-351a-4441-8aa6-79a8ba7d4a9d",
   "metadata": {},
   "outputs": [],
   "source": [
    "#|export\n",
    "@fc.patch\n",
    "def lr_find(self:Learner, gamma=1.3, max_mult=3, start_lr=1e-5, max_epochs=10):\n",
    "    self.fit(max_epochs, lr=start_lr, cbs=LRFinderCB(gamma=gamma, max_mult=max_mult))"
   ]
  },
  {
   "cell_type": "markdown",
   "id": "2a126947-8aba-4beb-893d-16db6c3b375b",
   "metadata": {},
   "source": [
    "<span style='color:Green'> \n",
    "`@patch` is controversial in the Python community.\n",
    "It is used widely and considered good on other programming languages.\n",
    "JH doesn't have strong opinion, but here it was useful to add functionality to the `Learner` class.\n",
    "</span>"
   ]
  },
  {
   "cell_type": "code",
   "execution_count": 58,
   "id": "25e3f6e5-4fb1-4d65-9fa2-63165ea93003",
   "metadata": {},
   "outputs": [
    {
     "data": {
      "image/png": "[encoded data removed]",
      "text/plain": [
       "<Figure size 640x480 with 1 Axes>"
      ]
     },
     "metadata": {},
     "output_type": "display_data"
    }
   ],
   "source": [
    "MomentumLearner(get_model(), dls, F.cross_entropy, cbs=cbs).lr_find()"
   ]
  },
  {
   "cell_type": "markdown",
   "id": "7bfb9bd2",
   "metadata": {},
   "source": [
    "## Export -"
   ]
  },
  {
   "cell_type": "code",
   "execution_count": 59,
   "id": "465118f0",
   "metadata": {},
   "outputs": [],
   "source": [
    "# import nbdev; nbdev.nbdev_export()"
   ]
  },
  {
   "cell_type": "code",
   "execution_count": null,
   "id": "caa0ee5e-a7ff-4bf1-bd4f-884414605e4c",
   "metadata": {},
   "outputs": [],
   "source": []
  }
 ],
 "metadata": {
  "kernelspec": {
   "display_name": "Python 3 (ipykernel)",
   "language": "python",
   "name": "python3"
  },
  "language_info": {
   "codemirror_mode": {
    "name": "ipython",
    "version": 3
   },
   "file_extension": ".py",
   "mimetype": "text/x-python",
   "name": "python",
   "nbconvert_exporter": "python",
   "pygments_lexer": "ipython3",
   "version": "3.12.8"
  }
 },
 "nbformat": 4,
 "nbformat_minor": 5
}
