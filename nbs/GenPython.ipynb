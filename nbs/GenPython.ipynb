{
 "cells": [
  {
   "cell_type": "markdown",
   "id": "e0a792a4-300f-48e2-ac25-457fd2f37c8d",
   "metadata": {},
   "source": [
    "# General Purpose Python items\n"
   ]
  },
  {
   "cell_type": "code",
   "execution_count": null,
   "id": "f04f6312-aa20-4f38-aa0c-abe592ba53dd",
   "metadata": {},
   "outputs": [],
   "source": []
  },
  {
   "cell_type": "markdown",
   "id": "6ab42c1f-9655-4dea-a758-ad2682444267",
   "metadata": {},
   "source": [
    "## Python use of `*` in arguments to functions signatures and calls"
   ]
  },
  {
   "cell_type": "markdown",
   "id": "23fcd731-1815-4823-a1b6-a1acb0d10368",
   "metadata": {},
   "source": [
    "A `*` in a *signature* before the parameter name (e.g., `def f1(*args)` allows the function to accept any number of positional arguments, regardless of number, and put them into a list. "
   ]
  },
  {
   "cell_type": "code",
   "execution_count": 37,
   "id": "575ef31d-9bc1-424a-9169-41e1d1c0bf8e",
   "metadata": {},
   "outputs": [
    {
     "name": "stdout",
     "output_type": "stream",
     "text": [
      "Type of args: <class 'tuple'>\n",
      "1\n",
      "hello\n",
      "3.14\n"
     ]
    }
   ],
   "source": [
    "def my_function(*args):\n",
    "    print(f\"Type of args: {type(args)}\")\n",
    "    for arg in args: print(arg)\n",
    "\n",
    "my_function(1, \"hello\", 3.14)"
   ]
  },
  {
   "cell_type": "markdown",
   "id": "4e0452a9-7bb0-4a52-86e0-039bc8cf688c",
   "metadata": {},
   "source": [
    "When we *call* a function using `*`, e.g., `f2(*b)`, \n",
    "it means unpack the list (`b`) and expand them into separate arguments, and pass them (to `f2`)  separately."
   ]
  },
  {
   "cell_type": "code",
   "execution_count": 38,
   "id": "11d4b92c-3a79-4cd4-abe6-0ab1d6fa483b",
   "metadata": {},
   "outputs": [
    {
     "name": "stdout",
     "output_type": "stream",
     "text": [
      "Hello, Alice! You are 30 years old.\n",
      "60\n"
     ]
    }
   ],
   "source": [
    "def greet(name, age):\n",
    "    print(f\"Hello, {name}! You are {age} years old.\")\n",
    "\n",
    "person = [\"Alice\", 30]\n",
    "greet(*person)  # Unpacks the list into greet(\"Alice\", 30)\n",
    "# Output: Hello, Alice! You are 30 years old.\n",
    "\n",
    "numbers = (10, 20, 30)\n",
    "def add(a, b, c):\n",
    "    print(a + b + c)\n",
    "add(*numbers)  # Unpacks the tuple into add(10, 20, 30)\n",
    "# Output: 60"
   ]
  },
  {
   "cell_type": "markdown",
   "id": "c19f41aa-cede-4c4e-8059-f50498fa27a4",
   "metadata": {},
   "source": [
    "## Refactor using Classes"
   ]
  },
  {
   "cell_type": "markdown",
   "id": "f21beec5-e363-42ae-bfaa-23bc22313e3b",
   "metadata": {},
   "source": [
    "We can refactor and simplify by using classes and invoking them as functions.\n",
    "Lets illustrate by a class just to print hello.\n",
    "We create an instance of that class and then call it as if it was a function.\n",
    "In Python by defining `__call__` we can treat a class as if it's a function without any method at all. \n",
    "We can still do it the method way, but why do that?"
   ]
  },
  {
   "cell_type": "code",
   "execution_count": 30,
   "id": "dd7bc651-b16f-4aea-9393-73fbc3426117",
   "metadata": {
    "scrolled": true
   },
   "outputs": [
    {
     "name": "stdout",
     "output_type": "stream",
     "text": [
      "hi j\n"
     ]
    }
   ],
   "source": [
    "class A:\n",
    "    def __call__(self, x): print(f'hi {x}')\n",
    "    \n",
    "a = A()\n",
    "a(\"j\")"
   ]
  },
  {
   "cell_type": "markdown",
   "id": "e3797dcc-cf9e-4c64-b466-0a78d562233a",
   "metadata": {},
   "source": [
    "#### Side note: Symbolic Math \n",
    "We can use [SymPy](https://www.sympy.org/en/index.html) a Python library for symbolic mathematics (Wolfram Alpha does something similar). \n",
    "With SimPy we can do it inside a notebook and include it in prose.<br>\n",
    "For example, we define two symbols `x` and `y`, \n",
    "we tell it to differentiate $x^3$ with respect to `x`, and SimPy's `diff` will answer $3x^2$."
   ]
  },
  {
   "cell_type": "code",
   "execution_count": 5,
   "id": "0c355ee0-5d46-47ec-abfb-74ccea1013d6",
   "metadata": {},
   "outputs": [
    {
     "data": {
      "text/latex": [
       "$\\displaystyle 3 x^{2}$"
      ],
      "text/plain": [
       "3*x**2"
      ]
     },
     "execution_count": 5,
     "metadata": {},
     "output_type": "execute_result"
    }
   ],
   "source": [
    "from sympy import symbols,diff\n",
    "x,y = symbols('x y')\n",
    "diff(x**3, x)"
   ]
  },
  {
   "cell_type": "markdown",
   "id": "6e5819e9-1ca3-467e-bdff-77bf61539e75",
   "metadata": {},
   "source": [
    "To differentiate $3x^2 + 9$ with respect to $x$:  "
   ]
  },
  {
   "cell_type": "code",
   "execution_count": 21,
   "id": "35c282ab-c3f0-4ab9-a03e-60023db91dfc",
   "metadata": {
    "collapsed": true,
    "jupyter": {
     "outputs_hidden": true
    }
   },
   "outputs": [
    {
     "data": {
      "text/latex": [
       "$\\displaystyle 6 x$"
      ],
      "text/plain": [
       "6*x"
      ]
     },
     "execution_count": 21,
     "metadata": {},
     "output_type": "execute_result"
    }
   ],
   "source": [
    "diff(3*x**2+9, x)"
   ]
  }
 ],
 "metadata": {
  "kernelspec": {
   "display_name": "Python 3 (ipykernel)",
   "language": "python",
   "name": "python3"
  },
  "language_info": {
   "codemirror_mode": {
    "name": "ipython",
    "version": 3
   },
   "file_extension": ".py",
   "mimetype": "text/x-python",
   "name": "python",
   "nbconvert_exporter": "python",
   "pygments_lexer": "ipython3",
   "version": "3.12.8"
  }
 },
 "nbformat": 4,
 "nbformat_minor": 5
}
