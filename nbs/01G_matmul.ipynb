{
 "cells": [
  {
   "cell_type": "markdown",
   "metadata": {},
   "source": [
    "## Matrix multiplication from foundations"
   ]
  },
  {
   "cell_type": "markdown",
   "metadata": {},
   "source": [
    "The *foundations* we'll assume throughout this course are:\n",
    "- Jupyter notebooks and nbdev\n",
    "- Python with its standard library\n",
    "- matplotlib\n",
    "\n",
    "After we implemented something correctly using only the above foundations, we can then start using another library implementation."
   ]
  },
  {
   "cell_type": "code",
   "execution_count": 1,
   "metadata": {},
   "outputs": [],
   "source": [
    "from pathlib import Path\n",
    "#import pickle, gzip, math, os, time, shutil, matplotlib as mpl, matplotlib.pyplot as plt"
   ]
  },
  {
   "cell_type": "markdown",
   "metadata": {},
   "source": [
    "## Get data\n",
    "[MNIST database](https://en.wikipedia.org/wiki/MNIST_database)"
   ]
  },
  {
   "cell_type": "code",
   "execution_count": 2,
   "metadata": {},
   "outputs": [],
   "source": [
    "MNIST_URL='https://github.com/mnielsen/neural-networks-and-deep-learning/blob/master/data/mnist.pkl.gz?raw=true'\n",
    "path_data = Path('data')\n",
    "path_data.mkdir(exist_ok=True)\n",
    "path_gz = path_data/'mnist.pkl.gz'"
   ]
  },
  {
   "cell_type": "markdown",
   "metadata": {},
   "source": [
    "[urlretrieve](https://docs.python.org/3/library/urllib.request.html#urllib.request.urlretrieve) - (read the docs!)\n",
    "<br>\n",
    " urllib.request.urlretrieve(url, filename=None, reporthook=None, data=None)\n",
    "\n",
    "Copy a network object denoted by a URL to a local file. If the URL points to a local file, the object will not be copied unless filename is supplied. Return a tuple (filename, headers) where filename is the local file name under which the object can be found, and headers is whatever the info() method of the object returned by urlopen() returned (for a remote object). "
   ]
  },
  {
   "cell_type": "code",
   "execution_count": 3,
   "metadata": {},
   "outputs": [],
   "source": [
    "from urllib.request import urlretrieve\n",
    "if not path_gz.exists(): urlretrieve(url=MNIST_URL, filename=path_gz)"
   ]
  },
  {
   "cell_type": "code",
   "execution_count": 4,
   "metadata": {},
   "outputs": [
    {
     "name": "stdout",
     "output_type": "stream",
     "text": [
      "total 33312\n",
      "-rw-r--r--  1 germangoldszmidt  staff  17051982 Apr 17 17:50 mnist.pkl.gz\n"
     ]
    }
   ],
   "source": [
    "ls -l {path_data}\"/\" # data/"
   ]
  },
  {
   "attachments": {},
   "cell_type": "markdown",
   "metadata": {},
   "source": [
    "This is a gzip file, Python has a [gzip module](https://docs.python.org/3/library/gzip.html), so we can open a gzip file using `gzip.open()`. \n",
    "We pass the path, the `rb` means read it as binary, —as opposed to text—. \n",
    "A Context Manager `with` block can do different things.\n",
    "Here it is going to open the file and the gzip object will be called `f`.\n",
    "Then it runs everything inside the block and when it's done it  will close the file automatically. \n",
    "\n",
    "The gzip file contains a `pickle` (.pkl) object, a Python object saved to disk. \n",
    "It's the main way in pure Python to save stuff and it's part of the standard library.\n",
    "`pickle.load()` to load from that file. "
   ]
  },
  {
   "cell_type": "code",
   "execution_count": 5,
   "metadata": {},
   "outputs": [],
   "source": [
    "import gzip, pickle\n",
    "with gzip.open(path_gz, 'rb') as f:\n",
    "    ((x_train, y_train), (x_valid, y_valid), _) = pickle.load(f, encoding='latin-1')"
   ]
  },
  {
   "cell_type": "markdown",
   "metadata": {},
   "source": [
    "The MNIST file contains 3  tuples.\n",
    "When we put a tuple on the left hand side of an equal sign it allows us to \"destructure\" it.\n",
    "It puts the 1st tuple into `x_train` and `y_train`, and the second tuple into `x_valid` and `y_valid`. \n",
    "\n",
    "Unfortunately the content comes as NumPy."
   ]
  },
  {
   "cell_type": "code",
   "execution_count": 6,
   "metadata": {},
   "outputs": [
    {
     "data": {
      "text/plain": [
       "numpy.ndarray"
      ]
     },
     "execution_count": 6,
     "metadata": {},
     "output_type": "execute_result"
    }
   ],
   "source": [
    "type(x_train)"
   ]
  },
  {
   "cell_type": "markdown",
   "metadata": {},
   "source": [
    "Per our rules, we are not allowed to use NumPy, so we turn the first image `x_train[0]` into a list, `lst1`, which has 784 items (28x28 pixels)."
   ]
  },
  {
   "cell_type": "code",
   "execution_count": 7,
   "metadata": {},
   "outputs": [
    {
     "data": {
      "text/plain": [
       "784"
      ]
     },
     "execution_count": 7,
     "metadata": {},
     "output_type": "execute_result"
    }
   ],
   "source": [
    "lst1 = list(x_train[0])\n",
    "len(lst1)"
   ]
  },
  {
   "cell_type": "markdown",
   "metadata": {},
   "source": [
    "To learn about a new data set, we grab a piece and look at it to get a sense of what it is.\n",
    "Below are a few examples of some values in that list."
   ]
  },
  {
   "cell_type": "code",
   "execution_count": 8,
   "metadata": {},
   "outputs": [
    {
     "data": {
      "text/plain": [
       "[np.float32(0.0),\n",
       " np.float32(0.0),\n",
       " np.float32(0.0),\n",
       " np.float32(0.19140625),\n",
       " np.float32(0.9296875),\n",
       " np.float32(0.98828125),\n",
       " np.float32(0.98828125),\n",
       " np.float32(0.98828125),\n",
       " np.float32(0.98828125),\n",
       " np.float32(0.98828125)]"
      ]
     },
     "execution_count": 8,
     "metadata": {},
     "output_type": "execute_result"
    }
   ],
   "source": [
    "vals = lst1[200:210]\n",
    "vals"
   ]
  },
  {
   "cell_type": "markdown",
   "metadata": {},
   "source": [
    "Looks like they're numbers between 0 and 1. But they are in numpy so we map them to `float`"
   ]
  },
  {
   "cell_type": "code",
   "execution_count": 9,
   "metadata": {},
   "outputs": [
    {
     "data": {
      "text/plain": [
       "[0.0,\n",
       " 0.0,\n",
       " 0.0,\n",
       " 0.19140625,\n",
       " 0.9296875,\n",
       " 0.98828125,\n",
       " 0.98828125,\n",
       " 0.98828125,\n",
       " 0.98828125,\n",
       " 0.98828125]"
      ]
     },
     "execution_count": 9,
     "metadata": {},
     "output_type": "execute_result"
    }
   ],
   "source": [
    "vals = list(map(float, vals)); vals"
   ]
  },
  {
   "cell_type": "markdown",
   "metadata": {},
   "source": [
    "### Generators and iterators"
   ]
  },
  {
   "cell_type": "code",
   "execution_count": 10,
   "metadata": {},
   "outputs": [
    {
     "data": {
      "text/plain": [
       "['a', 'b', 'c']"
      ]
     },
     "execution_count": 10,
     "metadata": {},
     "output_type": "execute_result"
    }
   ],
   "source": [
    "some_dict = {'a': 1, 'b': 2, 'c': 3}\n",
    "dict_iterator = iter(some_dict)\n",
    "list(dict_iterator)"
   ]
  },
  {
   "cell_type": "markdown",
   "metadata": {},
   "source": [
    "The [yield](https://docs.python.org/3/reference/expressions.html#yieldexpr) in Python is similar to a return statement.\n",
    "Whereas `return` simply returns a value, `yield` returns a **generator object** (to the caller of the function which contains `yield`)."
   ]
  },
  {
   "cell_type": "code",
   "execution_count": 11,
   "metadata": {},
   "outputs": [
    {
     "name": "stdout",
     "output_type": "stream",
     "text": [
      "Generating squares from 1 to 441\n",
      "100 81 64 49 36 25 16 9 4 1 0 1 4 9 16 25 36 49 64 81 100 121 144 169 196 225 256 289 324 361 400 441 "
     ]
    }
   ],
   "source": [
    "def squares(n=10):\n",
    "    print('Generating squares from 1 to {0}'.format(n ** 2)) \n",
    "    #above {0} is a placeholder used in string formatting, typically with the .format() method.\n",
    "    for i in range(-10, n + 1):\n",
    "        yield i ** 2\n",
    "\n",
    "gen = squares(21)\n",
    "for x in gen:\n",
    "    print(x, end=' ')"
   ]
  },
  {
   "cell_type": "markdown",
   "metadata": {},
   "source": [
    "How do we turn the 784 long list into a 28 by 28? \n",
    "We want a list of 28 lists of 28 items each, because we don't yet have matrices.\n",
    "Lets define a function `chunks` to do it. "
   ]
  },
  {
   "cell_type": "code",
   "execution_count": 12,
   "metadata": {},
   "outputs": [],
   "source": [
    "def chunks(x, sz):\n",
    "    for i in range(0, len(x), sz): yield x[i:i+sz]"
   ]
  },
  {
   "cell_type": "markdown",
   "metadata": {},
   "source": [
    "`vals` is currently a list of 10 things. \n",
    "`chunks(vals, 5)` creates two lists of 5. \n",
    "It's  \"chunkifying\" this list and 5 is the length of each chunk. "
   ]
  },
  {
   "cell_type": "code",
   "execution_count": 13,
   "metadata": {},
   "outputs": [
    {
     "data": {
      "text/plain": [
       "10"
      ]
     },
     "execution_count": 13,
     "metadata": {},
     "output_type": "execute_result"
    }
   ],
   "source": [
    "len(vals)"
   ]
  },
  {
   "cell_type": "code",
   "execution_count": 14,
   "metadata": {},
   "outputs": [
    {
     "data": {
      "text/plain": [
       "[[0.0, 0.0, 0.0, 0.19140625, 0.9296875],\n",
       " [0.98828125, 0.98828125, 0.98828125, 0.98828125, 0.98828125]]"
      ]
     },
     "execution_count": 14,
     "metadata": {},
     "output_type": "execute_result"
    }
   ],
   "source": [
    "list(chunks(vals, 5))"
   ]
  },
  {
   "cell_type": "markdown",
   "metadata": {},
   "source": [
    "Now we can take the full image `lst1`, \n",
    "chunkify it into chunks of 28 long, turn it into a list, and plot it."
   ]
  },
  {
   "cell_type": "code",
   "execution_count": 15,
   "metadata": {},
   "outputs": [
    {
     "data": {
      "image/png": "[encoded data removed]",
      "text/plain": [
       "<Figure size 640x480 with 1 Axes>"
      ]
     },
     "metadata": {},
     "output_type": "display_data"
    }
   ],
   "source": [
    "import matplotlib as mpl, matplotlib.pyplot as plt\n",
    "mpl.rcParams['image.cmap'] = 'gray'\n",
    "plt.imshow(list(chunks(lst1, 28)));"
   ]
  },
  {
   "cell_type": "markdown",
   "metadata": {},
   "source": [
    "Python comes with a standard library “itertools” that makes it easier to work with iterators. \n",
    "Lets see one example, [islice](https://docs.python.org/3/library/itertools.html#itertools.islice).\n",
    "`.islice(iterable, start, stop[, step])`\n",
    "<sup><sub>Make an iterator that returns selected elements from the iterable. If start is non-zero, then elements from the iterable are skipped until start is reached. Afterward, elements are returned consecutively unless step is set higher than one which results in items being skipped. If stop is None, then iteration continues until the iterator is exhausted, if at all; otherwise, it stops at the specified position.</sub></sup>"
   ]
  },
  {
   "cell_type": "code",
   "execution_count": 16,
   "metadata": {},
   "outputs": [],
   "source": [
    "from itertools import islice  "
   ]
  },
  {
   "cell_type": "markdown",
   "metadata": {},
   "source": [
    "Lets create an *iterator* `it` and then call `next(it)` a few times. \n",
    "We pass the 10 value list `vals` to `iter()` to turn `it` into an iterator.\n",
    "Because `it` is an iterator, calling `next(it)` returns each item, one at a time."
   ]
  },
  {
   "cell_type": "code",
   "execution_count": 17,
   "metadata": {},
   "outputs": [
    {
     "name": "stdout",
     "output_type": "stream",
     "text": [
      "0.0\n",
      "0.0\n",
      "0.0\n",
      "0.19140625\n",
      "0.9296875\n",
      "0.98828125\n",
      "0.98828125\n",
      "0.98828125\n",
      "0.98828125\n",
      "0.98828125\n"
     ]
    }
   ],
   "source": [
    "it = iter(vals)\n",
    "for i in range(len(vals)): print(next(it))"
   ]
  },
  {
   "cell_type": "markdown",
   "metadata": {},
   "source": [
    "`islice()` converts `isit` into a different kind of iterator.\n",
    "```\n",
    "islice(iterable, stop) --> islice object\n",
    "islice(iterable, start, stop[, step]) --> islice object\n",
    "```\n",
    "Return an iterator whose next() method returns only `stop` items, e.g., the first five, \n",
    "before it raises `StopIteration`.   "
   ]
  },
  {
   "cell_type": "code",
   "execution_count": 18,
   "metadata": {},
   "outputs": [],
   "source": [
    "it = iter(vals)\n",
    "isit = islice(it, 5)"
   ]
  },
  {
   "cell_type": "markdown",
   "metadata": {},
   "source": [
    "We pass it to `list()`, shows that the iterator grabbed the first 5 items, so after the 1st call it's up to the sixth item."
   ]
  },
  {
   "cell_type": "code",
   "execution_count": 19,
   "metadata": {},
   "outputs": [
    {
     "data": {
      "text/plain": [
       "[0.0, 0.0, 0.0, 0.19140625, 0.9296875]"
      ]
     },
     "execution_count": 19,
     "metadata": {},
     "output_type": "execute_result"
    }
   ],
   "source": [
    "list(islice(it, 5))"
   ]
  },
  {
   "cell_type": "markdown",
   "metadata": {},
   "source": [
    "We call it again and get the next five items."
   ]
  },
  {
   "cell_type": "code",
   "execution_count": 20,
   "metadata": {},
   "outputs": [
    {
     "data": {
      "text/plain": [
       "[0.98828125, 0.98828125, 0.98828125, 0.98828125, 0.98828125]"
      ]
     },
     "execution_count": 20,
     "metadata": {},
     "output_type": "execute_result"
    }
   ],
   "source": [
    "list(islice(it, 5))"
   ]
  },
  {
   "cell_type": "markdown",
   "metadata": {},
   "source": [
    "and if we call it again, then there's nothing left."
   ]
  },
  {
   "cell_type": "code",
   "execution_count": 21,
   "metadata": {},
   "outputs": [
    {
     "data": {
      "text/plain": [
       "[]"
      ]
     },
     "execution_count": 21,
     "metadata": {},
     "output_type": "execute_result"
    }
   ],
   "source": [
    "list(islice(it, 5))"
   ]
  },
  {
   "cell_type": "code",
   "execution_count": 22,
   "metadata": {},
   "outputs": [
    {
     "data": {
      "text/plain": [
       "<itertools.islice at 0x13674d0d0>"
      ]
     },
     "execution_count": 22,
     "metadata": {},
     "output_type": "execute_result"
    }
   ],
   "source": [
    "def f(): return list(islice(it, 28))\n",
    "it = iter(vals)\n",
    "islice(it, 5)"
   ]
  },
  {
   "cell_type": "code",
   "execution_count": 23,
   "metadata": {},
   "outputs": [
    {
     "data": {
      "text/plain": [
       "[0.0,\n",
       " 0.0,\n",
       " 0.0,\n",
       " 0.19140625,\n",
       " 0.9296875,\n",
       " 0.98828125,\n",
       " 0.98828125,\n",
       " 0.98828125,\n",
       " 0.98828125,\n",
       " 0.98828125]"
      ]
     },
     "execution_count": 23,
     "metadata": {},
     "output_type": "execute_result"
    }
   ],
   "source": [
    "f()"
   ]
  },
  {
   "cell_type": "markdown",
   "metadata": {},
   "source": [
    "Lets do \"chunks\" with `islice`.\n",
    "To `iter`  we can pass a list (to create an iterator) or we can pass it  a “callable”. \n",
    "A callable is something that we can put parentheses `()` after, e.g., a function, a class, etc.\n",
    "Below we pass it a (lambda) function and, in the second form, \n",
    "it's going to be called until the function returns `[]`, empty list. \n",
    "And `islice` will return empty list when it's done.  \n",
    "<br>\n",
    "Below will keep calling the function again until it gets an empty list. Using 28 we get our image again. "
   ]
  },
  {
   "cell_type": "code",
   "execution_count": 24,
   "metadata": {},
   "outputs": [],
   "source": [
    "it = iter(lst1)\n",
    "it2 = iter(lambda: list(islice(it, 28)), [])\n",
    "img = list(it2)"
   ]
  },
  {
   "cell_type": "raw",
   "metadata": {},
   "source": [
    "it = iter(lst1)\n",
    "img = list(iter(lambda: list(islice(it, 28)), []))"
   ]
  },
  {
   "cell_type": "code",
   "execution_count": 25,
   "metadata": {},
   "outputs": [
    {
     "data": {
      "image/png": "[encoded data removed]",
      "text/plain": [
       "<Figure size 640x480 with 1 Axes>"
      ]
     },
     "metadata": {},
     "output_type": "display_data"
    }
   ],
   "source": [
    "plt.imshow(img);"
   ]
  },
  {
   "cell_type": "markdown",
   "metadata": {},
   "source": [
    "We have two different ways of creating the same thing.  "
   ]
  },
  {
   "cell_type": "markdown",
   "metadata": {},
   "source": [
    "### Playing with iterators\n",
    "`lambda`s are functions defined inline.\n",
    "Let's replace the above `lambda` with a function `f()` and experiment.  So let's create our iterator, `it`."
   ]
  },
  {
   "cell_type": "code",
   "execution_count": 26,
   "metadata": {},
   "outputs": [],
   "source": [
    "lst1 = list(map(float, lst1))"
   ]
  },
  {
   "cell_type": "code",
   "execution_count": 27,
   "metadata": {},
   "outputs": [],
   "source": [
    "def f(): return(list(islice(it, 28)), [])\n",
    "it= iter(lst1)"
   ]
  },
  {
   "cell_type": "markdown",
   "metadata": {},
   "source": [
    "then call `f()` on it, and it returns the first 28, and each subsequent call will return another 28.  "
   ]
  },
  {
   "cell_type": "code",
   "execution_count": 28,
   "metadata": {},
   "outputs": [
    {
     "data": {
      "text/plain": [
       "([0.0,\n",
       "  0.0,\n",
       "  0.0,\n",
       "  0.0,\n",
       "  0.0,\n",
       "  0.0,\n",
       "  0.0,\n",
       "  0.0,\n",
       "  0.0,\n",
       "  0.0,\n",
       "  0.0,\n",
       "  0.0,\n",
       "  0.0,\n",
       "  0.0,\n",
       "  0.0,\n",
       "  0.0,\n",
       "  0.0,\n",
       "  0.0,\n",
       "  0.0,\n",
       "  0.0,\n",
       "  0.0,\n",
       "  0.0,\n",
       "  0.0,\n",
       "  0.0,\n",
       "  0.0,\n",
       "  0.0,\n",
       "  0.0,\n",
       "  0.0],\n",
       " [])"
      ]
     },
     "execution_count": 28,
     "metadata": {},
     "output_type": "execute_result"
    }
   ],
   "source": [
    "f()    # call multiple times to get many values."
   ]
  },
  {
   "cell_type": "markdown",
   "metadata": {},
   "source": [
    "## Matrix and tensor"
   ]
  },
  {
   "cell_type": "markdown",
   "metadata": {},
   "source": [
    "`img` is a list of lists, and each list is 28 long.\n",
    "We can index into it, e.g., `img[20]`, is a list of 28 numbers. "
   ]
  },
  {
   "cell_type": "code",
   "execution_count": 29,
   "metadata": {},
   "outputs": [
    {
     "data": {
      "text/plain": [
       "(list, list)"
      ]
     },
     "execution_count": 29,
     "metadata": {},
     "output_type": "execute_result"
    }
   ],
   "source": [
    "type(img), type(img[0])"
   ]
  },
  {
   "cell_type": "code",
   "execution_count": 30,
   "metadata": {},
   "outputs": [
    {
     "data": {
      "text/plain": [
       "28"
      ]
     },
     "execution_count": 30,
     "metadata": {},
     "output_type": "execute_result"
    }
   ],
   "source": [
    "len(img[20])"
   ]
  },
  {
   "cell_type": "markdown",
   "metadata": {},
   "source": [
    "We can index into it, `image[20][15]`, but for matrices, we would rather write it as `M[i, j]`.\n",
    "For this, we have to define our own class.  "
   ]
  },
  {
   "cell_type": "code",
   "execution_count": 31,
   "metadata": {},
   "outputs": [
    {
     "data": {
      "text/plain": [
       "np.float32(0.98828125)"
      ]
     },
     "execution_count": 31,
     "metadata": {},
     "output_type": "execute_result"
    }
   ],
   "source": [
    "img[20][15]"
   ]
  },
  {
   "cell_type": "code",
   "execution_count": 32,
   "metadata": {},
   "outputs": [
    {
     "data": {
      "text/plain": [
       "0.98828125"
      ]
     },
     "execution_count": 32,
     "metadata": {},
     "output_type": "execute_result"
    }
   ],
   "source": [
    "img = [[float(item) for item in sublist] for sublist in img]\n",
    "img[20][15]"
   ]
  },
  {
   "cell_type": "markdown",
   "metadata": {},
   "source": [
    "### Class \n",
    "To create a class in Python, we write “class”  and then write the name of it. \n",
    "Then we need to write \"dunder\" methods, with names of two \\__ (underscores), a special word, and then two \\__ , e.g.`__init__`.\n",
    "Dunder methods are special methods which have particular meanings to Python,\n",
    "all documented in the [Python data model](https://docs.python.org/3/reference/datamodel.html).\n",
    "<br>\n",
    "We want to be  able to call `img[20,15]`. \n",
    "As part of the Python data model, there is `__getitem__`.   \n",
    "When we call square brackets `[]` on an object, `__getitem__` is what Python uses. \n",
    "It passes the e.g., `[20,15]` as indices `idxs`.   So we `return self.xs[idxs[0]][idxs[1]]` , with the first index and the second index.   "
   ]
  },
  {
   "cell_type": "code",
   "execution_count": 33,
   "metadata": {},
   "outputs": [],
   "source": [
    "class Matrix:\n",
    "    def __init__(self, xs): self.xs = xs\n",
    "    def __getitem__(self, idxs): return self.xs[idxs[0]][idxs[1]]"
   ]
  },
  {
   "cell_type": "markdown",
   "metadata": {},
   "source": [
    "So let's create that Matrix class and run that and check that `m[20,15]` is the same as `img[20][15]`  above."
   ]
  },
  {
   "cell_type": "code",
   "execution_count": 34,
   "metadata": {},
   "outputs": [
    {
     "name": "stdout",
     "output_type": "stream",
     "text": [
      "CPU times: user 1 μs, sys: 0 ns, total: 1 μs\n",
      "Wall time: 2.15 μs\n"
     ]
    },
    {
     "data": {
      "text/plain": [
       "0.98828125"
      ]
     },
     "execution_count": 34,
     "metadata": {},
     "output_type": "execute_result"
    }
   ],
   "source": [
    "%time\n",
    "m = Matrix(img)\n",
    "m[20,15]"
   ]
  },
  {
   "cell_type": "markdown",
   "metadata": {},
   "source": [
    "### Tensor\n",
    "Now that we've created something that lets us index into things, we're allowed to use this one feature from Pytorch.   \n",
    "To create a  tensor like our `Matrix`, we can pass a list into `tensor()` to get back a tensor version of that list."
   ]
  },
  {
   "cell_type": "code",
   "execution_count": 35,
   "metadata": {},
   "outputs": [],
   "source": [
    "import torch\n",
    "from torch import tensor"
   ]
  },
  {
   "cell_type": "markdown",
   "metadata": {},
   "source": [
    "Pytorch documentation is not great.\n",
    "[tensor](https://pytorch.org/docs/stable/tensors.html)s do everything for numeric programming. \n",
    "It's worth scrolling through the docs to get a general sense.\n",
    "*\"A torch.Tensor is a multi-dimensional matrix containing elements of a single data type. \n",
    "....\"*\n",
    "<br>\n",
    "This is how we constructed one before, passing it list of lists. \n",
    "We can also pass it NumPy arrays, change types, etc.\n",
    "**NB:** Eventually we want to know every single method, at least be aware of what exists so we know what to search for in the docs.\n",
    "Otherwise we end up recreating stuff from scratch, which is slower than reading the documentation to find out it's there."
   ]
  },
  {
   "cell_type": "code",
   "execution_count": 36,
   "metadata": {},
   "outputs": [
    {
     "data": {
      "text/plain": [
       "tensor([1, 2, 3])"
      ]
     },
     "execution_count": 36,
     "metadata": {},
     "output_type": "execute_result"
    }
   ],
   "source": [
    "tensor([1,2,3])"
   ]
  },
  {
   "cell_type": "markdown",
   "metadata": {},
   "source": [
    "More interestingly, we can pass in a list of lists, e.g., `img`.  "
   ]
  },
  {
   "cell_type": "code",
   "execution_count": 37,
   "metadata": {},
   "outputs": [
    {
     "name": "stdout",
     "output_type": "stream",
     "text": [
      "CPU times: user 1 μs, sys: 0 ns, total: 1 μs\n",
      "Wall time: 1.91 μs\n"
     ]
    },
    {
     "data": {
      "text/plain": [
       "tensor(0.9883)"
      ]
     },
     "execution_count": 37,
     "metadata": {},
     "output_type": "execute_result"
    }
   ],
   "source": [
    "%time\n",
    "tens = tensor(img)\n",
    "tens[20,15]"
   ]
  },
  {
   "cell_type": "markdown",
   "metadata": {},
   "source": [
    "Since we've successfully \"implemented\" that functionality we can now convert all our lists into tensors.\n",
    "A convenient way is  Python's `map()` function, which takes a function `f` and one or more iterables, (in this case one iterable,) applies `f` (e.g., `tensor`) to the four `x_ , y_` variables, and returns 4 results.\n",
    "Below it is converting the 4 lists to tensors and storing them back with the same name."
   ]
  },
  {
   "cell_type": "code",
   "execution_count": 38,
   "metadata": {},
   "outputs": [
    {
     "data": {
      "text/plain": [
       "torch.Size([50000, 784])"
      ]
     },
     "execution_count": 38,
     "metadata": {},
     "output_type": "execute_result"
    }
   ],
   "source": [
    "x_train,y_train,x_valid,y_valid = map(tensor, (x_train,y_train,x_valid,y_valid))\n",
    "x_train.shape"
   ]
  },
  {
   "cell_type": "markdown",
   "metadata": {},
   "source": [
    "`x_train` now is a tensor, so it has a `.shape` property: \n",
    "it has  50,000 images each 784 long. \n",
    "We can find out what kind of elements it contains by calling `.type()`. "
   ]
  },
  {
   "cell_type": "code",
   "execution_count": 39,
   "metadata": {},
   "outputs": [
    {
     "data": {
      "text/plain": [
       "'torch.FloatTensor'"
      ]
     },
     "execution_count": 39,
     "metadata": {},
     "output_type": "execute_result"
    }
   ],
   "source": [
    "x_train.type()"
   ]
  },
  {
   "cell_type": "markdown",
   "metadata": {},
   "source": [
    "Instead of chunks, or  islice, the `reshape` method is roughly equivalent in a tensor.\n",
    "To reshape our 50,000 by 784 tensor into 50,000 28 by 28 tensors, we write `.reshape(50000, 28, 28)`.  \n",
    "Or, we can use `-1` which means just fill this with all the rest, i.e., it can figure out that must be 50000. "
   ]
  },
  {
   "cell_type": "code",
   "execution_count": 40,
   "metadata": {},
   "outputs": [
    {
     "data": {
      "text/plain": [
       "(torch.Size([50000, 28, 28]), 3)"
      ]
     },
     "execution_count": 40,
     "metadata": {},
     "output_type": "execute_result"
    }
   ],
   "source": [
    "imgs = x_train.reshape((-1,28,28))   #-1 means figure it out by yourself\n",
    "imgs.shape, imgs.ndim"
   ]
  },
  {
   "cell_type": "markdown",
   "metadata": {},
   "source": [
    "`imgs` is a batch of 50,000 28x28 images, and a rank-3 tensor in Pytorch.\n",
    "NumPy would call it an array with 3 dimensions. \n",
    "The rank is the number of dimensions given by `ndim`.\n",
    "Each image is a matrix, a 28 by 28 rank-2 tensor.\n",
    "A vector is a rank-1 tensor, a scalar is a rank-0 tensor.\n",
    "Many languages/libraries don't do it that way, so a scalar is dependent on the language."
   ]
  },
  {
   "cell_type": "code",
   "execution_count": 41,
   "metadata": {},
   "outputs": [
    {
     "data": {
      "image/png": "[encoded data removed]",
      "text/plain": [
       "<Figure size 640x480 with 1 Axes>"
      ]
     },
     "metadata": {},
     "output_type": "display_data"
    }
   ],
   "source": [
    "plt.imshow(imgs[0]);"
   ]
  },
  {
   "cell_type": "markdown",
   "metadata": {},
   "source": [
    "We can index into the 0th image, 20th row, 15th column to get back the same value.  "
   ]
  },
  {
   "cell_type": "code",
   "execution_count": 42,
   "metadata": {},
   "outputs": [
    {
     "data": {
      "text/plain": [
       "tensor(0.9883)"
      ]
     },
     "execution_count": 42,
     "metadata": {},
     "output_type": "execute_result"
    }
   ],
   "source": [
    "imgs[0,20,15]"
   ]
  },
  {
   "cell_type": "code",
   "execution_count": 43,
   "metadata": {},
   "outputs": [
    {
     "data": {
      "text/plain": [
       "torch.Size([50000, 784])"
      ]
     },
     "execution_count": 43,
     "metadata": {},
     "output_type": "execute_result"
    }
   ],
   "source": [
    "x_train.shape"
   ]
  },
  {
   "cell_type": "markdown",
   "metadata": {},
   "source": [
    "We can take `x_train.shape` and destructure it into `n`, number of images, and `p`, number of pixels. "
   ]
  },
  {
   "cell_type": "code",
   "execution_count": 44,
   "metadata": {},
   "outputs": [
    {
     "data": {
      "text/plain": [
       "(50000, 784)"
      ]
     },
     "execution_count": 44,
     "metadata": {},
     "output_type": "execute_result"
    }
   ],
   "source": [
    "n,p = x_train.shape\n",
    "n, p"
   ]
  },
  {
   "cell_type": "markdown",
   "metadata": {},
   "source": [
    "`y_train` is going to have the labels, in this case the corresponding digits.  Its `.shape` indicates there are 50,000 labels."
   ]
  },
  {
   "cell_type": "code",
   "execution_count": 45,
   "metadata": {},
   "outputs": [
    {
     "data": {
      "text/plain": [
       "(tensor([5, 0, 4,  ..., 8, 4, 8]), torch.Size([50000]))"
      ]
     },
     "execution_count": 45,
     "metadata": {},
     "output_type": "execute_result"
    }
   ],
   "source": [
    "y_train, y_train.shape"
   ]
  },
  {
   "cell_type": "markdown",
   "metadata": {},
   "source": [
    "`min()` and `max()` are part of the library, so we can find out what are the smallest and largest digit numbers. "
   ]
  },
  {
   "cell_type": "code",
   "execution_count": 46,
   "metadata": {},
   "outputs": [
    {
     "data": {
      "text/plain": [
       "(tensor(0), tensor(9))"
      ]
     },
     "execution_count": 46,
     "metadata": {},
     "output_type": "execute_result"
    }
   ],
   "source": [
    "min(y_train),max(y_train)"
   ]
  },
  {
   "cell_type": "markdown",
   "metadata": {},
   "source": [
    "They go from 0 to 9, and are scalar tensors.  Notice 2 ways to invoke these functions."
   ]
  },
  {
   "cell_type": "code",
   "execution_count": 47,
   "metadata": {},
   "outputs": [
    {
     "data": {
      "text/plain": [
       "(tensor(0), tensor(9))"
      ]
     },
     "execution_count": 47,
     "metadata": {},
     "output_type": "execute_result"
    }
   ],
   "source": [
    "y_train.min(), y_train.max()"
   ]
  },
  {
   "cell_type": "markdown",
   "metadata": {},
   "source": [
    "## Matrix multiplication"
   ]
  },
  {
   "cell_type": "markdown",
   "metadata": {},
   "source": [
    "In the final layer of a NeuralNet, for a MNIST digits linear classifier, the linear weights need to be 784x10,\n",
    "because that's the number of possible outputs, the number of possible digits.\n",
    "Below we create a 784x10 Matrix, `weights`, and assign it random numbers.\n",
    "For the `bias`, what we're going to add to each one, we use 0s to start."
   ]
  },
  {
   "cell_type": "code",
   "execution_count": 48,
   "metadata": {},
   "outputs": [
    {
     "data": {
      "text/plain": [
       "(tensor([[ 0.0414,  0.1635, -0.4044,  ..., -0.0850, -0.9189, -0.6654],\n",
       "         [-0.2287, -0.7262,  0.5672,  ...,  0.6683, -1.5478, -2.1764],\n",
       "         [-1.1729,  0.6536, -0.4078,  ..., -0.0367, -0.5575, -1.3143],\n",
       "         ...,\n",
       "         [-0.1857, -0.0951, -1.2352,  ...,  0.6356,  0.8468,  0.5517],\n",
       "         [-0.8920, -0.7130,  2.0665,  ..., -0.5454, -0.3429, -0.1713],\n",
       "         [ 0.0526,  1.6330,  0.8050,  ...,  0.1782,  1.4491,  0.7351]]),\n",
       " tensor([0., 0., 0., 0., 0., 0., 0., 0., 0., 0.]))"
      ]
     },
     "execution_count": 48,
     "metadata": {},
     "output_type": "execute_result"
    }
   ],
   "source": [
    "weights = torch.randn(784,10)\n",
    "bias = torch.zeros(10)\n",
    "weights, bias"
   ]
  },
  {
   "cell_type": "markdown",
   "metadata": {},
   "source": [
    "Lets use a subset of MNIST, a matrix `m1`, which has the first five handwritten digits. "
   ]
  },
  {
   "cell_type": "code",
   "execution_count": 49,
   "metadata": {},
   "outputs": [],
   "source": [
    "m1 = x_valid[:5]\n",
    "m2 = weights"
   ]
  },
  {
   "cell_type": "markdown",
   "metadata": {},
   "source": [
    "For matrix multiplication, we do a little minibatch, 5 rows of images flattened out,\n",
    "and then multiply by the `m2` weights matrix. "
   ]
  },
  {
   "cell_type": "code",
   "execution_count": 50,
   "metadata": {},
   "outputs": [
    {
     "data": {
      "text/plain": [
       "(torch.Size([5, 784]), torch.Size([784, 10]))"
      ]
     },
     "execution_count": 50,
     "metadata": {},
     "output_type": "execute_result"
    }
   ],
   "source": [
    "m1.shape,m2.shape"
   ]
  },
  {
   "cell_type": "markdown",
   "metadata": {},
   "source": [
    "The shapes are: `m1` is 5x784, `m2` is 784x10. \n",
    "We deconstruct the shapes into variables `ar, ac, br, bc`."
   ]
  },
  {
   "cell_type": "code",
   "execution_count": 51,
   "metadata": {},
   "outputs": [
    {
     "data": {
      "text/plain": [
       "((5, 784), (784, 10))"
      ]
     },
     "execution_count": 51,
     "metadata": {},
     "output_type": "execute_result"
    }
   ],
   "source": [
    "ar,ac = m1.shape # n_rows * n_cols\n",
    "br,bc = m2.shape\n",
    "(ar,ac),(br,bc)"
   ]
  },
  {
   "cell_type": "markdown",
   "metadata": {},
   "source": [
    "The resultant tensor `t1` (where each item is the result of multiplying together the corresponding 784 pairs and adding them up), will be 5x10 (`ar`x`bc`). \n",
    "`t1` starts with zeros. "
   ]
  },
  {
   "cell_type": "code",
   "execution_count": 52,
   "metadata": {},
   "outputs": [
    {
     "data": {
      "text/plain": [
       "torch.Size([5, 10])"
      ]
     },
     "execution_count": 52,
     "metadata": {},
     "output_type": "execute_result"
    }
   ],
   "source": [
    "t1 = torch.zeros(ar, bc)\n",
    "t1.shape"
   ]
  },
  {
   "cell_type": "markdown",
   "metadata": {},
   "source": [
    "To fill `t1` we have to go  through each `ar` row (of `m1`), one at a time, then through each `bc` column, one at a time,\n",
    "and then through each pair in that row column one at a time. \n",
    "Its a loop in a loop in a loop. \n",
    "The result for the `i` row and the `j` column, we add onto it the product of `i, k` in the  first matrix, by `k, j` in the second matrix. \n",
    "So `k` is going up through those 784, across the rows and down the columns. \n",
    "This is a naive, slow, uninteresting matrix multiplication method. "
   ]
  },
  {
   "cell_type": "code",
   "execution_count": 53,
   "metadata": {},
   "outputs": [
    {
     "name": "stdout",
     "output_type": "stream",
     "text": [
      "CPU times: user 2 μs, sys: 0 ns, total: 2 μs\n",
      "Wall time: 1.19 μs\n"
     ]
    }
   ],
   "source": [
    "%time\n",
    "for i in range(ar):         # 5\n",
    "    for j in range(bc):     # 10\n",
    "        for k in range(ac): # 784\n",
    "            t1[i,j] += m1[i,k] * m2[k,j]"
   ]
  },
  {
   "cell_type": "code",
   "execution_count": 54,
   "metadata": {},
   "outputs": [
    {
     "data": {
      "text/plain": [
       "(torch.Size([5, 10]), torch.Tensor)"
      ]
     },
     "execution_count": 54,
     "metadata": {},
     "output_type": "execute_result"
    }
   ],
   "source": [
    "t1.shape, type(t1)"
   ]
  },
  {
   "cell_type": "code",
   "execution_count": 55,
   "metadata": {},
   "outputs": [
    {
     "data": {
      "text/plain": [
       "tensor([[  5.6027,   6.7301, -25.6139,   6.2740,  -9.1184,  -3.1055,   4.0020,\n",
       "          12.4135, -10.5522,   7.5918],\n",
       "        [  1.5410,  -0.9061, -10.8469,   1.8002,   3.2709,   1.8615,   8.5715,\n",
       "           3.7556,   4.0554,   2.4449],\n",
       "        [  2.3159,  -9.8328,  -5.4348, -11.9813,  -9.6587,   0.7665,  10.4471,\n",
       "           5.4064,   8.3007,   2.5606],\n",
       "        [  4.0992,  -0.1402,   5.7697,   4.3643, -16.4050,   0.7321,  -4.7187,\n",
       "         -11.8572,  -9.7496, -13.0110],\n",
       "        [  6.6885,   2.5830,  -3.7286,   2.0862,  -4.3734,  -8.2773,  -3.6511,\n",
       "         -14.9864,   1.4023,   1.4318]])"
      ]
     },
     "execution_count": 55,
     "metadata": {},
     "output_type": "execute_result"
    }
   ],
   "source": [
    "t1"
   ]
  },
  {
   "cell_type": "markdown",
   "metadata": {},
   "source": [
    "Above output is hard to read because it assumes/defaults the screen size to 80 columns wide.\n",
    "We change it with `set_print_options`, and choose line width 140. \n",
    "(NB: put these settings at the top of notebooks, both for torch and NumPy.)"
   ]
  },
  {
   "cell_type": "code",
   "execution_count": 56,
   "metadata": {},
   "outputs": [
    {
     "data": {
      "text/plain": [
       "tensor([[  5.60,   6.73, -25.61,   6.27,  -9.12,  -3.11,   4.00,  12.41, -10.55,   7.59],\n",
       "        [  1.54,  -0.91, -10.85,   1.80,   3.27,   1.86,   8.57,   3.76,   4.06,   2.44],\n",
       "        [  2.32,  -9.83,  -5.43, -11.98,  -9.66,   0.77,  10.45,   5.41,   8.30,   2.56],\n",
       "        [  4.10,  -0.14,   5.77,   4.36, -16.41,   0.73,  -4.72, -11.86,  -9.75, -13.01],\n",
       "        [  6.69,   2.58,  -3.73,   2.09,  -4.37,  -8.28,  -3.65, -14.99,   1.40,   1.43]])"
      ]
     },
     "execution_count": 56,
     "metadata": {},
     "output_type": "execute_result"
    }
   ],
   "source": [
    "import numpy as np\n",
    "torch.set_printoptions(precision=2, linewidth=140, sci_mode=False)   # make it easier to read\n",
    "np.set_printoptions(precision=2, linewidth=140)\n",
    "t1"
   ]
  },
  {
   "cell_type": "markdown",
   "metadata": {},
   "source": [
    "Check that the multiplication is correct, `@` does exactly  the same things we just did.  "
   ]
  },
  {
   "cell_type": "code",
   "execution_count": 57,
   "metadata": {},
   "outputs": [
    {
     "data": {
      "text/plain": [
       "(torch.Size([5, 10]), torch.Tensor)"
      ]
     },
     "execution_count": 57,
     "metadata": {},
     "output_type": "execute_result"
    }
   ],
   "source": [
    "s1 = m1 @ m2\n",
    "s1.shape, type(s1)"
   ]
  },
  {
   "cell_type": "markdown",
   "metadata": {
    "tags": []
   },
   "source": [
    "Below shows we have successfully multiplied the matrices `m1` and `m2`. "
   ]
  },
  {
   "cell_type": "code",
   "execution_count": 58,
   "metadata": {},
   "outputs": [
    {
     "data": {
      "text/plain": [
       "(tensor([  5.60,   6.73, -25.61,   6.27,  -9.12,  -3.11,   4.00,  12.41, -10.55,   7.59]),\n",
       " tensor([  5.60,   6.73, -25.61,   6.27,  -9.12,  -3.11,   4.00,  12.41, -10.55,   7.59]))"
      ]
     },
     "execution_count": 58,
     "metadata": {},
     "output_type": "execute_result"
    }
   ],
   "source": [
    "s1[0], t1[0]"
   ]
  },
  {
   "cell_type": "markdown",
   "metadata": {},
   "source": [
    "We work step by step in Jupyter, and then once it is working, copy all the cells and paste them.\n",
    "Select them  with shift+M to merge, get rid of prints that we don't need. \n",
    "Then add a header on the  top, give it a function name, and turn it into a function. \n",
    "We still keep the stuff above it, so we can see the step by step stuff for learning about it later.  "
   ]
  },
  {
   "cell_type": "code",
   "execution_count": 59,
   "metadata": {},
   "outputs": [],
   "source": [
    "def matmul(a,b):\n",
    "    (ar,ac),(br,bc) = a.shape,b.shape\n",
    "    assert(ac==br)\n",
    "    c = torch.zeros(ar, bc)\n",
    "    for i in range(ar):\n",
    "        for j in range(bc):\n",
    "            for k in range(ac): c[i,j] += a[i,k] * b[k,j]\n",
    "    return c"
   ]
  },
  {
   "cell_type": "code",
   "execution_count": 60,
   "metadata": {},
   "outputs": [
    {
     "data": {
      "text/plain": [
       "39200"
      ]
     },
     "execution_count": 60,
     "metadata": {},
     "output_type": "execute_result"
    }
   ],
   "source": [
    "ar*ac*bc # Total number of multiplications... how long it took?"
   ]
  },
  {
   "cell_type": "markdown",
   "metadata": {},
   "source": [
    "We use %time and see how long it took to generate a small matrix, just five MNIST digits. \n",
    "We need to speed that up."
   ]
  },
  {
   "cell_type": "code",
   "execution_count": 61,
   "metadata": {},
   "outputs": [
    {
     "name": "stdout",
     "output_type": "stream",
     "text": [
      "CPU times: user 163 ms, sys: 2.01 ms, total: 165 ms\n",
      "Wall time: 164 ms\n"
     ]
    }
   ],
   "source": [
    "%time _=matmul(m1, m2) "
   ]
  },
  {
   "cell_type": "markdown",
   "metadata": {},
   "source": [
    "## Numba\n",
    "[Numba](https://numba.pydata.org/numba-doc/latest/user/5minguide.html) is a just-in-time compiler for Python that works best on code that uses NumPy arrays and functions, and loops. The common way to use Numba is through its collection of decorators that can be applied to functions to instruct Numba to compile them. When a call is made to a Numba decorated function it is compiled to machine code “just-in-time” for execution.\n",
    "Numba takes Python and compiles it into machine code, and also CUDA code.\n",
    "We must enable the cuda simulator with an environment variable `'NUMBA_ENABLE_CUDASIM'='1'` BEFORE loading numba."
   ]
  },
  {
   "cell_type": "code",
   "execution_count": 62,
   "metadata": {},
   "outputs": [],
   "source": [
    "if not(torch.cuda.is_available()):\n",
    "    import os\n",
    "    os.environ['NUMBA_ENABLE_CUDASIM']='1'"
   ]
  },
  {
   "cell_type": "code",
   "execution_count": 63,
   "metadata": {},
   "outputs": [],
   "source": [
    "from numba import njit"
   ]
  },
  {
   "cell_type": "markdown",
   "metadata": {},
   "source": [
    "We write @njit above the function definition. The first time we call the function it compiles it to machine code, afterwards\n",
    "it will run much more quickly. "
   ]
  },
  {
   "cell_type": "markdown",
   "metadata": {},
   "source": [
    "`dot` is just the inermost loop: for 2 vectors `a,b`, start at `res=0`, go through the `len(a)` and add up all the `a[i]*[b[i]`and return `res`.\n",
    "(a dot product in linear algebra)."
   ]
  },
  {
   "cell_type": "code",
   "execution_count": 64,
   "metadata": {},
   "outputs": [],
   "source": [
    "@njit\n",
    "def dot(a,b):\n",
    "    res = 0.\n",
    "    for i in range(len(a)): res+=a[i]*b[i]\n",
    "    return res"
   ]
  },
  {
   "cell_type": "markdown",
   "metadata": {},
   "source": [
    "NB: Numba only works with  NumPy, doesn't work with PyTorch.  "
   ]
  },
  {
   "cell_type": "code",
   "execution_count": 65,
   "metadata": {},
   "outputs": [],
   "source": [
    "from numpy import array"
   ]
  },
  {
   "cell_type": "markdown",
   "metadata": {},
   "source": [
    "Lets do a `dot` product of 1, 2, 3 and 2, 3, 4.\n",
    "It will take a longer time, because it is going to compile and run it. "
   ]
  },
  {
   "cell_type": "code",
   "execution_count": 66,
   "metadata": {},
   "outputs": [
    {
     "name": "stdout",
     "output_type": "stream",
     "text": [
      "CPU times: user 156 ms, sys: 30 ms, total: 186 ms\n",
      "Wall time: 283 ms\n"
     ]
    },
    {
     "data": {
      "text/plain": [
       "20.0"
      ]
     },
     "execution_count": 66,
     "metadata": {},
     "output_type": "execute_result"
    }
   ],
   "source": [
    "%time dot(array([1.,2,3]),array([2.,3,4]))"
   ]
  },
  {
   "cell_type": "markdown",
   "metadata": {},
   "source": [
    "Now that it's compiled, the second time, it's just microseconds. "
   ]
  },
  {
   "cell_type": "code",
   "execution_count": 67,
   "metadata": {},
   "outputs": [
    {
     "name": "stdout",
     "output_type": "stream",
     "text": [
      "CPU times: user 9 μs, sys: 0 ns, total: 9 μs\n",
      "Wall time: 10 μs\n"
     ]
    },
    {
     "data": {
      "text/plain": [
       "20.0"
      ]
     },
     "execution_count": 67,
     "metadata": {},
     "output_type": "execute_result"
    }
   ],
   "source": [
    "%time dot(array([1.,2,3]),array([2.,3,4]))"
   ]
  },
  {
   "cell_type": "markdown",
   "metadata": {},
   "source": [
    "If we replace the core loop in Python with a call to `dot`, (now compiled), then we have only 2 loops running \"in Python\". "
   ]
  },
  {
   "cell_type": "code",
   "execution_count": 68,
   "metadata": {},
   "outputs": [],
   "source": [
    "def matmul(a,b):\n",
    "    (ar,ac),(br,bc) = a.shape,b.shape\n",
    "    c = torch.zeros(ar, bc)\n",
    "    for i in range(ar):\n",
    "        for j in range(bc): c[i,j] = dot(a[i,:], b[:,j])\n",
    "    return c"
   ]
  },
  {
   "cell_type": "code",
   "execution_count": 69,
   "metadata": {},
   "outputs": [
    {
     "name": "stdout",
     "output_type": "stream",
     "text": [
      "The slowest run took 19.62 times longer than the fastest. This could mean that an intermediate result is being cached.\n",
      "360 μs ± 639 μs per loop (mean ± std. dev. of 7 runs, 10 loops each)\n"
     ]
    }
   ],
   "source": [
    "m1a,m2a = m1.numpy(),m2.numpy()\n",
    "\n",
    "%timeit -n 10 matmul(m1a,m2a)"
   ]
  },
  {
   "cell_type": "code",
   "execution_count": 70,
   "metadata": {},
   "outputs": [
    {
     "name": "stdout",
     "output_type": "stream",
     "text": [
      "CPU times: user 404 μs, sys: 399 μs, total: 803 μs\n",
      "Wall time: 467 μs\n"
     ]
    }
   ],
   "source": [
    "%time _ = matmul(m1a,m2a);"
   ]
  },
  {
   "cell_type": "markdown",
   "metadata": {},
   "source": [
    "Now it is 2 orders of magnitude faster, by changing the one innermost loop with an @njit compiled version."
   ]
  },
  {
   "cell_type": "code",
   "execution_count": 71,
   "metadata": {},
   "outputs": [],
   "source": [
    "from fastcore.test import test_close"
   ]
  },
  {
   "cell_type": "markdown",
   "metadata": {},
   "source": [
    "We need to test that the results are close.\n",
    "Fastcore's `test_close()` checks that 2 things are \"very close\", i.e. difference < `eps`. \n",
    "They might not be exactly the same because of floating point differences. \n",
    "`matmul` is working correctly, (or at least it's doing the same thing it did before).  "
   ]
  },
  {
   "cell_type": "code",
   "execution_count": 72,
   "metadata": {},
   "outputs": [],
   "source": [
    "test_close(t1,matmul(m1a, m2a),eps=1e-3)"
   ]
  },
  {
   "cell_type": "markdown",
   "metadata": {},
   "source": [
    "## Elementwise ops"
   ]
  },
  {
   "cell_type": "markdown",
   "metadata": {},
   "source": [
    "Many say that learning [APL](https://aplwiki.com/wiki/Main_Page) taught them more about programming than anything. So consider learning APL, eg [TryAPL](https://tryapl.org/). \n",
    "We can do similar things in PyTorch but it is more verbose.\n",
    "JH likes to do mathematical fiddling in APL, with less boilerplate, more time thinking, see everything on the screen at once.\n",
    "No waste of time trying to ignore the Python cognitive load, e.g., tensor around bracket, square bracket, dot comma, etc."
   ]
  },
  {
   "cell_type": "code",
   "execution_count": 73,
   "metadata": {},
   "outputs": [
    {
     "data": {
      "text/plain": [
       "(tensor([10.,  6., -4.]), tensor([2., 8., 7.]))"
      ]
     },
     "execution_count": 73,
     "metadata": {},
     "output_type": "execute_result"
    }
   ],
   "source": [
    "a = tensor([10., 6, -4])\n",
    "b = tensor([2., 8, 7])\n",
    "a,b"
   ]
  },
  {
   "cell_type": "markdown",
   "metadata": {},
   "source": [
    "We can say a + b and it works like in APL."
   ]
  },
  {
   "cell_type": "code",
   "execution_count": 74,
   "metadata": {},
   "outputs": [
    {
     "data": {
      "text/plain": [
       "tensor([12., 14.,  3.])"
      ]
     },
     "execution_count": 74,
     "metadata": {},
     "output_type": "execute_result"
    }
   ],
   "source": [
    "a + b"
   ]
  },
  {
   "cell_type": "markdown",
   "metadata": {},
   "source": [
    "The `<` operates element wise. \n",
    "`a < b` means: 10 is less than 2, 6 is less than 8, 4 is less than 7 and gives us back\n",
    "each of those `True` and `False`. "
   ]
  },
  {
   "cell_type": "code",
   "execution_count": 75,
   "metadata": {},
   "outputs": [
    {
     "data": {
      "text/plain": [
       "tensor([False,  True,  True])"
      ]
     },
     "execution_count": 75,
     "metadata": {},
     "output_type": "execute_result"
    }
   ],
   "source": [
    "(a < b)"
   ]
  },
  {
   "cell_type": "markdown",
   "metadata": {},
   "source": [
    "`True` and `False` are represented by 1 and 0, so we can use them for math, e.g., we can add them and subtract them. "
   ]
  },
  {
   "cell_type": "code",
   "execution_count": 76,
   "metadata": {},
   "outputs": [
    {
     "data": {
      "text/plain": [
       "tensor(0.67)"
      ]
     },
     "execution_count": 76,
     "metadata": {},
     "output_type": "execute_result"
    }
   ],
   "source": [
    "(a < b).float().mean()"
   ]
  },
  {
   "cell_type": "markdown",
   "metadata": {},
   "source": [
    "Higher rank, `m` is a rank-2 tensor, a matrix."
   ]
  },
  {
   "cell_type": "code",
   "execution_count": 77,
   "metadata": {},
   "outputs": [
    {
     "data": {
      "text/plain": [
       "tensor([[1., 2., 3.],\n",
       "        [4., 5., 6.],\n",
       "        [7., 8., 9.]])"
      ]
     },
     "execution_count": 77,
     "metadata": {},
     "output_type": "execute_result"
    }
   ],
   "source": [
    "m = tensor([[1., 2, 3], [4,5,6], [7,8,9]]); m"
   ]
  },
  {
   "cell_type": "markdown",
   "metadata": {},
   "source": [
    "We will use the **Frobenius** norm in generative modeling: \n",
    "Take all the elements of a matrix, square them, add them up and take the square root. \n",
    "The Frobenius norm is an extension of the Euclidean norm to $K^{n × n}$. "
   ]
  },
  {
   "cell_type": "markdown",
   "metadata": {},
   "source": [
    "Frobenius norm :\n",
    "$$\\| A \\|_F = \\left( \\sum_{i,j=1}^n | a_{ij} |^2 \\right)^{1/2}$$\n",
    "*Hint*: To write equations in LaTeX you can click 'edit' in Wikipedia and copy the LaTeX from there. Or on arxiv.org, click \"Download: Other formats\" in the top right, then \"Download source\"; rename the downloaded file to end in `.tgz` if it doesn't already, and the source includes the equations to copy and paste. This is the source LaTeX that renders the equation above:\n",
    "```latex\n",
    "$$\\| A \\|_F = \\left( \\sum_{i,j=1}^n | a_{ij} |^2 \\right)^{1/2}$$\n",
    "```"
   ]
  },
  {
   "cell_type": "markdown",
   "metadata": {},
   "source": [
    "In PyTorch is as follows:  "
   ]
  },
  {
   "cell_type": "code",
   "execution_count": 78,
   "metadata": {},
   "outputs": [
    {
     "data": {
      "text/plain": [
       "tensor(16.88)"
      ]
     },
     "execution_count": 78,
     "metadata": {},
     "output_type": "execute_result"
    }
   ],
   "source": [
    "(m*m).sum().sqrt()   #Frobenius norm of m"
   ]
  },
  {
   "cell_type": "markdown",
   "metadata": {},
   "source": [
    "We index into a  matrix, rows first and then columns. \n",
    "`m[2,:]` means all the columns of row 2, and `m[:,-1]` are all the the rows of the last column.\n",
    "We use `,` to print out multiple things, (no need to say print in Jupyter, its assumed). "
   ]
  },
  {
   "cell_type": "code",
   "execution_count": 79,
   "metadata": {},
   "outputs": [
    {
     "data": {
      "text/plain": [
       "(tensor([7., 8., 9.]), tensor([3., 6., 9.]))"
      ]
     },
     "execution_count": 79,
     "metadata": {},
     "output_type": "execute_result"
    }
   ],
   "source": [
    "m[2,:], m[:,-1]"
   ]
  },
  {
   "cell_type": "markdown",
   "metadata": {},
   "source": [
    "For tensors of higher rank than 1, such as a matrix, any trailing colons are optional. \n",
    "`m[2]` is the same as `m[2, :]`. "
   ]
  },
  {
   "cell_type": "code",
   "execution_count": 80,
   "metadata": {},
   "outputs": [
    {
     "data": {
      "text/plain": [
       "tensor([7., 8., 9.])"
      ]
     },
     "execution_count": 80,
     "metadata": {},
     "output_type": "execute_result"
    }
   ],
   "source": [
    "m[2]"
   ]
  },
  {
   "cell_type": "markdown",
   "metadata": {},
   "source": [
    "Lets get rid of the innermost loop (`k`), as it is multiplying together \n",
    "all the `k` columns of `a` with the corresponding `k` rows of a column of `b`. \n",
    "We can use element wise operation: `a[i,:] * b[:,j]`"
   ]
  },
  {
   "cell_type": "code",
   "execution_count": 81,
   "metadata": {},
   "outputs": [],
   "source": [
    "def matmul(a,b):\n",
    "    (ar,ac),(br,bc) = a.shape,b.shape\n",
    "    c = torch.zeros(ar, bc)\n",
    "    for i in range(ar):\n",
    "        for j in range(bc): c[i,j] = (a[i,:] * b[:,j]).sum()\n",
    "    return c"
   ]
  },
  {
   "cell_type": "code",
   "execution_count": 82,
   "metadata": {},
   "outputs": [],
   "source": [
    "test_close(t1,matmul(m1, m2))"
   ]
  },
  {
   "cell_type": "code",
   "execution_count": 83,
   "metadata": {},
   "outputs": [
    {
     "name": "stdout",
     "output_type": "stream",
     "text": [
      "220 μs ± 11.9 μs per loop (mean ± std. dev. of 7 runs, 10 loops each)\n"
     ]
    }
   ],
   "source": [
    "%timeit -n 10 _=matmul(m1, m2)"
   ]
  },
  {
   "cell_type": "markdown",
   "metadata": {},
   "source": [
    "It is slower than the Numba compiled code, but faster than our naive first attempt.\n",
    "And we're using something that is  more general now, the same as `dot`.\n",
    "Now we can use `torch.dot()`, which is a little faster, but still slower than the Numba."
   ]
  },
  {
   "cell_type": "code",
   "execution_count": 84,
   "metadata": {},
   "outputs": [],
   "source": [
    "def matmul(a,b):\n",
    "    (ar,ac),(br,bc) = a.shape,b.shape\n",
    "    c = torch.zeros(ar, bc)\n",
    "    for i in range(ar):\n",
    "        for j in range(bc): c[i,j] = torch.dot(a[i,:], b[:,j])\n",
    "    return c"
   ]
  },
  {
   "cell_type": "code",
   "execution_count": 85,
   "metadata": {},
   "outputs": [],
   "source": [
    "test_close(t1,matmul(m1, m2),eps=1e-4)"
   ]
  },
  {
   "cell_type": "code",
   "execution_count": 86,
   "metadata": {},
   "outputs": [
    {
     "name": "stdout",
     "output_type": "stream",
     "text": [
      "181 μs ± 11.6 μs per loop (mean ± std. dev. of 7 runs, 10 loops each)\n"
     ]
    }
   ],
   "source": [
    "%timeit -n 10 _=matmul(m1, m2)"
   ]
  },
  {
   "cell_type": "markdown",
   "metadata": {
    "heading_collapsed": true
   },
   "source": [
    "## Broadcasting - how arrays with different shapes are treated during arithmetic operations. "
   ]
  },
  {
   "cell_type": "markdown",
   "metadata": {
    "hidden": true
   },
   "source": [
    "From the [Numpy Documentation](https://docs.scipy.org/doc/numpy-1.10.0/user/basics.broadcasting.html):\n",
    "\n",
    "The term **broadcasting** describes how numpy treats arrays with different shapes during arithmetic operations. \n",
    "Subject to certain constraints, the smaller array is “broadcast” across the larger array so that they have compatible shapes. Broadcasting provides a means of vectorizing array operations so that looping occurs in C instead of Python. \n",
    "It does this without making needless copies of data and usually leads to efficient algorithm implementations.\n",
    "In addition to the efficiency of broadcasting, it allows developers to write less code, which typically leads to fewer errors.\n",
    "\n",
    "*This section was adapted from [Chapter 4](http://nbviewer.jupyter.org/github/fastai/numerical-linear-algebra/blob/master/nbs/4.%20Compressed%20Sensing%20of%20CT%20Scans%20with%20Robust%20Regression.ipynb#4.-Compressed-Sensing-of-CT-Scans-with-Robust-Regression) of the fast.ai [Computational Linear Algebra](https://github.com/fastai/numerical-linear-algebra) course.*"
   ]
  },
  {
   "cell_type": "markdown",
   "metadata": {
    "heading_collapsed": true,
    "hidden": true
   },
   "source": [
    "### Broadcasting with a scalar"
   ]
  },
  {
   "cell_type": "code",
   "execution_count": 87,
   "metadata": {
    "hidden": true
   },
   "outputs": [
    {
     "data": {
      "text/plain": [
       "tensor([10.,  6., -4.])"
      ]
     },
     "execution_count": 87,
     "metadata": {},
     "output_type": "execute_result"
    }
   ],
   "source": [
    "a"
   ]
  },
  {
   "cell_type": "code",
   "execution_count": 88,
   "metadata": {
    "hidden": true
   },
   "outputs": [
    {
     "data": {
      "text/plain": [
       "tensor([ True,  True, False])"
      ]
     },
     "execution_count": 88,
     "metadata": {},
     "output_type": "execute_result"
    }
   ],
   "source": [
    "a > 0"
   ]
  },
  {
   "cell_type": "markdown",
   "metadata": {
    "hidden": true
   },
   "source": [
    "How are we able to compare an array with a scalar in `a > 0`? \n",
    "The scalar `0` is being **broadcast** to have the same dimensions as the array `a`.\n",
    "\n",
    "We can using broadcasting to normalize a dataset by subtracting the mean (a scalar) from the entire data set (a matrix) and dividing by the standard deviation (another scalar).\n",
    "<br>\n",
    "Other examples of broadcasting with a scalar:"
   ]
  },
  {
   "cell_type": "code",
   "execution_count": 89,
   "metadata": {
    "hidden": true
   },
   "outputs": [
    {
     "data": {
      "text/plain": [
       "tensor([11.,  7., -3.])"
      ]
     },
     "execution_count": 89,
     "metadata": {},
     "output_type": "execute_result"
    }
   ],
   "source": [
    "a + 1"
   ]
  },
  {
   "cell_type": "code",
   "execution_count": 90,
   "metadata": {
    "hidden": true
   },
   "outputs": [
    {
     "data": {
      "text/plain": [
       "tensor([[1., 2., 3.],\n",
       "        [4., 5., 6.],\n",
       "        [7., 8., 9.]])"
      ]
     },
     "execution_count": 90,
     "metadata": {},
     "output_type": "execute_result"
    }
   ],
   "source": [
    "m"
   ]
  },
  {
   "cell_type": "code",
   "execution_count": 91,
   "metadata": {
    "hidden": true
   },
   "outputs": [
    {
     "data": {
      "text/plain": [
       "tensor([[ 2.,  4.,  6.],\n",
       "        [ 8., 10., 12.],\n",
       "        [14., 16., 18.]])"
      ]
     },
     "execution_count": 91,
     "metadata": {},
     "output_type": "execute_result"
    }
   ],
   "source": [
    "2*m"
   ]
  },
  {
   "cell_type": "markdown",
   "metadata": {
    "hidden": true
   },
   "source": [
    "### Broadcasting a vector to a matrix\n",
    "Broadcasting a scalar dates back to APL, but the idea of broadcasting **across higher rank tensors** [comes from](https://mail.python.org/pipermail/matrix-sig/1995-November/000143.html) the language [Yorick](https://software.llnl.gov/yorick-doc/manual/yorick_50.html)."
   ]
  },
  {
   "cell_type": "markdown",
   "metadata": {
    "hidden": true
   },
   "source": [
    "#### We can broadcast a vector to a matrix:"
   ]
  },
  {
   "cell_type": "code",
   "execution_count": 92,
   "metadata": {
    "hidden": true
   },
   "outputs": [
    {
     "data": {
      "text/plain": [
       "tensor([10., 20., 30.])"
      ]
     },
     "execution_count": 92,
     "metadata": {},
     "output_type": "execute_result"
    }
   ],
   "source": [
    "c = tensor([10.,20,30]); c"
   ]
  },
  {
   "cell_type": "code",
   "execution_count": 93,
   "metadata": {
    "hidden": true
   },
   "outputs": [
    {
     "data": {
      "text/plain": [
       "tensor([[1., 2., 3.],\n",
       "        [4., 5., 6.],\n",
       "        [7., 8., 9.]])"
      ]
     },
     "execution_count": 93,
     "metadata": {},
     "output_type": "execute_result"
    }
   ],
   "source": [
    "m"
   ]
  },
  {
   "cell_type": "code",
   "execution_count": 94,
   "metadata": {
    "hidden": true
   },
   "outputs": [
    {
     "data": {
      "text/plain": [
       "(torch.Size([3, 3]), torch.Size([3]))"
      ]
     },
     "execution_count": 94,
     "metadata": {},
     "output_type": "execute_result"
    }
   ],
   "source": [
    "m.shape,c.shape"
   ]
  },
  {
   "cell_type": "markdown",
   "metadata": {},
   "source": [
    "Instead of broadcasting a scalar over a  higher rank tensor, `m + c` broadcasts a vector `c` across every row of a matrix `m`. "
   ]
  },
  {
   "cell_type": "code",
   "execution_count": 95,
   "metadata": {
    "hidden": true
   },
   "outputs": [
    {
     "data": {
      "text/plain": [
       "tensor([[11., 22., 33.],\n",
       "        [14., 25., 36.],\n",
       "        [17., 28., 39.]])"
      ]
     },
     "execution_count": 95,
     "metadata": {},
     "output_type": "execute_result"
    }
   ],
   "source": [
    "m + c"
   ]
  },
  {
   "cell_type": "markdown",
   "metadata": {},
   "source": [
    "And it is commutative, i.e., `(m+c)==(c+m)`.  "
   ]
  },
  {
   "cell_type": "code",
   "execution_count": 96,
   "metadata": {
    "hidden": true
   },
   "outputs": [
    {
     "data": {
      "text/plain": [
       "tensor([[11., 22., 33.],\n",
       "        [14., 25., 36.],\n",
       "        [17., 28., 39.]])"
      ]
     },
     "execution_count": 96,
     "metadata": {},
     "output_type": "execute_result"
    }
   ],
   "source": [
    "c + m"
   ]
  },
  {
   "cell_type": "markdown",
   "metadata": {
    "hidden": true
   },
   "source": [
    "It doesn't copy the rows, but it looks as it did. In fact, the rows are given a *stride* of 0."
   ]
  },
  {
   "cell_type": "markdown",
   "metadata": {},
   "source": [
    "#### expand_as()\n",
    "`t=c.expand_as(m)` creates a new Tensor `t`, with the same content as `c`, but expanded so it has the same shape as `m`. \n",
    "Below, `t` will contains 3 copies of `c`. "
   ]
  },
  {
   "cell_type": "code",
   "execution_count": 97,
   "metadata": {
    "hidden": true
   },
   "outputs": [
    {
     "data": {
      "text/plain": [
       "tensor([[10., 20., 30.],\n",
       "        [10., 20., 30.],\n",
       "        [10., 20., 30.]])"
      ]
     },
     "execution_count": 97,
     "metadata": {},
     "output_type": "execute_result"
    }
   ],
   "source": [
    "t = c.expand_as(m)\n",
    "t"
   ]
  },
  {
   "cell_type": "markdown",
   "metadata": {},
   "source": [
    "And we can add `t` to `m` because they match shapes. "
   ]
  },
  {
   "cell_type": "code",
   "execution_count": 98,
   "metadata": {
    "hidden": true
   },
   "outputs": [
    {
     "data": {
      "text/plain": [
       "tensor([[11., 22., 33.],\n",
       "        [14., 25., 36.],\n",
       "        [17., 28., 39.]])"
      ]
     },
     "execution_count": 98,
     "metadata": {},
     "output_type": "execute_result"
    }
   ],
   "source": [
    "m + t"
   ]
  },
  {
   "cell_type": "markdown",
   "metadata": {},
   "source": [
    "`expand_as()` didn't  create three copies. \n",
    "`expand_as()` does not create a new tensor with copied data. Instead, it returns a view of the original tensor, with expanded dimensions (using broadcasting), without allocating new memory."
   ]
  },
  {
   "cell_type": "code",
   "execution_count": 99,
   "metadata": {},
   "outputs": [
    {
     "name": "stdout",
     "output_type": "stream",
     "text": [
      "Original m:\n",
      "Shape: torch.Size([3, 3])\n",
      "Strides: (3, 1)\n",
      "\n",
      "Expanded t:\n",
      "Shape: torch.Size([3, 3])\n",
      "Strides: (0, 1)\n"
     ]
    }
   ],
   "source": [
    "print(\"Original m:\")\n",
    "print(\"Shape:\", m.shape)\n",
    "print(\"Strides:\", m.stride())\n",
    "\n",
    "print(\"\\nExpanded t:\")\n",
    "print(\"Shape:\", t.shape)\n",
    "print(\"Strides:\", t.stride())\n"
   ]
  },
  {
   "cell_type": "markdown",
   "metadata": {},
   "source": [
    "But `t` has a *stride of 0* across the  rows and a size of `[3, 3]`, so it acts as a 3 by 3 matrix. \n",
    "Each time it \"goes\" to the next row, it stays where it is. \n",
    "Strides is the trick which NumPy and PyTorch use to create efficient ways to do things\n",
    "like expanding, jump over things, switch between columns and rows.\n",
    "We didn't make a copy, it is efficient and it's going to run in C code fast.  \n",
    "`expand_as()` is critical to understand how broadcasting works."
   ]
  },
  {
   "cell_type": "markdown",
   "metadata": {
    "hidden": true
   },
   "source": [
    "To convert a 1-dimensional array into a 2-dimensional array (although one of those dimensions has value 1)\n",
    "we can index with the special value `None` or use `unsqueeze()`. \n",
    "`c` is  a vector containing `[10, 20, 30]`, then `c.unsqueeze(0)`, changes the shape from `[3]` to `[1,3]`. \n",
    "From a vector of length 3 to a matrix of 1 row by 3 columns.\n",
    "Notice it's printed, with two square brackets `[[ .... ]]` to indicate two dimensions. "
   ]
  },
  {
   "cell_type": "code",
   "execution_count": 100,
   "metadata": {
    "hidden": true
   },
   "outputs": [
    {
     "data": {
      "text/plain": [
       "(tensor([[10., 20., 30.]]), tensor([[10., 20., 30.]]))"
      ]
     },
     "execution_count": 100,
     "metadata": {},
     "output_type": "execute_result"
    }
   ],
   "source": [
    "c.unsqueeze(0), c[None, :]"
   ]
  },
  {
   "cell_type": "code",
   "execution_count": 101,
   "metadata": {
    "hidden": true
   },
   "outputs": [
    {
     "data": {
      "text/plain": [
       "(torch.Size([3]), torch.Size([1, 3]))"
      ]
     },
     "execution_count": 101,
     "metadata": {},
     "output_type": "execute_result"
    }
   ],
   "source": [
    "c.shape, c.unsqueeze(0).shape"
   ]
  },
  {
   "cell_type": "markdown",
   "metadata": {
    "hidden": true
   },
   "source": [
    "`unsqueeze(1)` means to unsqueeze into the first dimension, i.e., we now have 3 rows and 1 column. "
   ]
  },
  {
   "cell_type": "code",
   "execution_count": 102,
   "metadata": {
    "hidden": true
   },
   "outputs": [
    {
     "data": {
      "text/plain": [
       "(tensor([[10.],\n",
       "         [20.],\n",
       "         [30.]]),\n",
       " tensor([[10.],\n",
       "         [20.],\n",
       "         [30.]]))"
      ]
     },
     "execution_count": 102,
     "metadata": {},
     "output_type": "execute_result"
    }
   ],
   "source": [
    "c.unsqueeze(1), c[:, None]"
   ]
  },
  {
   "cell_type": "code",
   "execution_count": 103,
   "metadata": {
    "hidden": true
   },
   "outputs": [
    {
     "data": {
      "text/plain": [
       "(torch.Size([3]), torch.Size([3, 1]))"
      ]
     },
     "execution_count": 103,
     "metadata": {},
     "output_type": "execute_result"
    }
   ],
   "source": [
    "c.shape, c.unsqueeze(1).shape"
   ]
  },
  {
   "cell_type": "markdown",
   "metadata": {
    "hidden": true
   },
   "source": [
    "We can do the same thing here, give us every row and a new unit axis in position 1.\n",
    "`c[None]` creates a matrix with 1 row, and `c[...,None]` creates a matrix with 1 column.\n",
    "We can always skip trailling ':'s. And '...' means '*all preceding dimensions*'."
   ]
  },
  {
   "cell_type": "code",
   "execution_count": 104,
   "metadata": {
    "hidden": true
   },
   "outputs": [
    {
     "data": {
      "text/plain": [
       "(torch.Size([1, 3]), torch.Size([3, 1]))"
      ]
     },
     "execution_count": 104,
     "metadata": {},
     "output_type": "execute_result"
    }
   ],
   "source": [
    "c[None].shape,c[...,None].shape"
   ]
  },
  {
   "cell_type": "markdown",
   "metadata": {},
   "source": [
    "Let's check out what `c[:, None]` looks like: it is a column. "
   ]
  },
  {
   "cell_type": "code",
   "execution_count": 105,
   "metadata": {},
   "outputs": [
    {
     "data": {
      "text/plain": [
       "tensor([[10.],\n",
       "        [20.],\n",
       "        [30.]])"
      ]
     },
     "execution_count": 105,
     "metadata": {},
     "output_type": "execute_result"
    }
   ],
   "source": [
    "c[:, None]"
   ]
  },
  {
   "cell_type": "markdown",
   "metadata": {},
   "source": [
    "with `.expand_as(m)`, which is 3 by 3, it is going to take that column and replicate it. "
   ]
  },
  {
   "cell_type": "code",
   "execution_count": 106,
   "metadata": {
    "hidden": true
   },
   "outputs": [
    {
     "data": {
      "text/plain": [
       "tensor([[10., 10., 10.],\n",
       "        [20., 20., 20.],\n",
       "        [30., 30., 30.]])"
      ]
     },
     "execution_count": 106,
     "metadata": {},
     "output_type": "execute_result"
    }
   ],
   "source": [
    "c[:,None].expand_as(m)"
   ]
  },
  {
   "cell_type": "markdown",
   "metadata": {},
   "source": [
    "To add a matrix to m, we don't need to say `.expand_as()`, we just  write `m + c[:, None]`,\n",
    "which does `.expand_as()` for us. "
   ]
  },
  {
   "cell_type": "code",
   "execution_count": 107,
   "metadata": {
    "hidden": true
   },
   "outputs": [
    {
     "data": {
      "text/plain": [
       "tensor([[11., 12., 13.],\n",
       "        [24., 25., 26.],\n",
       "        [37., 38., 39.]])"
      ]
     },
     "execution_count": 107,
     "metadata": {},
     "output_type": "execute_result"
    }
   ],
   "source": [
    "m + c[:,None]"
   ]
  },
  {
   "cell_type": "markdown",
   "metadata": {},
   "source": [
    "Below is the same as doing `m + c`,  but now rather than adding the vector to each row, it's adding the vector to each column. "
   ]
  },
  {
   "cell_type": "code",
   "execution_count": 108,
   "metadata": {
    "hidden": true
   },
   "outputs": [
    {
     "data": {
      "text/plain": [
       "tensor([[11., 22., 33.],\n",
       "        [14., 25., 36.],\n",
       "        [17., 28., 39.]])"
      ]
     },
     "execution_count": 108,
     "metadata": {},
     "output_type": "execute_result"
    }
   ],
   "source": [
    "m + c[None,:]"
   ]
  },
  {
   "cell_type": "markdown",
   "metadata": {
    "heading_collapsed": true,
    "hidden": true
   },
   "source": [
    "### Broadcasting Rules"
   ]
  },
  {
   "cell_type": "code",
   "execution_count": 109,
   "metadata": {
    "hidden": true
   },
   "outputs": [
    {
     "data": {
      "text/plain": [
       "tensor([[10., 20., 30.]])"
      ]
     },
     "execution_count": 109,
     "metadata": {},
     "output_type": "execute_result"
    }
   ],
   "source": [
    "c[None,:]"
   ]
  },
  {
   "cell_type": "code",
   "execution_count": 110,
   "metadata": {
    "hidden": true
   },
   "outputs": [
    {
     "data": {
      "text/plain": [
       "torch.Size([1, 3])"
      ]
     },
     "execution_count": 110,
     "metadata": {},
     "output_type": "execute_result"
    }
   ],
   "source": [
    "c[None,:].shape"
   ]
  },
  {
   "cell_type": "code",
   "execution_count": 111,
   "metadata": {
    "hidden": true
   },
   "outputs": [
    {
     "data": {
      "text/plain": [
       "tensor([[10.],\n",
       "        [20.],\n",
       "        [30.]])"
      ]
     },
     "execution_count": 111,
     "metadata": {},
     "output_type": "execute_result"
    }
   ],
   "source": [
    "c[:,None]"
   ]
  },
  {
   "cell_type": "code",
   "execution_count": 112,
   "metadata": {
    "hidden": true
   },
   "outputs": [
    {
     "data": {
      "text/plain": [
       "torch.Size([3, 1])"
      ]
     },
     "execution_count": 112,
     "metadata": {},
     "output_type": "execute_result"
    }
   ],
   "source": [
    "c[:,None].shape"
   ]
  },
  {
   "cell_type": "markdown",
   "metadata": {},
   "source": [
    "What are  the rules and how does it work?  `c[None, :]` is 1x3. `c[:, None]` is 3x1. \n",
    "`c[None, :] *  c[:, None]` takes the `[10, 20, 30]` column vector (or 3x1 matrix), and will make it work across each of the rows. \n",
    "It expands it to be `[10, 20, 30; 10, 20, 30; 10, 20, 30.]`\n",
    "And then does the same expansion for `c[None, :]`, which becomes 3 rows of `[10, 20, 30]`. \n",
    "We have 3 rows times 3 columns, which gives the answer below. \n",
    "This is an **outer product**, without any special functions, just using broadcasting. "
   ]
  },
  {
   "cell_type": "code",
   "execution_count": 113,
   "metadata": {
    "hidden": true
   },
   "outputs": [
    {
     "data": {
      "text/plain": [
       "tensor([[100., 200., 300.],\n",
       "        [200., 400., 600.],\n",
       "        [300., 600., 900.]])"
      ]
     },
     "execution_count": 113,
     "metadata": {},
     "output_type": "execute_result"
    }
   ],
   "source": [
    "c[None,:] * c[:,None]"
   ]
  },
  {
   "cell_type": "markdown",
   "metadata": {},
   "source": [
    "We can do **outer Boolean** operations, e.g., below is showing us all the places where it's greater than `>`. "
   ]
  },
  {
   "cell_type": "code",
   "execution_count": 114,
   "metadata": {
    "hidden": true
   },
   "outputs": [
    {
     "data": {
      "text/plain": [
       "tensor([[False,  True,  True],\n",
       "        [False, False,  True],\n",
       "        [False, False, False]])"
      ]
     },
     "execution_count": 114,
     "metadata": {},
     "output_type": "execute_result"
    }
   ],
   "source": [
    "c[None] > c[:,None]"
   ]
  },
  {
   "cell_type": "markdown",
   "metadata": {
    "hidden": true
   },
   "source": [
    "When operating on two arrays/tensors, Numpy/PyTorch compares their shapes element-wise. It starts with the **trailing dimensions**, and works its way forward. Two dimensions are **compatible** when\n",
    "- they are equal, or\n",
    "- one of them is 1, in which case that dimension is *broadcasted* to make it the same size as the other\n",
    "\n",
    "*Arrays do not need to have the same number of dimensions.* For example, given `Image`, a `256x256x3` array of RGB values, to scale each color in the image by a different value, multiply `Image` by `Scale` a one-dimensional array with 3 values. Lining up the sizes of the trailing axes of these arrays according to the broadcast rules, shows that they are compatible:\n",
    "\n",
    "    Image  (3d array): 256 x 256 x 3\n",
    "    Scale  (1d array):             3\n",
    "    Result (3d array): 256 x 256 x 3\n",
    "\n",
    "The [numpy documentation](https://docs.scipy.org/doc/numpy-1.13.0/user/basics.broadcasting.html#general-broadcasting-rules) includes several examples of what dimensions can and can not be broadcast together."
   ]
  },
  {
   "cell_type": "markdown",
   "metadata": {},
   "source": [
    "## Matmul with broadcasting\n",
    "We can use broadcasting to speed up our matrix multiplication. "
   ]
  },
  {
   "cell_type": "markdown",
   "metadata": {},
   "source": [
    "Below, the single handwritten `digit` `m1[0]` shape is a 784 long vector (of pixels), and the weight matrix `m2` shape is 784x10. "
   ]
  },
  {
   "cell_type": "code",
   "execution_count": 115,
   "metadata": {},
   "outputs": [
    {
     "data": {
      "text/plain": [
       "(torch.Size([784]), torch.Size([784, 10]))"
      ]
     },
     "execution_count": 115,
     "metadata": {},
     "output_type": "execute_result"
    }
   ],
   "source": [
    "digit = m1[0]\n",
    "digit.shape, m2.shape"
   ]
  },
  {
   "cell_type": "markdown",
   "metadata": {},
   "source": [
    "`digit[:, None]` is a 784 by 1 row matrix."
   ]
  },
  {
   "cell_type": "code",
   "execution_count": 116,
   "metadata": {},
   "outputs": [
    {
     "data": {
      "text/plain": [
       "torch.Size([784, 1])"
      ]
     },
     "execution_count": 116,
     "metadata": {},
     "output_type": "execute_result"
    }
   ],
   "source": [
    "digit[:,None].shape"
   ]
  },
  {
   "cell_type": "markdown",
   "metadata": {},
   "source": [
    "If we take the [784,1] `digit` and `.expand_as(m2)`, it gets the same shape as `m2` (the weight matrix). "
   ]
  },
  {
   "cell_type": "code",
   "execution_count": 117,
   "metadata": {},
   "outputs": [
    {
     "data": {
      "text/plain": [
       "torch.Size([784, 10])"
      ]
     },
     "execution_count": 117,
     "metadata": {},
     "output_type": "execute_result"
    }
   ],
   "source": [
    "digit[:,None].expand_as(m2).shape"
   ]
  },
  {
   "cell_type": "markdown",
   "metadata": {},
   "source": [
    "`expand_as` has *\"copied\"* the image data (pixels) for `digit` across all of the 10  vectors representing \n",
    "the 10 \"kind of linear projections\" we're doing for our linear model. \n",
    "Now we can take `digit[:, None]` and multiply it by the weights `m2`, to get a `[784,10]` shape. \n",
    "The `*`  is looping through each of the 10 (784 long) vectors, and for each one of them, it's  multiplying it by this digit. \n",
    "That is what we want to do in a matrix multiplication `matmul`. "
   ]
  },
  {
   "cell_type": "code",
   "execution_count": 118,
   "metadata": {},
   "outputs": [
    {
     "data": {
      "text/plain": [
       "torch.Size([784, 10])"
      ]
     },
     "execution_count": 118,
     "metadata": {},
     "output_type": "execute_result"
    }
   ],
   "source": [
    "(digit[:,None]*m2).shape"
   ]
  },
  {
   "cell_type": "code",
   "execution_count": 119,
   "metadata": {},
   "outputs": [],
   "source": [
    "def matmul(a,b):\n",
    "    (ar,ac),(br,bc) = a.shape,b.shape\n",
    "    c = torch.zeros(ar, bc)\n",
    "    for i in range(ar):\n",
    "#       c[i,j] = (a[i,:] * b[:,j]).sum()      # previous version\n",
    "        c[i]   = (a[i,:,None] * b).sum(dim=0) # broadcast version\n",
    "    return c"
   ]
  },
  {
   "cell_type": "code",
   "execution_count": 120,
   "metadata": {},
   "outputs": [],
   "source": [
    "test_close(t1,matmul(m1, m2),eps=1e-4)"
   ]
  },
  {
   "cell_type": "code",
   "execution_count": 121,
   "metadata": {},
   "outputs": [
    {
     "name": "stdout",
     "output_type": "stream",
     "text": [
      "35.5 μs ± 22.9 μs per loop (mean ± std. dev. of 7 runs, 10 loops each)\n"
     ]
    }
   ],
   "source": [
    "%timeit -n 10 _=matmul(m1, m2)"
   ]
  },
  {
   "cell_type": "markdown",
   "metadata": {},
   "source": [
    "Computation time went from (~500ms) to < 0.1ms, an over 5000x improvement! We can now run `matmul` on the whole dataset."
   ]
  },
  {
   "cell_type": "code",
   "execution_count": 122,
   "metadata": {},
   "outputs": [
    {
     "data": {
      "text/plain": [
       "tensor([[  3.64,  -7.20, -10.31,  ...,   3.44,  10.34,   0.20],\n",
       "        [ 10.25,   5.82,  -8.40,  ...,  -9.74,   0.77,  -8.58],\n",
       "        [  1.99, -12.17,  -8.75,  ...,  -7.76,  -2.45,  -8.94],\n",
       "        ...,\n",
       "        [  8.27,  -4.62,  -3.18,  ...,   0.18,   1.49,   7.03],\n",
       "        [ -3.30,   3.29,   6.81,  ...,   5.63,  -3.52,  -7.65],\n",
       "        [  0.82,  -5.78,  -8.12,  ...,  -5.02,   5.52,   2.43]])"
      ]
     },
     "execution_count": 122,
     "metadata": {},
     "output_type": "execute_result"
    }
   ],
   "source": [
    "tr = matmul(x_train, weights)\n",
    "tr"
   ]
  },
  {
   "cell_type": "code",
   "execution_count": 123,
   "metadata": {},
   "outputs": [
    {
     "data": {
      "text/plain": [
       "torch.Size([50000, 10])"
      ]
     },
     "execution_count": 123,
     "metadata": {},
     "output_type": "execute_result"
    }
   ],
   "source": [
    "tr.shape"
   ]
  },
  {
   "cell_type": "code",
   "execution_count": 124,
   "metadata": {},
   "outputs": [
    {
     "name": "stdout",
     "output_type": "stream",
     "text": [
      "CPU times: user 834 ms, sys: 24.4 ms, total: 858 ms\n",
      "Wall time: 258 ms\n"
     ]
    }
   ],
   "source": [
    "%%time \n",
    "_=matmul(x_train, weights)"
   ]
  },
  {
   "cell_type": "markdown",
   "metadata": {},
   "source": [
    "## Einstein summation"
   ]
  },
  {
   "cell_type": "markdown",
   "metadata": {},
   "source": [
    "[Einstein summation](https://ajcr.net/Basic-guide-to-einsum/) ([einsum](https://numpy.org/doc/stable/reference/generated/numpy.einsum.html)) is a compact representation for combining products and sums in a general way. The key rules are:\n",
    "- Repeating letters between input arrays means that values along those axes will be multiplied together.\n",
    "- Omitting a letter from the output means that values along that axis will be summed."
   ]
  },
  {
   "cell_type": "markdown",
   "metadata": {},
   "source": [
    "Lets replicate matrix product using an Einstein summation.\n",
    "Consider, for example, `torch.einsum('ik,kj->ikj', a, b)`.\n",
    "An arrow `->` separates inputs (left) from outputs (right), and the inputs (`ik` and `kj`) are separated by a `,`.\n",
    "Letters are names for the dimensions, the number of letters corresponds to the rank. \n",
    "The first input matrix `a` (we're multiplying by) has `i` rows and `k` columns, `b`, the second matrix, has `k` rows and `j` columns. \n",
    "The operation will return a new rank-3 tensor with `i` faces, `k` rows, and `j` columns. \n",
    "We repeat letters between input arrays, e.g., `k` appears in both `ik` and `kj`,  to indicate that values along those axes will be multiplied together.\n",
    "In this example, each item in each row of `b` will be multiplied by each item down each column of `a` to create the `[i,k,j]` output tensor. "
   ]
  },
  {
   "cell_type": "raw",
   "metadata": {},
   "source": [
    "# c[i,j] += a[i,k] * b[k,j]\n",
    "# c[i,j] = (a[i,:] * b[:,j]).sum()\n",
    "def matmul(a,b): return torch.einsum('ik,kj->ij', a, b)"
   ]
  },
  {
   "cell_type": "markdown",
   "metadata": {},
   "source": [
    "`m1` is `[5,784]`, `m2` is `[784,10]`, so `i=5`, `k=784` and `j=10`. "
   ]
  },
  {
   "cell_type": "code",
   "execution_count": 125,
   "metadata": {},
   "outputs": [
    {
     "data": {
      "text/plain": [
       "(torch.Size([5, 784]), torch.Size([784, 10]))"
      ]
     },
     "execution_count": 125,
     "metadata": {},
     "output_type": "execute_result"
    }
   ],
   "source": [
    "m1.shape, m2.shape"
   ]
  },
  {
   "cell_type": "markdown",
   "metadata": {},
   "source": [
    "We do this torch.einsum and end up with:"
   ]
  },
  {
   "cell_type": "code",
   "execution_count": 126,
   "metadata": {},
   "outputs": [
    {
     "data": {
      "text/plain": [
       "torch.Size([5, 784, 10])"
      ]
     },
     "execution_count": 126,
     "metadata": {},
     "output_type": "execute_result"
    }
   ],
   "source": [
    "mr = torch.einsum('ik,kj->ikj', m1, m2)\n",
    "\n",
    "mr.shape"
   ]
  },
  {
   "cell_type": "markdown",
   "metadata": {},
   "source": [
    "The result contains the original 5 rows of m1, the original 10 columns of m2, and for the 784 dimension,\n",
    "they're all multiplied together, because it's been copied between the two arguments to the einsum.\n",
    "If we now sum up that over the (784) dimension (axis 1) we get back the original matrix multiply result.  \n",
    "With this Einstein summation version, we get back the same thing. \n",
    "Its taken each of these columns by rows, multiplied them together to get a 5x784x10, \n",
    "and then added up that 784 for each one, which is what matrix multiplication does. "
   ]
  },
  {
   "cell_type": "code",
   "execution_count": 127,
   "metadata": {},
   "outputs": [
    {
     "data": {
      "text/plain": [
       "tensor([[  5.60,   6.73, -25.61,   6.27,  -9.12,  -3.11,   4.00,  12.41, -10.55,   7.59],\n",
       "        [  1.54,  -0.91, -10.85,   1.80,   3.27,   1.86,   8.57,   3.76,   4.06,   2.44],\n",
       "        [  2.32,  -9.83,  -5.43, -11.98,  -9.66,   0.77,  10.45,   5.41,   8.30,   2.56],\n",
       "        [  4.10,  -0.14,   5.77,   4.36, -16.41,   0.73,  -4.72, -11.86,  -9.75, -13.01],\n",
       "        [  6.69,   2.58,  -3.73,   2.09,  -4.37,  -8.28,  -3.65, -14.99,   1.40,   1.43]])"
      ]
     },
     "execution_count": 127,
     "metadata": {},
     "output_type": "execute_result"
    }
   ],
   "source": [
    "mr.sum(1)"
   ]
  },
  {
   "cell_type": "markdown",
   "metadata": {},
   "source": [
    "Second rule: if we omit a letter from the output, those values will be (automatically) summed. \n",
    "If we remove the `k` in the output, e.g., `ik,kj->ij`, that sum over the `k` dimmension happens automatically. "
   ]
  },
  {
   "cell_type": "code",
   "execution_count": 128,
   "metadata": {},
   "outputs": [
    {
     "data": {
      "text/plain": [
       "tensor([[  5.60,   6.73, -25.61,   6.27,  -9.12,  -3.11,   4.00,  12.41, -10.55,   7.59],\n",
       "        [  1.54,  -0.91, -10.85,   1.80,   3.27,   1.86,   8.57,   3.76,   4.06,   2.44],\n",
       "        [  2.32,  -9.83,  -5.43, -11.98,  -9.66,   0.77,  10.45,   5.41,   8.30,   2.56],\n",
       "        [  4.10,  -0.14,   5.77,   4.36, -16.41,   0.73,  -4.72, -11.86,  -9.75, -13.01],\n",
       "        [  6.69,   2.58,  -3.73,   2.09,  -4.37,  -8.28,  -3.65, -14.99,   1.40,   1.43]])"
      ]
     },
     "execution_count": 128,
     "metadata": {},
     "output_type": "execute_result"
    }
   ],
   "source": [
    "torch.einsum('ik,kj->ij', m1, m2)     # automated the sum."
   ]
  },
  {
   "cell_type": "markdown",
   "metadata": {},
   "source": [
    "Einstein summation notation takes practice but it is a convenient, effecient way of thinking about what's going on, and can simplify code.  \n",
    "It doesn't have to be a sum, we don't have to omit any letters when just doing products. \n",
    "Lets define `matmul` using `torch.einsum`, and check with `test_close()` that the original result is equal. "
   ]
  },
  {
   "cell_type": "code",
   "execution_count": 129,
   "metadata": {},
   "outputs": [],
   "source": [
    "def matmul(a,b): return torch.einsum('ik,kj->ij', a, b)"
   ]
  },
  {
   "cell_type": "code",
   "execution_count": 130,
   "metadata": {},
   "outputs": [],
   "source": [
    "test_close(tr, matmul(x_train, weights), eps=1e-3)"
   ]
  },
  {
   "cell_type": "markdown",
   "metadata": {},
   "source": [
    "The einsum takes ~ 9 ms, compared to ~ 900 ms for the full dataset, 100x faster than the fast broadcasting approach."
   ]
  },
  {
   "cell_type": "code",
   "execution_count": 131,
   "metadata": {},
   "outputs": [
    {
     "name": "stdout",
     "output_type": "stream",
     "text": [
      "4.4 ms ± 52.3 μs per loop (mean ± std. dev. of 7 runs, 1 loop each)\n"
     ]
    }
   ],
   "source": [
    "%timeit -n 1 _=matmul(x_train, weights)   # much faster..."
   ]
  },
  {
   "cell_type": "markdown",
   "metadata": {},
   "source": [
    "## Pytorch op `@`"
   ]
  },
  {
   "cell_type": "markdown",
   "metadata": {},
   "source": [
    "We can use Pytorch's function [`torch.matmul()`](https://pytorch.org/docs/stable/generated/torch.matmul.html) or its shorthand operator `@` directly for matrix multiplication."
   ]
  },
  {
   "cell_type": "code",
   "execution_count": 132,
   "metadata": {},
   "outputs": [],
   "source": [
    "test_close(tr, x_train@weights, eps=1e-3)"
   ]
  },
  {
   "cell_type": "code",
   "execution_count": 133,
   "metadata": {},
   "outputs": [
    {
     "name": "stdout",
     "output_type": "stream",
     "text": [
      "4.36 ms ± 192 μs per loop (mean ± std. dev. of 7 runs, 1 loop each)\n"
     ]
    }
   ],
   "source": [
    "%timeit -n 1 _=torch.matmul(x_train, weights)"
   ]
  },
  {
   "cell_type": "markdown",
   "metadata": {},
   "source": [
    "## Parallel and CUDA\n",
    "Let's go faster by using a GPU, and telling the GPU what we want to do in parallel, one at a time.  \n",
    "We write in pure Python something that works \"like a GPU\", except it won't be in parallel, so it won't be fast.\n",
    "First we define a function that calculates just one thing, \n",
    "even if many other things are happening at the same time, it won't interact with anything else.\n",
    "For a matrix multiplication lets define a function which just fills in a single item of the result, e.g., row zero, column zero.\n",
    "We define a new `matmul(grid, a,b,c)` where we pass in `grid` as the coordinates to fill in.\n",
    "Inside we destructure them into `i` (row) and `j` (column). \n",
    "We check that i and j are inside the bounds of the output matrix `c`. \n",
    "We start at `tmp=0` and loop through all of the columns of `a` and all the rows of `b` for `i` and `j`.\n",
    "At the end assign `tmp` to the corresponding output entry `c[i,j]`. "
   ]
  },
  {
   "cell_type": "code",
   "execution_count": 134,
   "metadata": {},
   "outputs": [],
   "source": [
    "def matmul(grid, a,b,c):\n",
    "    i,j = grid\n",
    "    if i < c.shape[0] and j < c.shape[1]: #check that i and j are inside the bounds of the output matrix c. \n",
    "        tmp = 0. #start at tmp=0 and loop through all of the columns of a and all the rows of b\n",
    "        for k in range(a.shape[1]): tmp += a[i, k] * b[k, j]\n",
    "        c[i,j] = tmp"
   ]
  },
  {
   "cell_type": "markdown",
   "metadata": {},
   "source": [
    "We'll pass it the matrices `m1, m2` we want to  multiply, and a tensor `res` pre-filled with zeros for the results.\n",
    "We call matmul for location (0, 0), passing the two matrices and `res`, and we get the answer in the cell `[0, 0]`.  "
   ]
  },
  {
   "cell_type": "code",
   "execution_count": 135,
   "metadata": {},
   "outputs": [
    {
     "data": {
      "text/plain": [
       "tensor([[5.60, 0.00, 0.00, 0.00, 0.00, 0.00, 0.00, 0.00, 0.00, 0.00],\n",
       "        [0.00, 0.00, 0.00, 0.00, 0.00, 0.00, 0.00, 0.00, 0.00, 0.00],\n",
       "        [0.00, 0.00, 0.00, 0.00, 0.00, 0.00, 0.00, 0.00, 0.00, 0.00],\n",
       "        [0.00, 0.00, 0.00, 0.00, 0.00, 0.00, 0.00, 0.00, 0.00, 0.00],\n",
       "        [0.00, 0.00, 0.00, 0.00, 0.00, 0.00, 0.00, 0.00, 0.00, 0.00]])"
      ]
     },
     "execution_count": 135,
     "metadata": {},
     "output_type": "execute_result"
    }
   ],
   "source": [
    "res = torch.zeros(ar, bc)\n",
    "matmul((0,0), m1, m2, res)\n",
    "res"
   ]
  },
  {
   "cell_type": "markdown",
   "metadata": {},
   "source": [
    "We can call this `matmul` rows * columns times, each time with a different grid, in parallel,\n",
    "because none of the different locations interact with any other location. \n",
    "A `kernel` is a piece of code which can calculate (a little piece of) an output on a GPU.   \n",
    "<br>\n",
    "We define `launch_kernel()`, pass it the `kernel` function, \n",
    "how many rows `grid_x` and columns `grid_y` are in the output grid, and any arguments needed to calculate it.\n",
    "In Python, `*args` says any additional arguments that you pass are going to be put into an array `args`. \n",
    "<br>\n",
    "`launch_kernel` will use `i` to loop through the rows of `a`, and for each row of `a`, \n",
    "will use `j` to loop through the columns of `b`, and call the `kernel`, (e.g., `matmul`), on that grid location.\n",
    "It will be passing in `m1, m2,` and `res`, as `*args` is going to unpack those and pass them as 3 separate arguments. "
   ]
  },
  {
   "cell_type": "code",
   "execution_count": 136,
   "metadata": {},
   "outputs": [],
   "source": [
    "def launch_kernel(kernel, grid_x, grid_y, *args, **kwargs):\n",
    "    for i in range(grid_x):\n",
    "        for j in range(grid_y): \n",
    "            kernel((i,j), *args, **kwargs)"
   ]
  },
  {
   "cell_type": "markdown",
   "metadata": {},
   "source": [
    "We call `launch_kernel(matmul, ar, bc, m1, m2, res)` with `ar` all the rows of `a`, \n",
    "`bc` all the columns of `b`, and then the `*args`: `m1`, the first matrix, `m2`, the second matrix, \n",
    "and `res`, another `torch.zeros`.\n",
    "The result `res` is the same matrix. "
   ]
  },
  {
   "cell_type": "code",
   "execution_count": 137,
   "metadata": {},
   "outputs": [
    {
     "data": {
      "text/plain": [
       "(5, 10)"
      ]
     },
     "execution_count": 137,
     "metadata": {},
     "output_type": "execute_result"
    }
   ],
   "source": [
    "ar = m1.shape[0]; bc=m2.shape[1]\n",
    "ar, bc"
   ]
  },
  {
   "cell_type": "code",
   "execution_count": 138,
   "metadata": {},
   "outputs": [
    {
     "data": {
      "text/plain": [
       "tensor([[  5.60,   6.73, -25.61,   6.27,  -9.12,  -3.11,   4.00,  12.41, -10.55,   7.59],\n",
       "        [  1.54,  -0.91, -10.85,   1.80,   3.27,   1.86,   8.57,   3.76,   4.06,   2.44],\n",
       "        [  2.32,  -9.83,  -5.43, -11.98,  -9.66,   0.77,  10.45,   5.41,   8.30,   2.56],\n",
       "        [  4.10,  -0.14,   5.77,   4.36, -16.41,   0.73,  -4.72, -11.86,  -9.75, -13.01],\n",
       "        [  6.69,   2.58,  -3.73,   2.09,  -4.37,  -8.28,  -3.65, -14.99,   1.40,   1.43]])"
      ]
     },
     "execution_count": 138,
     "metadata": {},
     "output_type": "execute_result"
    }
   ],
   "source": [
    "res = torch.zeros(ar, bc)\n",
    "launch_kernel(matmul, ar, bc, m1, m2, res)\n",
    "res"
   ]
  },
  {
   "cell_type": "code",
   "execution_count": 139,
   "metadata": {},
   "outputs": [
    {
     "name": "stdout",
     "output_type": "stream",
     "text": [
      "170 ms ± 2.12 ms per loop (mean ± std. dev. of 7 runs, 1 loop each)\n"
     ]
    }
   ],
   "source": [
    "%timeit -n 1 _=launch_kernel(matmul, x_train.shape[0], weights.shape[1], x_train, weights, res)"
   ]
  },
  {
   "cell_type": "markdown",
   "metadata": {},
   "source": [
    "### CUDA SIMULATOR\n",
    "To do it in parallel, we have to use CUDA the platform and API for Nvidia GPUs. \n",
    "The Numba compiler can produce CUDA code, and is the easiest way to program in CUDA from Python.\n",
    "But CUDA code only works on an NVIDIA GPU. \n",
    "Mac GPUs are starting to get a little support from machine learning libraries,  but it's taking quite a while. \n",
    "<br>\n",
    "In a computer without an NVIDIA GPU, we can use the **Numba simulator**, enabled by setting the environment variable `NUMBA_ENABLE_CUDASIM` to 1 prior to importing Numba. \n",
    "<mark> Todo: check how to make the simulator work.\n",
    "Tried 25/5/27 still not clear...</mark>"
   ]
  },
  {
   "cell_type": "code",
   "execution_count": 140,
   "metadata": {},
   "outputs": [
    {
     "name": "stdout",
     "output_type": "stream",
     "text": [
      "NUMBA_ENABLE_CUDASIM=1\n"
     ]
    }
   ],
   "source": [
    "CUDASIM = True\n",
    "if CUDASIM:\n",
    "    import os\n",
    "    os.environ['NUMBA_ENABLE_CUDASIM']='1'\n",
    "\n",
    "!export | grep CUDA"
   ]
  },
  {
   "cell_type": "code",
   "execution_count": 141,
   "metadata": {},
   "outputs": [],
   "source": [
    "from numba import cuda"
   ]
  },
  {
   "cell_type": "markdown",
   "metadata": {},
   "source": [
    "Instead of `@njit` we write `@cuda.jit`, and it behaves a little bit differently.\n",
    "The earlier (Python) `matmul` and the `@cuda.jit` `matmul` are similar. \n",
    "But instead of passing in the grid, we call `cuda.grid`, saying how many dimensions does the grid has. \n",
    "Numba does the unpack and passing it so we don't have to pass over the grid.\n",
    "So it doesn't need the `grid`.  \n",
    "The decorator indicates to compile that function into CUDA code. "
   ]
  },
  {
   "cell_type": "code",
   "execution_count": 142,
   "metadata": {},
   "outputs": [],
   "source": [
    "@cuda.jit\n",
    "def matmul(a,b,c):\n",
    "    i, j = cuda.grid(2)\n",
    "    if i < c.shape[0] and j < c.shape[1]:\n",
    "        tmp = 0.\n",
    "        for k in range(a.shape[1]): tmp += a[i, k] * b[k, j]\n",
    "        c[i,j] = tmp\n",
    "    cuda.syncthreads()"
   ]
  },
  {
   "cell_type": "markdown",
   "metadata": {},
   "source": [
    "We create our output tensor just like before, and use `map` `cuda.to_device` to copy the input and output tensors to the GPU."
   ]
  },
  {
   "cell_type": "code",
   "execution_count": 143,
   "metadata": {},
   "outputs": [],
   "source": [
    "r = np.zeros(tr.shape)\n",
    "m1g,m2g,rg = map(cuda.to_device, (x_train, weights,r))"
   ]
  },
  {
   "cell_type": "code",
   "execution_count": 144,
   "metadata": {},
   "outputs": [
    {
     "data": {
      "text/plain": [
       "(50000, 10)"
      ]
     },
     "execution_count": 144,
     "metadata": {},
     "output_type": "execute_result"
    }
   ],
   "source": [
    "r.shape"
   ]
  },
  {
   "cell_type": "markdown",
   "metadata": {},
   "source": [
    "CUDA has a concept of \"blocks\", TPB which is threads per block. \n",
    "No need to worry about it now, just copy this. \n",
    "It's going to call each grid item in parallel with a number of different processes.\n",
    "This is just the code which turns the grid into blocks. "
   ]
  },
  {
   "cell_type": "code",
   "execution_count": 145,
   "metadata": {},
   "outputs": [
    {
     "data": {
      "text/plain": [
       "(3125, 1)"
      ]
     },
     "execution_count": 145,
     "metadata": {},
     "output_type": "execute_result"
    }
   ],
   "source": [
    "import math\n",
    "TPB = 16\n",
    "#TPB = 2 # For simulation\n",
    "rr,rc = r.shape\n",
    "blockspergrid = (math.ceil(rr / TPB), math.ceil(rc / TPB))\n",
    "blockspergrid"
   ]
  },
  {
   "cell_type": "markdown",
   "metadata": {},
   "source": [
    "To call a function (eg `matmul`) that has @cuda.jit, we need to pass it \n",
    "in square brackets how many blocks per grid (`blockspergrid` from the previous cell) \n",
    "and how many threads per block in each of the two dimensions:\n",
    "`matmul[blockspergrid, (TPB,TPB)]`.\n",
    "And then pass in the 3 arguments to the function: a, b, and c. \n",
    "This will launch the kernel matmul on the GPU, and fill in `rg` on the GPU.\n",
    "So we need to copy it back to the CPU, (the host), with `copy_to_host`. \n",
    "`test_close` shows us that the result is similar to our original result.  "
   ]
  },
  {
   "cell_type": "code",
   "execution_count": 146,
   "metadata": {},
   "outputs": [],
   "source": [
    "matmul[blockspergrid, (TPB,TPB)](m1g,m2g,rg)\n",
    "r = rg.copy_to_host()\n",
    "test_close(tr, r, eps=1.03)"
   ]
  },
  {
   "cell_type": "markdown",
   "metadata": {},
   "source": [
    "NB: Obviously, the speed of the simulator is also much lower than that of a real device. It may be necessary to reduce the size of input data and the size of the CUDA grid in order to make debugging with the simulator tractable."
   ]
  },
  {
   "cell_type": "raw",
   "metadata": {},
   "source": [
    "%%timeit -n 1\n",
    "matmul[blockspergrid, (TPB,TPB)](m1g,m2g,rg)\n",
    "r = rg.copy_to_host()"
   ]
  },
  {
   "cell_type": "markdown",
   "metadata": {},
   "source": [
    "In a GPU is about 4 milliseconds, the PyTorch matmul on CPU was 15 milliseconds. \n",
    "We can actually go faster than that using the exact same code we had from the PyTorch up. \n",
    "But we take the tensors and write .cuda() after them so they are copied to the GPU."
   ]
  },
  {
   "cell_type": "code",
   "execution_count": 147,
   "metadata": {},
   "outputs": [],
   "source": [
    "if torch.cuda.is_available():\n",
    "    m1c,m2c = x_train.cuda(),weights.cuda()\n",
    "    %timeit -n 1 r==(m1c@m2c).cpu()"
   ]
  },
  {
   "cell_type": "markdown",
   "metadata": {},
   "source": [
    "And then copy back to the host with .cpu().\n",
    "These are our two CUDA versions.\n",
    "Now the whole thing will  run on the GPU. "
   ]
  },
  {
   "cell_type": "markdown",
   "metadata": {},
   "source": [
    "Our broadcasting version was >500ms, and our CUDA version is around 0.5ms, which is another 1000x improvement compared to broadcasting. So our total speedup is around 5 million times!"
   ]
  },
  {
   "cell_type": "markdown",
   "metadata": {},
   "source": [
    "## Using Apple MPS"
   ]
  },
  {
   "cell_type": "code",
   "execution_count": 148,
   "metadata": {},
   "outputs": [
    {
     "name": "stdout",
     "output_type": "stream",
     "text": [
      "MPS device is available.\n"
     ]
    }
   ],
   "source": [
    "import torch\n",
    "\n",
    "if torch.backends.mps.is_available():\n",
    "    mps_device = torch.device(\"mps\")\n",
    "    print(\"MPS device is available.\")\n",
    "else:\n",
    "    print(\"MPS device is not available.\")\n",
    "    mps_device = torch.device(\"cpu\") # Fallback to CPU if MPS is not available"
   ]
  },
  {
   "cell_type": "code",
   "execution_count": 149,
   "metadata": {},
   "outputs": [],
   "source": [
    "m1 = x_valid[:5]\n",
    "m2 = weights\n",
    "A = m1.to(mps_device)\n",
    "B = m2.to(mps_device)"
   ]
  },
  {
   "cell_type": "code",
   "execution_count": 150,
   "metadata": {},
   "outputs": [
    {
     "name": "stdout",
     "output_type": "stream",
     "text": [
      "CPU times: user 184 ms, sys: 40.8 ms, total: 225 ms\n",
      "Wall time: 60.5 ms\n"
     ]
    },
    {
     "data": {
      "text/plain": [
       "tensor([[  5.60,   6.73, -25.61,   6.27,  -9.12,  -3.11,   4.00,  12.41, -10.55,   7.59],\n",
       "        [  1.54,  -0.91, -10.85,   1.80,   3.27,   1.86,   8.57,   3.76,   4.06,   2.44],\n",
       "        [  2.32,  -9.83,  -5.43, -11.98,  -9.66,   0.77,  10.45,   5.41,   8.30,   2.56],\n",
       "        [  4.10,  -0.14,   5.77,   4.36, -16.41,   0.73,  -4.72, -11.86,  -9.75, -13.01],\n",
       "        [  6.69,   2.58,  -3.73,   2.09,  -4.37,  -8.28,  -3.65, -14.99,   1.40,   1.43]], device='mps:0')"
      ]
     },
     "execution_count": 150,
     "metadata": {},
     "output_type": "execute_result"
    }
   ],
   "source": [
    "%time C = A @ B  # Or: C = torch.matmul(A, B\n",
    "C"
   ]
  },
  {
   "cell_type": "code",
   "execution_count": 151,
   "metadata": {},
   "outputs": [],
   "source": [
    "import torch.mps\n",
    "\n",
    "def matmul_mps(a, b):\n",
    "    \"\"\"\n",
    "    Performs matrix multiplication of a * b using PyTorch on the MPS device.\n",
    "     Returns:\n",
    "        torch.Tensor: The result of the matrix multiplication.\n",
    "    \"\"\"\n",
    "    if a.shape[1] != b.shape[0]:\n",
    "        raise ValueError(f\"Inner dimensions of matrices do not match: {a.shape[1]}, {b.shape[0]}\")\n",
    "\n",
    "    # float32 (torch.float) is generally preferred for performance on MPS.\n",
    "    A = a.to(mps_device)\n",
    "    B = b.to(mps_device)\n",
    "    C = A @ B  # Or: C = torch.matmul(A, B)\n",
    "    return C"
   ]
  },
  {
   "cell_type": "code",
   "execution_count": 152,
   "metadata": {},
   "outputs": [
    {
     "name": "stdout",
     "output_type": "stream",
     "text": [
      "13.8 ms ± 4.86 ms per loop (mean ± std. dev. of 7 runs, 10 loops each)\n"
     ]
    }
   ],
   "source": [
    "%timeit -n 10 result_matrix = matmul_mps(x_train, weights)"
   ]
  },
  {
   "cell_type": "code",
   "execution_count": 153,
   "metadata": {},
   "outputs": [
    {
     "name": "stdout",
     "output_type": "stream",
     "text": [
      "Resultant matrix size: torch.Size([50000, 10])\n"
     ]
    }
   ],
   "source": [
    "result_matrix = matmul_mps(x_train, weights)\n",
    "if result_matrix is not None:\n",
    "   #print(f\"Matrix multiplication on MPS completed in {execution_time:.4f} miliseconds.\")\n",
    "   print(f\"Resultant matrix size: {result_matrix.size()}\")\n",
    "else:\n",
    "   print(\"Matrix multiplication failed.\")"
   ]
  },
  {
   "cell_type": "markdown",
   "metadata": {},
   "source": [
    "The CPU broadcasting version was >500ms, the MPS version is ~ 15ms, which is a 33x improvement compared to broadcasting. (GPU was 1000x improvement)"
   ]
  }
 ],
 "metadata": {
  "kernelspec": {
   "display_name": "Python 3 (ipykernel)",
   "language": "python",
   "name": "python3"
  },
  "language_info": {
   "codemirror_mode": {
    "name": "ipython",
    "version": 3
   },
   "file_extension": ".py",
   "mimetype": "text/x-python",
   "name": "python",
   "nbconvert_exporter": "python",
   "pygments_lexer": "ipython3",
   "version": "3.12.8"
  },
  "toc": {
   "base_numbering": 1,
   "nav_menu": {
    "height": "309.991px",
    "width": "221.998px"
   },
   "number_sections": false,
   "sideBar": true,
   "skip_h1_title": false,
   "title_cell": "Table of Contents",
   "title_sidebar": "Contents",
   "toc_cell": false,
   "toc_position": {},
   "toc_section_display": true,
   "toc_window_display": false
  }
 },
 "nbformat": 4,
 "nbformat_minor": 4
}
